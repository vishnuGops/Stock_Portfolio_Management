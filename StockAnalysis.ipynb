{
 "cells": [
  {
   "cell_type": "code",
<<<<<<< HEAD
   "execution_count": 3,
=======
   "execution_count": 19,
>>>>>>> 19aa97b6bcaef191117d660f03d4e6c21a5e4c10
   "metadata": {},
   "outputs": [
    {
     "ename": "ModuleNotFoundError",
     "evalue": "No module named 'plotly'",
     "output_type": "error",
     "traceback": [
      "\u001b[1;31m---------------------------------------------------------------------------\u001b[0m",
      "\u001b[1;31mModuleNotFoundError\u001b[0m                       Traceback (most recent call last)",
      "Cell \u001b[1;32mIn[3], line 6\u001b[0m\n\u001b[0;32m      4\u001b[0m \u001b[38;5;28;01mfrom\u001b[39;00m \u001b[38;5;21;01msqlalchemy\u001b[39;00m \u001b[38;5;28;01mimport\u001b[39;00m create_engine\n\u001b[0;32m      5\u001b[0m \u001b[38;5;28;01mfrom\u001b[39;00m \u001b[38;5;21;01mta\u001b[39;00m \u001b[38;5;28;01mimport\u001b[39;00m add_all_ta_features\n\u001b[1;32m----> 6\u001b[0m \u001b[38;5;28;01mimport\u001b[39;00m \u001b[38;5;21;01mplotly\u001b[39;00m\u001b[38;5;21;01m.\u001b[39;00m\u001b[38;5;21;01mgraph_objs\u001b[39;00m \u001b[38;5;28;01mas\u001b[39;00m \u001b[38;5;21;01mgo\u001b[39;00m\n",
      "\u001b[1;31mModuleNotFoundError\u001b[0m: No module named 'plotly'"
     ]
    }
   ],
   "source": [
    "import pandas as pd\n",
    "import yfinance as yf\n",
    "import numpy as np\n",
    "from sqlalchemy import create_engine\n",
    "from ta import add_all_ta_features\n",
    "import plotly.graph_objs as go\n"
   ]
  },
  {
   "cell_type": "code",
<<<<<<< HEAD
   "execution_count": null,
=======
   "execution_count": 20,
>>>>>>> 19aa97b6bcaef191117d660f03d4e6c21a5e4c10
   "metadata": {},
   "outputs": [],
   "source": [
    "# portfolio = [\"AAPL\", \"DIS\",\"MSFT\", \"GOOGL\", \"NVDA\", \"DHR\", \"AMD\", \"SPY\"]\n",
    "portfolio = [\"SPY\"]"
   ]
  },
  {
   "cell_type": "code",
<<<<<<< HEAD
   "execution_count": null,
=======
   "execution_count": 21,
>>>>>>> 19aa97b6bcaef191117d660f03d4e6c21a5e4c10
   "metadata": {},
   "outputs": [],
   "source": [
    "def download_data(stock):\n",
    "    stock_data = yf.download(stock, period = \"60d\", interval = \"5m\")\n",
    "    stock_data[\"Symbol\"] = stock\n",
    "    return stock_data\n"
   ]
  },
  {
   "cell_type": "code",
<<<<<<< HEAD
   "execution_count": null,
=======
   "execution_count": 22,
>>>>>>> 19aa97b6bcaef191117d660f03d4e6c21a5e4c10
   "metadata": {},
   "outputs": [],
   "source": [
    "def initialize_DB():\n",
    "    # Replace with your database connection details\n",
    "    #only run once to create DB\n",
    "    return create_engine(\"sqlite:///my_stock_data.db\")\n",
    "\n",
    "\n",
    "\n",
    "\n",
    "def fill_DB(stock_table_data,stock):\n",
    "    # Create table if not exists\n",
    "    stock_table_data.to_sql(stock, engine, if_exists=\"replace\", index=False)\n",
    "\n",
    "    #sorted descending by date\n",
    "\n",
    "    stock_table_data = pd.read_sql_query(\"SELECT * FROM \"+stock+\" ORDER BY Date DESC\", engine)\n",
    "\n",
    "\n",
    "    # Create table if not exists\n",
    "    stock_table_data.to_sql(stock, engine, if_exists=\"replace\", index = False)\n",
    "    \n",
    "\n"
   ]
  },
  {
   "cell_type": "code",
<<<<<<< HEAD
   "execution_count": null,
=======
   "execution_count": 23,
>>>>>>> 19aa97b6bcaef191117d660f03d4e6c21a5e4c10
   "metadata": {},
   "outputs": [],
   "source": [
    "def calculateMA(stock_data):    \n",
    "    # Calculate basic indicators\n",
    "    stock_data[\"MA9\"] = stock_data[\"Close\"].rolling(window=9).mean()\n",
    "    stock_data[\"MA21\"] = stock_data[\"Close\"].rolling(window=21).mean()\n",
    "    stock_data[\"MA35\"] = stock_data[\"Close\"].rolling(window=35).mean()\n",
    "    stock_data[\"MA50\"] = stock_data[\"Close\"].rolling(window=50).mean()\n",
    "    stock_data[\"MA100\"] = stock_data[\"Close\"].rolling(window=100).mean()\n",
    "    stock_data[\"MA200\"] = stock_data[\"Close\"].rolling(window=200).mean()\n",
    "    return stock_data"
   ]
  },
  {
   "cell_type": "code",
<<<<<<< HEAD
   "execution_count": null,
=======
   "execution_count": 24,
>>>>>>> 19aa97b6bcaef191117d660f03d4e6c21a5e4c10
   "metadata": {},
   "outputs": [],
   "source": [
    "def calculateVWAP(stock_data):\n",
    "    # Calculate Typical Price\n",
    "    stock_data['Typical Price'] = (stock_data['High'] + stock_data['Low'] + stock_data['Close']) / 3\n",
    "\n",
    "    # Calculate VWAP\n",
    "    stock_data['VWAP'] = (stock_data['Typical Price'] * stock_data['Volume']).cumsum() / stock_data['Volume'].cumsum()\n",
    "\n",
    "    return stock_data"
   ]
  },
  {
   "cell_type": "code",
<<<<<<< HEAD
   "execution_count": null,
=======
   "execution_count": 25,
>>>>>>> 19aa97b6bcaef191117d660f03d4e6c21a5e4c10
   "metadata": {},
   "outputs": [],
   "source": [
    "def calculateRSI(stock_data):\n",
    "    # Calculate price differences\n",
    "    delta = stock_data['Close'].diff()\n",
    "\n",
    "    # Calculate gains and losses\n",
    "    up = delta.where(delta > 0, 0)\n",
    "    down = -delta.where(delta < 0, 0)\n",
    "\n",
    "    # Calculate average gains and losses\n",
    "    avg_gain = up.rolling(window=14).mean()\n",
    "    avg_loss = down.rolling(window=14).mean().abs()\n",
    "\n",
    "    # Calculate Relative Strength (RS) and RSI\n",
    "    RS = avg_gain / avg_loss\n",
    "    RSI = 100 - (100 / (1 + RS))\n",
    "\n",
    "    stock_data['RSI'] = RSI\n",
    "    return stock_data\n"
   ]
  },
  {
   "cell_type": "code",
<<<<<<< HEAD
   "execution_count": null,
=======
   "execution_count": 26,
>>>>>>> 19aa97b6bcaef191117d660f03d4e6c21a5e4c10
   "metadata": {},
   "outputs": [],
   "source": [
    "    \n",
    "\n",
    "def getRawData(stock_data):\n",
    "    # Convert Date to datetime\n",
    "    stock_data[\"Date\"] = pd.to_datetime(stock_data.index)\n",
    "\n",
    "    stock_data = calculateMA(stock_data)\n",
    "\n",
    "    #stock_data = calculateVWAP(stock_data)\n",
    "\n",
    "    stock_data = calculateRSI(stock_data)\n",
    "\n",
    "    # Select relevant columns\n",
    "    stock_DB_data = stock_data[[\"Date\",\"Symbol\", \"Open\", \"High\", \"Low\", \"Close\", \"Volume\", \"MA9\", \"MA21\", \"MA35\", \"MA50\", \"MA100\",\"MA200\",\"RSI\"]]\n",
    "    return stock_DB_data\n"
   ]
  },
  {
   "cell_type": "code",
<<<<<<< HEAD
   "execution_count": null,
=======
   "execution_count": 27,
>>>>>>> 19aa97b6bcaef191117d660f03d4e6c21a5e4c10
   "metadata": {},
   "outputs": [
    {
     "name": "stdout",
     "output_type": "stream",
     "text": [
      "[*********************100%%**********************]  1 of 1 completed\n"
     ]
    }
   ],
   "source": [
    "for stock in portfolio:\n",
    "    engine = initialize_DB()\n",
    "    stock_data = download_data(stock)\n",
    "    stock_table_data = getRawData(stock_data)\n",
    "    fill_DB(stock_table_data,stock)"
   ]
  },
  {
   "cell_type": "code",
<<<<<<< HEAD
   "execution_count": null,
=======
   "execution_count": 28,
>>>>>>> 19aa97b6bcaef191117d660f03d4e6c21a5e4c10
   "metadata": {},
   "outputs": [],
   "source": [
    "def plotChart(stock, symbol):\n",
    "    fig = go.Figure()\n",
    "\n",
    "    stock = stock.dropna(subset=[\"Open\", \"High\", \"Low\", \"Close\"])\n",
    "\n",
    "    fig.add_trace(go.Candlestick(x=stock[\"Date\"],\n",
    "                                open=stock[\"Open\"],\n",
    "                                high=stock[\"High\"],\n",
    "                                low=stock[\"Low\"],\n",
    "                                close=stock[\"Close\"],\n",
    "                                name=\"Stock Chart\"))\n",
    "    \n",
    "    fig.update_layout(title = symbol + \" Chart Data\",\n",
    "                    yaxis_title = \"Stock Price (USD)\")\n",
    "    \n",
    "\n",
    "    fig.update_xaxes(rangeslider_visible = True,\n",
    "                    rangeselector = dict(\n",
    "                        buttons = list([\n",
    "                            dict(count = 5, label = \"5m\", step = \"minute\", stepmode = \"backward\"),\n",
    "                            dict(count = 15, label = \"15m\", step = \"minute\", stepmode = \"backward\"),\n",
    "                            dict(count = 30, label = \"30m\", step = \"minute\", stepmode = \"backward\"),\n",
    "                            dict(count = 1, label = \"1h\", step = \"hour\", stepmode = \"todate\"),\n",
    "                            dict(count = 4, label = \"4h\", step = \"hour\", stepmode = \"todate\"),\n",
    "                            dict(step = \"all\")\n",
    "                        ])\n",
    "                    ))\n",
    "\n",
    "\n",
    "    fig.update_yaxes(range=[stock['Low'].min(), stock['High'].max()])\n",
    "\n",
    "    fig.add_trace(go.Scatter(x= stock_data.index, y = stock_data[\"MA9\"], line = dict(color = \"blue\", width = 1), name = \"MA9\"))\n",
    "    fig.add_trace(go.Scatter(x= stock_data.index, y = stock_data[\"MA21\"], line = dict(color = \"green\", width = 1), name = \"MA21\"))\n",
    "    fig.add_trace(go.Scatter(x= stock_data.index, y = stock_data[\"MA35\"], line = dict(color = \"brown\", width = 1), name = \"MA35\"))\n",
    "    fig.add_trace(go.Scatter(x= stock_data.index, y = stock_data[\"MA50\"], line = dict(color = \"black\", width = 1), name = \"MA50\"))\n",
    "    fig.add_trace(go.Scatter(x= stock_data.index, y = stock_data[\"MA100\"], line = dict(color = \"pink\", width = 1), name = \"MA100\"))\n",
    "    fig.add_trace(go.Scatter(x= stock_data.index, y = stock_data[\"MA200\"], line = dict(color = \"orange\", width = 1), name = \"MA200\"))\n",
    "\n",
    "    fig.show()"
   ]
  },
  {
   "cell_type": "code",
<<<<<<< HEAD
   "execution_count": null,
=======
   "execution_count": 31,
>>>>>>> 19aa97b6bcaef191117d660f03d4e6c21a5e4c10
   "metadata": {},
   "outputs": [
    {
     "ename": "ValueError",
     "evalue": "Mime type rendering requires nbformat>=4.2.0 but it is not installed",
     "output_type": "error",
     "traceback": [
      "\u001b[1;31m---------------------------------------------------------------------------\u001b[0m",
      "\u001b[1;31mValueError\u001b[0m                                Traceback (most recent call last)",
      "Cell \u001b[1;32mIn[31], line 4\u001b[0m\n\u001b[0;32m      2\u001b[0m stock_data \u001b[38;5;241m=\u001b[39m pd\u001b[38;5;241m.\u001b[39mread_sql_query(\u001b[38;5;124m\"\u001b[39m\u001b[38;5;124mSELECT * FROM \u001b[39m\u001b[38;5;124m\"\u001b[39m\u001b[38;5;241m+\u001b[39mstock\u001b[38;5;241m+\u001b[39m\u001b[38;5;124m\"\u001b[39m\u001b[38;5;124m WHERE DATE BETWEEN DATE(\u001b[39m\u001b[38;5;124m'\u001b[39m\u001b[38;5;124mnow\u001b[39m\u001b[38;5;124m'\u001b[39m\u001b[38;5;124m, \u001b[39m\u001b[38;5;124m'\u001b[39m\u001b[38;5;124m-1 days\u001b[39m\u001b[38;5;124m'\u001b[39m\u001b[38;5;124m) AND DATE(\u001b[39m\u001b[38;5;124m'\u001b[39m\u001b[38;5;124mnow\u001b[39m\u001b[38;5;124m'\u001b[39m\u001b[38;5;124m)\u001b[39m\u001b[38;5;124m\"\u001b[39m,engine)\n\u001b[0;32m      3\u001b[0m stock_data\u001b[38;5;241m.\u001b[39mindex \u001b[38;5;241m=\u001b[39m stock_data[\u001b[38;5;124m\"\u001b[39m\u001b[38;5;124mDate\u001b[39m\u001b[38;5;124m\"\u001b[39m]\n\u001b[1;32m----> 4\u001b[0m \u001b[43mplotChart\u001b[49m\u001b[43m(\u001b[49m\u001b[43mstock_data\u001b[49m\u001b[43m,\u001b[49m\u001b[43m \u001b[49m\u001b[43mstock\u001b[49m\u001b[43m)\u001b[49m\n\u001b[0;32m      5\u001b[0m \u001b[38;5;66;03m# print(stock_data)\u001b[39;00m\n",
      "Cell \u001b[1;32mIn[28], line 39\u001b[0m, in \u001b[0;36mplotChart\u001b[1;34m(stock, symbol)\u001b[0m\n\u001b[0;32m     36\u001b[0m fig\u001b[38;5;241m.\u001b[39madd_trace(go\u001b[38;5;241m.\u001b[39mScatter(x\u001b[38;5;241m=\u001b[39m stock_data\u001b[38;5;241m.\u001b[39mindex, y \u001b[38;5;241m=\u001b[39m stock_data[\u001b[38;5;124m\"\u001b[39m\u001b[38;5;124mMA100\u001b[39m\u001b[38;5;124m\"\u001b[39m], line \u001b[38;5;241m=\u001b[39m \u001b[38;5;28mdict\u001b[39m(color \u001b[38;5;241m=\u001b[39m \u001b[38;5;124m\"\u001b[39m\u001b[38;5;124mpink\u001b[39m\u001b[38;5;124m\"\u001b[39m, width \u001b[38;5;241m=\u001b[39m \u001b[38;5;241m1\u001b[39m), name \u001b[38;5;241m=\u001b[39m \u001b[38;5;124m\"\u001b[39m\u001b[38;5;124mMA100\u001b[39m\u001b[38;5;124m\"\u001b[39m))\n\u001b[0;32m     37\u001b[0m fig\u001b[38;5;241m.\u001b[39madd_trace(go\u001b[38;5;241m.\u001b[39mScatter(x\u001b[38;5;241m=\u001b[39m stock_data\u001b[38;5;241m.\u001b[39mindex, y \u001b[38;5;241m=\u001b[39m stock_data[\u001b[38;5;124m\"\u001b[39m\u001b[38;5;124mMA200\u001b[39m\u001b[38;5;124m\"\u001b[39m], line \u001b[38;5;241m=\u001b[39m \u001b[38;5;28mdict\u001b[39m(color \u001b[38;5;241m=\u001b[39m \u001b[38;5;124m\"\u001b[39m\u001b[38;5;124morange\u001b[39m\u001b[38;5;124m\"\u001b[39m, width \u001b[38;5;241m=\u001b[39m \u001b[38;5;241m1\u001b[39m), name \u001b[38;5;241m=\u001b[39m \u001b[38;5;124m\"\u001b[39m\u001b[38;5;124mMA200\u001b[39m\u001b[38;5;124m\"\u001b[39m))\n\u001b[1;32m---> 39\u001b[0m \u001b[43mfig\u001b[49m\u001b[38;5;241;43m.\u001b[39;49m\u001b[43mshow\u001b[49m\u001b[43m(\u001b[49m\u001b[43m)\u001b[49m\n",
      "File \u001b[1;32m~\\AppData\\Local\\Packages\\PythonSoftwareFoundation.Python.3.12_qbz5n2kfra8p0\\LocalCache\\local-packages\\Python312\\site-packages\\plotly\\basedatatypes.py:3410\u001b[0m, in \u001b[0;36mBaseFigure.show\u001b[1;34m(self, *args, **kwargs)\u001b[0m\n\u001b[0;32m   3377\u001b[0m \u001b[38;5;250m\u001b[39m\u001b[38;5;124;03m\"\"\"\u001b[39;00m\n\u001b[0;32m   3378\u001b[0m \u001b[38;5;124;03mShow a figure using either the default renderer(s) or the renderer(s)\u001b[39;00m\n\u001b[0;32m   3379\u001b[0m \u001b[38;5;124;03mspecified by the renderer argument\u001b[39;00m\n\u001b[1;32m   (...)\u001b[0m\n\u001b[0;32m   3406\u001b[0m \u001b[38;5;124;03mNone\u001b[39;00m\n\u001b[0;32m   3407\u001b[0m \u001b[38;5;124;03m\"\"\"\u001b[39;00m\n\u001b[0;32m   3408\u001b[0m \u001b[38;5;28;01mimport\u001b[39;00m \u001b[38;5;21;01mplotly\u001b[39;00m\u001b[38;5;21;01m.\u001b[39;00m\u001b[38;5;21;01mio\u001b[39;00m \u001b[38;5;28;01mas\u001b[39;00m \u001b[38;5;21;01mpio\u001b[39;00m\n\u001b[1;32m-> 3410\u001b[0m \u001b[38;5;28;01mreturn\u001b[39;00m \u001b[43mpio\u001b[49m\u001b[38;5;241;43m.\u001b[39;49m\u001b[43mshow\u001b[49m\u001b[43m(\u001b[49m\u001b[38;5;28;43mself\u001b[39;49m\u001b[43m,\u001b[49m\u001b[43m \u001b[49m\u001b[38;5;241;43m*\u001b[39;49m\u001b[43margs\u001b[49m\u001b[43m,\u001b[49m\u001b[43m \u001b[49m\u001b[38;5;241;43m*\u001b[39;49m\u001b[38;5;241;43m*\u001b[39;49m\u001b[43mkwargs\u001b[49m\u001b[43m)\u001b[49m\n",
      "File \u001b[1;32m~\\AppData\\Local\\Packages\\PythonSoftwareFoundation.Python.3.12_qbz5n2kfra8p0\\LocalCache\\local-packages\\Python312\\site-packages\\plotly\\io\\_renderers.py:394\u001b[0m, in \u001b[0;36mshow\u001b[1;34m(fig, renderer, validate, **kwargs)\u001b[0m\n\u001b[0;32m    389\u001b[0m         \u001b[38;5;28;01mraise\u001b[39;00m \u001b[38;5;167;01mValueError\u001b[39;00m(\n\u001b[0;32m    390\u001b[0m             \u001b[38;5;124m\"\u001b[39m\u001b[38;5;124mMime type rendering requires ipython but it is not installed\u001b[39m\u001b[38;5;124m\"\u001b[39m\n\u001b[0;32m    391\u001b[0m         )\n\u001b[0;32m    393\u001b[0m     \u001b[38;5;28;01mif\u001b[39;00m \u001b[38;5;129;01mnot\u001b[39;00m nbformat \u001b[38;5;129;01mor\u001b[39;00m Version(nbformat\u001b[38;5;241m.\u001b[39m__version__) \u001b[38;5;241m<\u001b[39m Version(\u001b[38;5;124m\"\u001b[39m\u001b[38;5;124m4.2.0\u001b[39m\u001b[38;5;124m\"\u001b[39m):\n\u001b[1;32m--> 394\u001b[0m         \u001b[38;5;28;01mraise\u001b[39;00m \u001b[38;5;167;01mValueError\u001b[39;00m(\n\u001b[0;32m    395\u001b[0m             \u001b[38;5;124m\"\u001b[39m\u001b[38;5;124mMime type rendering requires nbformat>=4.2.0 but it is not installed\u001b[39m\u001b[38;5;124m\"\u001b[39m\n\u001b[0;32m    396\u001b[0m         )\n\u001b[0;32m    398\u001b[0m     ipython_display\u001b[38;5;241m.\u001b[39mdisplay(bundle, raw\u001b[38;5;241m=\u001b[39m\u001b[38;5;28;01mTrue\u001b[39;00m)\n\u001b[0;32m    400\u001b[0m \u001b[38;5;66;03m# external renderers\u001b[39;00m\n",
      "\u001b[1;31mValueError\u001b[0m: Mime type rendering requires nbformat>=4.2.0 but it is not installed"
     ]
    }
   ],
   "source": [
    "for stock in portfolio:\n",
    "    stock_data = pd.read_sql_query(\"SELECT * FROM \"+stock+\" WHERE DATE BETWEEN DATE('now', '-1 days') AND DATE('now')\",engine)\n",
    "    stock_data.index = stock_data[\"Date\"]\n",
    "    plotChart(stock_data, stock)\n",
    "    # print(stock_data)\n",
    "    "
   ]
  },
  {
   "cell_type": "code",
   "execution_count": null,
   "metadata": {},
   "outputs": [],
   "source": [
    "# create method to use the existing database engine    \n",
    "def analyse_data():\n",
    "    engine = initialize_DB()\n",
    "    overbought_days = pd.DataFrame()\n",
    "\n",
    "    for stock in portfolio:\n",
    "        # Example 1: Find all days with RSI above 70 (overbought)\n",
    "        overbought_days = pd.concat([overbought_days, pd.read_sql_query(\n",
    "        \"SELECT DATE, SYMBOL, CLOSE, RSI FROM \"+stock+\" WHERE RSI > 70 AND DATE BETWEEN DATE('now', '-5 days') AND DATE('now')\", engine)], ignore_index=True)\n",
    "\n",
    "    # # Example 2: Calculate average volume for days with MA20 above Close\n",
    "    # avg_vol_above_ma20 = pd.read_sql_query(\n",
    "    #     \"SELECT * FROM AAPL WHERE MA21 > Close\", engine)\n",
    "    \n",
    "    overbought_days.to_sql(\"Overbought_stocks\", engine, index=False, if_exists=\"replace\")\n",
    "    print(overbought_days)\n"
   ]
  },
  {
   "cell_type": "code",
   "execution_count": null,
   "metadata": {},
   "outputs": [
    {
     "name": "stdout",
     "output_type": "stream",
     "text": [
      "                           Date Symbol       Close        RSI\n",
      "0    2023-12-27 13:55:00.000000   AAPL  193.381805  79.663264\n",
      "1    2023-12-27 13:50:00.000000   AAPL  193.429993  85.697857\n",
      "2    2023-12-27 13:45:00.000000   AAPL  193.400101  79.339310\n",
      "3    2023-12-27 13:40:00.000000   AAPL  193.274994  72.912301\n",
      "4    2023-12-27 13:35:00.000000   AAPL  193.110001  74.220382\n",
      "..                          ...    ...         ...        ...\n",
      "190  2023-12-26 10:30:00.000000    SPY  475.040009  86.180034\n",
      "191  2023-12-26 10:25:00.000000    SPY  474.864990  87.911144\n",
      "192  2023-12-26 10:20:00.000000    SPY  474.899994  80.807882\n",
      "193  2023-12-26 10:15:00.000000    SPY  474.850006  81.113187\n",
      "194  2023-12-26 10:10:00.000000    SPY  474.885010  74.182129\n",
      "\n",
      "[195 rows x 4 columns]\n"
     ]
    }
   ],
   "source": [
    "analyse_data()"
   ]
  },
  {
   "cell_type": "code",
   "execution_count": null,
   "metadata": {},
   "outputs": [],
   "source": [
    "\n",
    "\n"
   ]
  },
  {
   "cell_type": "code",
   "execution_count": null,
   "metadata": {},
   "outputs": [],
   "source": []
  },
  {
   "cell_type": "code",
   "execution_count": null,
   "metadata": {},
   "outputs": [],
   "source": [
    "#to kill or dispose the database\n",
    "# engine.dispose()"
   ]
  },
  {
   "cell_type": "code",
   "execution_count": null,
   "metadata": {},
   "outputs": [],
   "source": [
    "#delete table from DB\n",
    "# pd.read_sql_query(\"DROP TABLE overbought_days\", engine)"
   ]
  },
  {
   "cell_type": "code",
   "execution_count": null,
   "metadata": {},
   "outputs": [],
   "source": []
  }
 ],
 "metadata": {
  "kernelspec": {
   "display_name": "Python 3",
   "language": "python",
   "name": "python3"
  },
  "language_info": {
   "codemirror_mode": {
    "name": "ipython",
    "version": 3
   },
   "file_extension": ".py",
   "mimetype": "text/x-python",
   "name": "python",
   "nbconvert_exporter": "python",
   "pygments_lexer": "ipython3",
<<<<<<< HEAD
   "version": "3.10.6"
=======
   "version": "3.12.7"
>>>>>>> 19aa97b6bcaef191117d660f03d4e6c21a5e4c10
  }
 },
 "nbformat": 4,
 "nbformat_minor": 2
}
