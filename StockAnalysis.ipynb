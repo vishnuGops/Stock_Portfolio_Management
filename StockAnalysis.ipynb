{
 "cells": [
  {
   "cell_type": "code",
   "execution_count": 3,
   "metadata": {},
   "outputs": [],
   "source": [
    "import pandas as pd\n",
    "import yfinance as yf\n",
    "from sqlalchemy import create_engine\n",
    "from ta import add_all_ta_features\n"
   ]
  },
  {
   "cell_type": "code",
   "execution_count": 4,
   "metadata": {},
   "outputs": [],
   "source": [
    "portfolio = [\"AAPL\", \"DIS\",\"MSFT\", \"GOOGL\", \"NVDA\", \"DHR\", \"AMD\", \"SPY\"]"
   ]
  },
  {
   "cell_type": "code",
   "execution_count": 52,
   "metadata": {},
   "outputs": [],
   "source": [
    "def download_data(stock):\n",
    "    stock_data = yf.download(stock, start=\"2004-1-01\", period=\"max\")\n",
    "    stock_data[\"Symbol\"] = stock\n",
    "    return stock_data\n"
   ]
  },
  {
   "cell_type": "code",
   "execution_count": 6,
   "metadata": {},
   "outputs": [],
   "source": [
    "def initialize_DB():\n",
    "    # Replace with your database connection details\n",
    "    #only run once to create DB\n",
    "    return create_engine(\"sqlite:///my_stock_data.db\")\n",
    "\n",
    "\n",
    "\n",
    "\n",
    "def fill_DB(stock_table_data,stock):\n",
    "    # Create table if not exists\n",
    "    stock_table_data.to_sql(stock, engine, if_exists=\"replace\", index=False)\n",
    "\n",
    "    #sorted descending by date\n",
    "\n",
    "    stock_table_data = pd.read_sql_query(\"SELECT * FROM \"+stock+\" ORDER BY Date DESC\", engine)\n",
    "\n",
    "\n",
    "    # Create table if not exists\n",
    "    stock_table_data.to_sql(stock, engine, if_exists=\"replace\", index=False)\n",
    "    \n",
    "\n"
   ]
  },
  {
   "cell_type": "code",
   "execution_count": 7,
   "metadata": {},
   "outputs": [],
   "source": [
    "def calculateMA(stock_data):    \n",
    "    # Calculate basic indicators\n",
    "    stock_data[\"MA9\"] = stock_data[\"Close\"].rolling(window=9).mean()\n",
    "    stock_data[\"MA21\"] = stock_data[\"Close\"].rolling(window=21).mean()\n",
    "    stock_data[\"MA35\"] = stock_data[\"Close\"].rolling(window=35).mean()\n",
    "    stock_data[\"MA50\"] = stock_data[\"Close\"].rolling(window=50).mean()\n",
    "    stock_data[\"MA100\"] = stock_data[\"Close\"].rolling(window=100).mean()\n",
    "    stock_data[\"MA200\"] = stock_data[\"Close\"].rolling(window=200).mean()\n",
    "    return stock_data"
   ]
  },
  {
   "cell_type": "code",
   "execution_count": 8,
   "metadata": {},
   "outputs": [],
   "source": [
    "def calculateVWAP(stock_data):\n",
    "    # Calculate Typical Price\n",
    "    stock_data['Typical Price'] = (stock_data['High'] + stock_data['Low'] + stock_data['Close']) / 3\n",
    "\n",
    "    # Calculate VWAP\n",
    "    stock_data['VWAP'] = (stock_data['Typical Price'] * stock_data['Volume']).cumsum() / stock_data['Volume'].cumsum()\n",
    "\n",
    "    return stock_data"
   ]
  },
  {
   "cell_type": "code",
   "execution_count": 9,
   "metadata": {},
   "outputs": [],
   "source": [
    "def calculateRSI(stock_data):\n",
    "    # Calculate price differences\n",
    "    delta = stock_data['Close'].diff()\n",
    "\n",
    "    # Calculate gains and losses\n",
    "    up = delta.where(delta > 0, 0)\n",
    "    down = -delta.where(delta < 0, 0)\n",
    "\n",
    "    # Calculate average gains and losses\n",
    "    avg_gain = up.rolling(window=14).mean()\n",
    "    avg_loss = down.rolling(window=14).mean().abs()\n",
    "\n",
    "    # Calculate Relative Strength (RS) and RSI\n",
    "    RS = avg_gain / avg_loss\n",
    "    RSI = 100 - (100 / (1 + RS))\n",
    "\n",
    "    stock_data['RSI'] = RSI\n",
    "    return stock_data\n"
   ]
  },
  {
   "cell_type": "code",
   "execution_count": 53,
   "metadata": {},
   "outputs": [],
   "source": [
    "    \n",
    "\n",
    "def getRawData(stock_data):\n",
    "    # Convert Date to datetime\n",
    "    stock_data[\"Date\"] = pd.to_datetime(stock_data.index)\n",
    "\n",
    "    stock_data = calculateMA(stock_data)\n",
    "\n",
    "    #stock_data = calculateVWAP(stock_data)\n",
    "\n",
    "    stock_data = calculateRSI(stock_data)\n",
    "\n",
    "    # Select relevant columns\n",
    "    stock_DB_data = stock_data[[\"Date\",\"Symbol\", \"Open\", \"High\", \"Low\", \"Close\", \"Volume\", \"MA9\", \"MA21\", \"MA35\", \"MA50\", \"MA100\",\"MA200\",\"RSI\"]]\n",
    "    return stock_DB_data\n"
   ]
  },
  {
   "cell_type": "code",
   "execution_count": 54,
   "metadata": {},
   "outputs": [
    {
     "name": "stdout",
     "output_type": "stream",
     "text": [
      "[*********************100%%**********************]  1 of 1 completed\n",
      "[*********************100%%**********************]  1 of 1 completed\n",
      "[*********************100%%**********************]  1 of 1 completed\n",
      "[*********************100%%**********************]  1 of 1 completed\n",
      "[*********************100%%**********************]  1 of 1 completed\n",
      "[*********************100%%**********************]  1 of 1 completed\n",
      "[*********************100%%**********************]  1 of 1 completed\n",
      "[*********************100%%**********************]  1 of 1 completed\n"
     ]
    }
   ],
   "source": [
    "for stock in portfolio:\n",
    "    engine = initialize_DB()\n",
    "    stock_data = download_data(stock)\n",
    "    stock_table_data = getRawData(stock_data)\n",
    "    fill_DB(stock_table_data,stock)\n",
    "    "
   ]
  },
  {
   "cell_type": "code",
   "execution_count": 55,
   "metadata": {},
   "outputs": [],
   "source": [
    "# create method to use the existing database engine    \n",
    "def analyse_data():\n",
    "    engine = initialize_DB()\n",
    "    overbought_days = pd.DataFrame()\n",
    "\n",
    "    for stock in portfolio:\n",
    "        # Example 1: Find all days with RSI above 70 (overbought)\n",
    "        overbought_days = pd.concat([overbought_days, pd.read_sql_query(\n",
    "        \"SELECT DATE, SYMBOL, RSI FROM \"+stock+\" WHERE RSI > 70\", engine)], ignore_index=True)\n",
    "\n",
    "    # Example 2: Calculate average volume for days with MA20 above Close\n",
    "    avg_vol_above_ma20 = pd.read_sql_query(\n",
    "        \"SELECT * FROM AAPL WHERE MA21 > Close\", engine)\n",
    "    \n",
    "    print(overbought_days)\n",
    "    avg_vol_above_ma20"
   ]
  },
  {
   "cell_type": "code",
   "execution_count": 56,
   "metadata": {},
   "outputs": [
    {
     "name": "stdout",
     "output_type": "stream",
     "text": [
      "                            Date Symbol        RSI\n",
      "0     2023-11-30 00:00:00.000000   AAPL  71.542857\n",
      "1     2023-11-28 00:00:00.000000   AAPL  74.598625\n",
      "2     2023-11-27 00:00:00.000000   AAPL  77.188483\n",
      "3     2023-11-24 00:00:00.000000   AAPL  80.522506\n",
      "4     2023-11-22 00:00:00.000000   AAPL  82.102790\n",
      "...                          ...    ...        ...\n",
      "7272  2004-04-13 00:00:00.000000    SPY  71.379730\n",
      "7273  2004-04-12 00:00:00.000000    SPY  85.170099\n",
      "7274  2004-01-26 00:00:00.000000    SPY  71.094680\n",
      "7275  2004-01-23 00:00:00.000000    SPY  70.253122\n",
      "7276  2004-01-22 00:00:00.000000    SPY  73.705157\n",
      "\n",
      "[7277 rows x 3 columns]\n"
     ]
    }
   ],
   "source": [
    "analyse_data()\n"
   ]
  },
  {
   "cell_type": "code",
   "execution_count": null,
   "metadata": {},
   "outputs": [],
   "source": [
    "\n",
    "\n"
   ]
  },
  {
   "cell_type": "code",
   "execution_count": null,
   "metadata": {},
   "outputs": [],
   "source": []
  },
  {
   "cell_type": "code",
   "execution_count": null,
   "metadata": {},
   "outputs": [],
   "source": [
    "#to kill or dispose the database\n",
    "engine.dispose()"
   ]
  },
  {
   "cell_type": "code",
   "execution_count": null,
   "metadata": {},
   "outputs": [],
   "source": [
    "#delete table from DB\n",
    "pd.read_sql_query(\"DROP TABLE AAPL\", engine)"
   ]
  },
  {
   "cell_type": "code",
   "execution_count": null,
   "metadata": {},
   "outputs": [],
   "source": []
  }
 ],
 "metadata": {
  "kernelspec": {
   "display_name": "Python 3",
   "language": "python",
   "name": "python3"
  },
  "language_info": {
   "codemirror_mode": {
    "name": "ipython",
    "version": 3
   },
   "file_extension": ".py",
   "mimetype": "text/x-python",
   "name": "python",
   "nbconvert_exporter": "python",
   "pygments_lexer": "ipython3",
   "version": "3.11.7"
  }
 },
 "nbformat": 4,
 "nbformat_minor": 2
}
