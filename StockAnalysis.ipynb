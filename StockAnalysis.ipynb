{
 "cells": [
  {
   "cell_type": "code",
   "execution_count": 1,
   "metadata": {},
   "outputs": [],
   "source": [
    "import pandas as pd\n",
    "import yfinance as yf\n",
    "from sqlalchemy import create_engine\n",
    "from ta import add_all_ta_features\n"
   ]
  },
  {
   "cell_type": "code",
   "execution_count": 21,
   "metadata": {},
   "outputs": [
    {
     "name": "stdout",
     "output_type": "stream",
     "text": [
      "[*********************100%%**********************]  1 of 1 completed\n"
     ]
    }
   ],
   "source": [
    "aapl_data = yf.download(\"AAPL\", period=\"max\")\n"
   ]
  },
  {
   "cell_type": "code",
   "execution_count": 24,
   "metadata": {},
   "outputs": [
    {
     "name": "stderr",
     "output_type": "stream",
     "text": [
      "C:\\Users\\vishv\\AppData\\Local\\Temp\\ipykernel_25444\\3720966964.py:2: SettingWithCopyWarning: \n",
      "A value is trying to be set on a copy of a slice from a DataFrame.\n",
      "Try using .loc[row_indexer,col_indexer] = value instead\n",
      "\n",
      "See the caveats in the documentation: https://pandas.pydata.org/pandas-docs/stable/user_guide/indexing.html#returning-a-view-versus-a-copy\n",
      "  aapl_data[\"Date\"] = pd.to_datetime(aapl_data.index)\n",
      "C:\\Users\\vishv\\AppData\\Local\\Temp\\ipykernel_25444\\3720966964.py:5: SettingWithCopyWarning: \n",
      "A value is trying to be set on a copy of a slice from a DataFrame.\n",
      "Try using .loc[row_indexer,col_indexer] = value instead\n",
      "\n",
      "See the caveats in the documentation: https://pandas.pydata.org/pandas-docs/stable/user_guide/indexing.html#returning-a-view-versus-a-copy\n",
      "  aapl_data[\"MA9\"] = aapl_data[\"Close\"].rolling(window=9).mean()\n",
      "C:\\Users\\vishv\\AppData\\Local\\Temp\\ipykernel_25444\\3720966964.py:6: SettingWithCopyWarning: \n",
      "A value is trying to be set on a copy of a slice from a DataFrame.\n",
      "Try using .loc[row_indexer,col_indexer] = value instead\n",
      "\n",
      "See the caveats in the documentation: https://pandas.pydata.org/pandas-docs/stable/user_guide/indexing.html#returning-a-view-versus-a-copy\n",
      "  aapl_data[\"MA21\"] = aapl_data[\"Close\"].rolling(window=21).mean()\n",
      "C:\\Users\\vishv\\AppData\\Local\\Temp\\ipykernel_25444\\3720966964.py:7: SettingWithCopyWarning: \n",
      "A value is trying to be set on a copy of a slice from a DataFrame.\n",
      "Try using .loc[row_indexer,col_indexer] = value instead\n",
      "\n",
      "See the caveats in the documentation: https://pandas.pydata.org/pandas-docs/stable/user_guide/indexing.html#returning-a-view-versus-a-copy\n",
      "  aapl_data[\"MA35\"] = aapl_data[\"Close\"].rolling(window=35).mean()\n"
     ]
    }
   ],
   "source": [
    "# Convert Date to datetime\n",
    "aapl_data[\"Date\"] = pd.to_datetime(aapl_data.index)\n",
    "\n",
    "# Calculate basic indicators\n",
    "aapl_data[\"MA9\"] = aapl_data[\"Close\"].rolling(window=9).mean()\n",
    "aapl_data[\"MA21\"] = aapl_data[\"Close\"].rolling(window=21).mean()\n",
    "aapl_data[\"MA35\"] = aapl_data[\"Close\"].rolling(window=35).mean()\n",
    "\n",
    "# Select relevant columns\n",
    "aapl_data = aapl_data[[\"Date\", \"Open\", \"High\", \"Low\", \"Close\", \"Volume\", \"MA9\", \"MA21\", \"MA35\"]]\n"
   ]
  },
  {
   "cell_type": "code",
   "execution_count": 25,
   "metadata": {},
   "outputs": [
    {
     "data": {
      "text/plain": [
       "10834"
      ]
     },
     "execution_count": 25,
     "metadata": {},
     "output_type": "execute_result"
    }
   ],
   "source": [
    "# Replace with your database connection details\n",
    "#only run once to create DB\n",
    "#engine = create_engine(\"sqlite:///my_stock_data.db\")\n",
    "\n",
    "\n",
    "# Create table if not exists\n",
    "aapl_data.to_sql(\"apple_stock\", engine, if_exists=\"append\", index=False)\n"
   ]
  },
  {
   "cell_type": "code",
   "execution_count": 29,
   "metadata": {},
   "outputs": [],
   "source": [
    "#sorted descending by date\n",
    "\n",
    "aapl_data_ordered = pd.read_sql_query(\"SELECT * FROM apple_stock ORDER BY Date DESC\", engine)\n",
    "\n",
    "\n",
    "# Example 1: Find all days with RSI above 70 (overbought)\n",
    "overbought_days = pd.read_sql_query(\n",
    "    \"SELECT * FROM apple_stock WHERE MA21 > 70\", engine\n",
    ")\n",
    "\n",
    "# Example 2: Calculate average volume for days with MA20 above Close\n",
    "avg_vol_above_ma20 = pd.read_sql_query(\n",
    "    \"SELECT * FROM apple_stock WHERE MA21 > Close\", engine\n",
    ")\n"
   ]
  },
  {
   "cell_type": "code",
   "execution_count": 31,
   "metadata": {},
   "outputs": [
    {
     "data": {
      "text/plain": [
       "10834"
      ]
     },
     "execution_count": 31,
     "metadata": {},
     "output_type": "execute_result"
    }
   ],
   "source": [
    "# Create table if not exists\n",
    "aapl_data_ordered.to_sql(\"apple_stock_ordered\", engine, if_exists=\"append\", index=False)"
   ]
  },
  {
   "cell_type": "code",
   "execution_count": 28,
   "metadata": {},
   "outputs": [],
   "source": [
    "#to kill or dispose the database\n",
    "#engine.dispose()"
   ]
  },
  {
   "cell_type": "code",
   "execution_count": null,
   "metadata": {},
   "outputs": [],
   "source": []
  }
 ],
 "metadata": {
  "kernelspec": {
   "display_name": "Python 3",
   "language": "python",
   "name": "python3"
  },
  "language_info": {
   "codemirror_mode": {
    "name": "ipython",
    "version": 3
   },
   "file_extension": ".py",
   "mimetype": "text/x-python",
   "name": "python",
   "nbconvert_exporter": "python",
   "pygments_lexer": "ipython3",
   "version": "3.11.6"
  }
 },
 "nbformat": 4,
 "nbformat_minor": 2
}
