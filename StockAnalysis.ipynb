{
 "cells": [
  {
   "cell_type": "code",
   "execution_count": 253,
   "metadata": {},
   "outputs": [],
   "source": [
    "import pandas as pd\n",
    "import yfinance as yf\n",
    "import numpy as np\n",
    "from sqlalchemy import create_engine\n",
    "from ta import add_all_ta_features\n",
    "import plotly.graph_objs as go\n"
   ]
  },
  {
   "cell_type": "code",
   "execution_count": 254,
   "metadata": {},
   "outputs": [],
   "source": [
    "portfolio = [\"AAPL\", \"DIS\",\"MSFT\", \"GOOGL\", \"NVDA\", \"DHR\", \"AMD\", \"SPY\"]"
   ]
  },
  {
   "cell_type": "code",
   "execution_count": 255,
   "metadata": {},
   "outputs": [],
   "source": [
    "def download_data(stock):\n",
    "    stock_data = yf.download(stock, period = \"60d\", interval = \"5m\")\n",
    "    stock_data[\"Symbol\"] = stock\n",
    "    return stock_data\n"
   ]
  },
  {
   "cell_type": "code",
   "execution_count": 256,
   "metadata": {},
   "outputs": [],
   "source": [
    "def initialize_DB():\n",
    "    # Replace with your database connection details\n",
    "    #only run once to create DB\n",
    "    return create_engine(\"sqlite:///my_stock_data.db\")\n",
    "\n",
    "\n",
    "\n",
    "\n",
    "def fill_DB(stock_table_data,stock):\n",
    "    # Create table if not exists\n",
    "    stock_table_data.to_sql(stock, engine, if_exists=\"replace\", index=False)\n",
    "\n",
    "    #sorted descending by date\n",
    "\n",
    "    stock_table_data = pd.read_sql_query(\"SELECT * FROM \"+stock+\" ORDER BY Date DESC\", engine)\n",
    "\n",
    "\n",
    "    # Create table if not exists\n",
    "    stock_table_data.to_sql(stock, engine, if_exists=\"replace\", index = False)\n",
    "    \n",
    "\n"
   ]
  },
  {
   "cell_type": "code",
   "execution_count": 257,
   "metadata": {},
   "outputs": [],
   "source": [
    "def calculateMA(stock_data):    \n",
    "    # Calculate basic indicators\n",
    "    stock_data[\"MA9\"] = stock_data[\"Close\"].rolling(window=9).mean()\n",
    "    stock_data[\"MA21\"] = stock_data[\"Close\"].rolling(window=21).mean()\n",
    "    stock_data[\"MA35\"] = stock_data[\"Close\"].rolling(window=35).mean()\n",
    "    stock_data[\"MA50\"] = stock_data[\"Close\"].rolling(window=50).mean()\n",
    "    stock_data[\"MA100\"] = stock_data[\"Close\"].rolling(window=100).mean()\n",
    "    stock_data[\"MA200\"] = stock_data[\"Close\"].rolling(window=200).mean()\n",
    "    return stock_data"
   ]
  },
  {
   "cell_type": "code",
   "execution_count": 258,
   "metadata": {},
   "outputs": [],
   "source": [
    "def calculateVWAP(stock_data):\n",
    "    # Calculate Typical Price\n",
    "    stock_data['Typical Price'] = (stock_data['High'] + stock_data['Low'] + stock_data['Close']) / 3\n",
    "\n",
    "    # Calculate VWAP\n",
    "    stock_data['VWAP'] = (stock_data['Typical Price'] * stock_data['Volume']).cumsum() / stock_data['Volume'].cumsum()\n",
    "\n",
    "    return stock_data"
   ]
  },
  {
   "cell_type": "code",
   "execution_count": 259,
   "metadata": {},
   "outputs": [],
   "source": [
    "def calculateRSI(stock_data):\n",
    "    # Calculate price differences\n",
    "    delta = stock_data['Close'].diff()\n",
    "\n",
    "    # Calculate gains and losses\n",
    "    up = delta.where(delta > 0, 0)\n",
    "    down = -delta.where(delta < 0, 0)\n",
    "\n",
    "    # Calculate average gains and losses\n",
    "    avg_gain = up.rolling(window=14).mean()\n",
    "    avg_loss = down.rolling(window=14).mean().abs()\n",
    "\n",
    "    # Calculate Relative Strength (RS) and RSI\n",
    "    RS = avg_gain / avg_loss\n",
    "    RSI = 100 - (100 / (1 + RS))\n",
    "\n",
    "    stock_data['RSI'] = RSI\n",
    "    return stock_data\n"
   ]
  },
  {
   "cell_type": "code",
   "execution_count": 260,
   "metadata": {},
   "outputs": [],
   "source": [
    "    \n",
    "\n",
    "def getRawData(stock_data):\n",
    "    # Convert Date to datetime\n",
    "    stock_data[\"Date\"] = pd.to_datetime(stock_data.index)\n",
    "\n",
    "    stock_data = calculateMA(stock_data)\n",
    "\n",
    "    #stock_data = calculateVWAP(stock_data)\n",
    "\n",
    "    stock_data = calculateRSI(stock_data)\n",
    "\n",
    "    # Select relevant columns\n",
    "    stock_DB_data = stock_data[[\"Date\",\"Symbol\", \"Open\", \"High\", \"Low\", \"Close\", \"Volume\", \"MA9\", \"MA21\", \"MA35\", \"MA50\", \"MA100\",\"MA200\",\"RSI\"]]\n",
    "    return stock_DB_data\n"
   ]
  },
  {
   "cell_type": "code",
   "execution_count": 261,
   "metadata": {},
   "outputs": [
    {
     "name": "stdout",
     "output_type": "stream",
     "text": [
      "[*********************100%%**********************]  1 of 1 completed\n",
      "[*********************100%%**********************]  1 of 1 completed\n",
      "[*********************100%%**********************]  1 of 1 completed\n",
      "[*********************100%%**********************]  1 of 1 completed\n",
      "[*********************100%%**********************]  1 of 1 completed\n",
      "[*********************100%%**********************]  1 of 1 completed\n",
      "[*********************100%%**********************]  1 of 1 completed\n",
      "[*********************100%%**********************]  1 of 1 completed\n"
     ]
    }
   ],
   "source": [
    "for stock in portfolio:\n",
    "    engine = initialize_DB()\n",
    "    stock_data = download_data(stock)\n",
    "    stock_table_data = getRawData(stock_data)\n",
    "    fill_DB(stock_table_data,stock)"
   ]
  },
  {
   "cell_type": "code",
   "execution_count": 276,
   "metadata": {},
   "outputs": [],
   "source": [
    "def plotChart(stock, symbol):\n",
    "    fig = go.Figure()\n",
    "\n",
    "    stock = stock.dropna(subset=[\"Open\", \"High\", \"Low\", \"Close\"])\n",
    "\n",
    "    fig.add_trace(go.Candlestick(x=stock[\"Date\"],\n",
    "                                open=stock[\"Open\"],\n",
    "                                high=stock[\"High\"],\n",
    "                                low=stock[\"Low\"],\n",
    "                                close=stock[\"Close\"],\n",
    "                                name=\"Stock Chart\"))\n",
    "    \n",
    "    fig.update_layout(title = symbol + \" Chart Data\",\n",
    "                    yaxis_title = \"Stock Price (USD)\")\n",
    "    \n",
    "\n",
    "    fig.update_xaxes(rangeslider_visible = True,\n",
    "                    rangeselector = dict(\n",
    "                        buttons = list([\n",
    "                            dict(count = 5, label = \"5m\", step = \"minute\", stepmode = \"backward\"),\n",
    "                            dict(count = 15, label = \"15m\", step = \"minute\", stepmode = \"backward\"),\n",
    "                            dict(count = 30, label = \"30m\", step = \"minute\", stepmode = \"backward\"),\n",
    "                            dict(count = 1, label = \"1h\", step = \"hour\", stepmode = \"todate\"),\n",
    "                            dict(count = 4, label = \"4h\", step = \"hour\", stepmode = \"todate\"),\n",
    "                            dict(step = \"all\")\n",
    "                        ])\n",
    "                    ))\n",
    "\n",
    "\n",
    "    fig.update_yaxes(range=[stock['Low'].min(), stock['High'].max()])\n",
    "\n",
    "    fig.add_trace(go.Scatter(x= stock_data.index, y = stock_data[\"MA9\"], line = dict(color = \"blue\", width = 1), name = \"MA9\"))\n",
    "    fig.add_trace(go.Scatter(x= stock_data.index, y = stock_data[\"MA21\"], line = dict(color = \"green\", width = 1), name = \"MA21\"))\n",
    "    fig.add_trace(go.Scatter(x= stock_data.index, y = stock_data[\"MA35\"], line = dict(color = \"brown\", width = 1), name = \"MA35\"))\n",
    "    fig.add_trace(go.Scatter(x= stock_data.index, y = stock_data[\"MA50\"], line = dict(color = \"black\", width = 1), name = \"MA50\"))\n",
    "    fig.add_trace(go.Scatter(x= stock_data.index, y = stock_data[\"MA100\"], line = dict(color = \"pink\", width = 1), name = \"MA100\"))\n",
    "    fig.add_trace(go.Scatter(x= stock_data.index, y = stock_data[\"MA200\"], line = dict(color = \"orange\", width = 1), name = \"MA200\"))\n",
    "\n",
    "    fig.show()"
   ]
  },
  {
   "cell_type": "code",
   "execution_count": 278,
   "metadata": {},
   "outputs": [
    {
     "data": {
      "application/vnd.plotly.v1+json": {
       "config": {
        "plotlyServerURL": "https://plot.ly"
       },
       "data": [
        {
         "close": [
          193.1699981689453,
          192.86000061035156,
          192.83299255371094,
          192.90750122070312,
          193.08689880371094,
          193.0050048828125,
          192.92999267578125,
          192.94000244140625,
          193.01499938964844,
          192.89999389648438,
          192.90499877929688,
          192.96499633789062,
          192.9199981689453,
          192.82000732421875,
          193.09500122070312,
          192.95579528808594,
          193.12989807128906,
          193.14999389648438,
          193.14999389648438,
          193.0449981689453,
          192.91000366210938,
          192.85499572753906,
          193.0399932861328,
          193.0050048828125,
          193.38180541992188,
          193.42999267578125,
          193.4001007080078,
          193.27499389648438,
          193.11000061035156,
          193.0699005126953,
          192.9759979248047,
          192.91000366210938,
          192.91000366210938,
          192.92990112304688,
          192.9499969482422,
          192.8300018310547,
          192.63999938964844,
          192.58990478515625,
          192.7263946533203,
          192.5489959716797,
          192.64010620117188,
          192.70779418945312,
          192.47999572753906,
          192.360107421875,
          192.35499572753906,
          192.27499389648438,
          192.22000122070312,
          192.22999572753906,
          192.14419555664062,
          191.9499969482422,
          192.04750061035156,
          191.97000122070312,
          191.9550018310547,
          191.6199951171875,
          191.68040466308594,
          191.28500366210938,
          191.39990234375,
          191.50999450683594,
          191.5800018310547,
          191.60499572753906,
          191.6699981689453,
          191.6470947265625,
          191.6300048828125,
          191.41769409179688,
          191.40440368652344,
          191.38099670410156,
          191.6385040283203,
          191.5800018310547,
          191.72000122070312,
          191.61000061035156,
          192.06500244140625,
          192.2100067138672,
          192.4499969482422,
          192.7100067138672,
          192.6790008544922,
          192.86990356445312,
          192.72000122070312,
          192.57420349121094
         ],
         "high": [
          193.22000122070312,
          193,
          192.94000244140625,
          193.1199951171875,
          193.11500549316406,
          193.02000427246094,
          192.9470977783203,
          193.0399932861328,
          193.02999877929688,
          192.97999572753906,
          192.9799041748047,
          193.00999450683594,
          193,
          193.1300048828125,
          193.09500122070312,
          193.125,
          193.20989990234375,
          193.24000549316406,
          193.24000549316406,
          193.0800018310547,
          192.9268035888672,
          193.0500030517578,
          193.10000610351562,
          193.3800048828125,
          193.49000549316406,
          193.5,
          193.42999267578125,
          193.27999877929688,
          193.14999389648438,
          193.0749969482422,
          193.0399932861328,
          192.92990112304688,
          192.97500610351562,
          193.14999389648438,
          193.05999755859375,
          192.8800048828125,
          192.67999267578125,
          192.74000549316406,
          192.75,
          192.6929931640625,
          192.7100067138672,
          192.7100067138672,
          192.52999877929688,
          192.47000122070312,
          192.3699951171875,
          192.30999755859375,
          192.32000732421875,
          192.24000549316406,
          192.14999389648438,
          192.17999267578125,
          192.17999267578125,
          191.99000549316406,
          192.05990600585938,
          191.69000244140625,
          191.72799682617188,
          191.4199981689453,
          191.52999877929688,
          191.57809448242188,
          191.63999938964844,
          191.6999969482422,
          191.77499389648438,
          191.66000366210938,
          191.63999938964844,
          191.43690490722656,
          191.44000244140625,
          191.6699981689453,
          191.75,
          191.71499633789062,
          191.78500366210938,
          192.10000610351562,
          192.22999572753906,
          192.5399932861328,
          192.72500610351562,
          192.72000122070312,
          192.8769989013672,
          192.89720153808594,
          192.83999633789062,
          192.87989807128906
         ],
         "low": [
          192.8300018310547,
          192.72999572753906,
          192.77000427246094,
          192.88999938964844,
          192.9949951171875,
          192.91000366210938,
          192.80999755859375,
          192.91000366210938,
          192.8800048828125,
          192.86000061035156,
          192.84500122070312,
          192.88499450683594,
          192.7899932861328,
          192.75999450683594,
          192.9199981689453,
          192.8903045654297,
          193.125,
          193.08999633789062,
          192.99099731445312,
          192.875,
          192.77999877929688,
          192.7899932861328,
          192.9499969482422,
          192.92999267578125,
          193.34500122070312,
          193.36000061035156,
          193.2550048828125,
          193.110107421875,
          193.0399932861328,
          192.97000122070312,
          192.8699951171875,
          192.80999755859375,
          192.7899932861328,
          192.83999633789062,
          192.77000427246094,
          192.63999938964844,
          192.55999755859375,
          192.54010009765625,
          192.5200958251953,
          192.4600067138672,
          192.57000732421875,
          192.4700927734375,
          192.31500244140625,
          192.25999450683594,
          192.25999450683594,
          192.19000244140625,
          192.14500427246094,
          192.11109924316406,
          191.93499755859375,
          191.93499755859375,
          191.9499969482422,
          191.83999633789062,
          191.6199951171875,
          191.5500030517578,
          191.08999633789062,
          191.2729034423828,
          191.3800048828125,
          191.49000549316406,
          191.47000122070312,
          191.49000549316406,
          191.639892578125,
          191.52000427246094,
          191.39500427246094,
          191.27000427246094,
          191.10000610351562,
          191.3699951171875,
          191.5500030517578,
          191.52499389648438,
          191.5850067138672,
          191.44500732421875,
          192.0500030517578,
          192.19000244140625,
          192.44000244140625,
          192.47999572753906,
          192.60000610351562,
          192.66000366210938,
          192.47000122070312,
          192.36000061035156
         ],
         "name": "Stock Chart",
         "open": [
          192.86500549316406,
          192.83999633789062,
          192.90499877929688,
          193.0850067138672,
          193.00999450683594,
          192.92999267578125,
          192.9470977783203,
          193.00999450683594,
          192.89500427246094,
          192.91000366210938,
          192.96519470214844,
          192.9199981689453,
          192.8300018310547,
          193.08999633789062,
          192.9550018310547,
          193.125,
          193.15159606933594,
          193.1699981689453,
          193.0449981689453,
          192.91000366210938,
          192.86000061035156,
          193.02000427246094,
          192.9949951171875,
          193.3800048828125,
          193.42999267578125,
          193.40969848632812,
          193.2707977294922,
          193.11419677734375,
          193.07000732421875,
          192.97900390625,
          192.88999938964844,
          192.9199981689453,
          192.92999267578125,
          192.9499969482422,
          192.82969665527344,
          192.63999938964844,
          192.58009338378906,
          192.72149658203125,
          192.5449981689453,
          192.64999389648438,
          192.7100067138672,
          192.47500610351562,
          192.3699951171875,
          192.35499572753906,
          192.27499389648438,
          192.22000122070312,
          192.22999572753906,
          192.14999389648438,
          191.9600067138672,
          192.04989624023438,
          191.97000122070312,
          191.9550018310547,
          191.6300048828125,
          191.67999267578125,
          191.28500366210938,
          191.40150451660156,
          191.52000427246094,
          191.57000732421875,
          191.60000610351562,
          191.67880249023438,
          191.64500427246094,
          191.6300048828125,
          191.4199981689453,
          191.40499877929688,
          191.3802032470703,
          191.63499450683594,
          191.58999633789062,
          191.71499633789062,
          191.61000061035156,
          192.0601043701172,
          192.20509338378906,
          192.4550018310547,
          192.6999969482422,
          192.67999267578125,
          192.86199951171875,
          192.72000122070312,
          192.57029724121094,
          192.49000549316406
         ],
         "type": "candlestick",
         "x": [
          "2023-12-27 15:55:00.000000",
          "2023-12-27 15:50:00.000000",
          "2023-12-27 15:45:00.000000",
          "2023-12-27 15:40:00.000000",
          "2023-12-27 15:35:00.000000",
          "2023-12-27 15:30:00.000000",
          "2023-12-27 15:25:00.000000",
          "2023-12-27 15:20:00.000000",
          "2023-12-27 15:15:00.000000",
          "2023-12-27 15:10:00.000000",
          "2023-12-27 15:05:00.000000",
          "2023-12-27 15:00:00.000000",
          "2023-12-27 14:55:00.000000",
          "2023-12-27 14:50:00.000000",
          "2023-12-27 14:45:00.000000",
          "2023-12-27 14:40:00.000000",
          "2023-12-27 14:35:00.000000",
          "2023-12-27 14:30:00.000000",
          "2023-12-27 14:25:00.000000",
          "2023-12-27 14:20:00.000000",
          "2023-12-27 14:15:00.000000",
          "2023-12-27 14:10:00.000000",
          "2023-12-27 14:05:00.000000",
          "2023-12-27 14:00:00.000000",
          "2023-12-27 13:55:00.000000",
          "2023-12-27 13:50:00.000000",
          "2023-12-27 13:45:00.000000",
          "2023-12-27 13:40:00.000000",
          "2023-12-27 13:35:00.000000",
          "2023-12-27 13:30:00.000000",
          "2023-12-27 13:25:00.000000",
          "2023-12-27 13:20:00.000000",
          "2023-12-27 13:15:00.000000",
          "2023-12-27 13:10:00.000000",
          "2023-12-27 13:05:00.000000",
          "2023-12-27 13:00:00.000000",
          "2023-12-27 12:55:00.000000",
          "2023-12-27 12:50:00.000000",
          "2023-12-27 12:45:00.000000",
          "2023-12-27 12:40:00.000000",
          "2023-12-27 12:35:00.000000",
          "2023-12-27 12:30:00.000000",
          "2023-12-27 12:25:00.000000",
          "2023-12-27 12:20:00.000000",
          "2023-12-27 12:15:00.000000",
          "2023-12-27 12:10:00.000000",
          "2023-12-27 12:05:00.000000",
          "2023-12-27 12:00:00.000000",
          "2023-12-27 11:55:00.000000",
          "2023-12-27 11:50:00.000000",
          "2023-12-27 11:45:00.000000",
          "2023-12-27 11:40:00.000000",
          "2023-12-27 11:35:00.000000",
          "2023-12-27 11:30:00.000000",
          "2023-12-27 11:25:00.000000",
          "2023-12-27 11:20:00.000000",
          "2023-12-27 11:15:00.000000",
          "2023-12-27 11:10:00.000000",
          "2023-12-27 11:05:00.000000",
          "2023-12-27 11:00:00.000000",
          "2023-12-27 10:55:00.000000",
          "2023-12-27 10:50:00.000000",
          "2023-12-27 10:45:00.000000",
          "2023-12-27 10:40:00.000000",
          "2023-12-27 10:35:00.000000",
          "2023-12-27 10:30:00.000000",
          "2023-12-27 10:25:00.000000",
          "2023-12-27 10:20:00.000000",
          "2023-12-27 10:15:00.000000",
          "2023-12-27 10:10:00.000000",
          "2023-12-27 10:05:00.000000",
          "2023-12-27 10:00:00.000000",
          "2023-12-27 09:55:00.000000",
          "2023-12-27 09:50:00.000000",
          "2023-12-27 09:45:00.000000",
          "2023-12-27 09:40:00.000000",
          "2023-12-27 09:35:00.000000",
          "2023-12-27 09:30:00.000000"
         ]
        }
       ],
       "layout": {
        "template": {
         "data": {
          "bar": [
           {
            "error_x": {
             "color": "#2a3f5f"
            },
            "error_y": {
             "color": "#2a3f5f"
            },
            "marker": {
             "line": {
              "color": "#E5ECF6",
              "width": 0.5
             },
             "pattern": {
              "fillmode": "overlay",
              "size": 10,
              "solidity": 0.2
             }
            },
            "type": "bar"
           }
          ],
          "barpolar": [
           {
            "marker": {
             "line": {
              "color": "#E5ECF6",
              "width": 0.5
             },
             "pattern": {
              "fillmode": "overlay",
              "size": 10,
              "solidity": 0.2
             }
            },
            "type": "barpolar"
           }
          ],
          "carpet": [
           {
            "aaxis": {
             "endlinecolor": "#2a3f5f",
             "gridcolor": "white",
             "linecolor": "white",
             "minorgridcolor": "white",
             "startlinecolor": "#2a3f5f"
            },
            "baxis": {
             "endlinecolor": "#2a3f5f",
             "gridcolor": "white",
             "linecolor": "white",
             "minorgridcolor": "white",
             "startlinecolor": "#2a3f5f"
            },
            "type": "carpet"
           }
          ],
          "choropleth": [
           {
            "colorbar": {
             "outlinewidth": 0,
             "ticks": ""
            },
            "type": "choropleth"
           }
          ],
          "contour": [
           {
            "colorbar": {
             "outlinewidth": 0,
             "ticks": ""
            },
            "colorscale": [
             [
              0,
              "#0d0887"
             ],
             [
              0.1111111111111111,
              "#46039f"
             ],
             [
              0.2222222222222222,
              "#7201a8"
             ],
             [
              0.3333333333333333,
              "#9c179e"
             ],
             [
              0.4444444444444444,
              "#bd3786"
             ],
             [
              0.5555555555555556,
              "#d8576b"
             ],
             [
              0.6666666666666666,
              "#ed7953"
             ],
             [
              0.7777777777777778,
              "#fb9f3a"
             ],
             [
              0.8888888888888888,
              "#fdca26"
             ],
             [
              1,
              "#f0f921"
             ]
            ],
            "type": "contour"
           }
          ],
          "contourcarpet": [
           {
            "colorbar": {
             "outlinewidth": 0,
             "ticks": ""
            },
            "type": "contourcarpet"
           }
          ],
          "heatmap": [
           {
            "colorbar": {
             "outlinewidth": 0,
             "ticks": ""
            },
            "colorscale": [
             [
              0,
              "#0d0887"
             ],
             [
              0.1111111111111111,
              "#46039f"
             ],
             [
              0.2222222222222222,
              "#7201a8"
             ],
             [
              0.3333333333333333,
              "#9c179e"
             ],
             [
              0.4444444444444444,
              "#bd3786"
             ],
             [
              0.5555555555555556,
              "#d8576b"
             ],
             [
              0.6666666666666666,
              "#ed7953"
             ],
             [
              0.7777777777777778,
              "#fb9f3a"
             ],
             [
              0.8888888888888888,
              "#fdca26"
             ],
             [
              1,
              "#f0f921"
             ]
            ],
            "type": "heatmap"
           }
          ],
          "heatmapgl": [
           {
            "colorbar": {
             "outlinewidth": 0,
             "ticks": ""
            },
            "colorscale": [
             [
              0,
              "#0d0887"
             ],
             [
              0.1111111111111111,
              "#46039f"
             ],
             [
              0.2222222222222222,
              "#7201a8"
             ],
             [
              0.3333333333333333,
              "#9c179e"
             ],
             [
              0.4444444444444444,
              "#bd3786"
             ],
             [
              0.5555555555555556,
              "#d8576b"
             ],
             [
              0.6666666666666666,
              "#ed7953"
             ],
             [
              0.7777777777777778,
              "#fb9f3a"
             ],
             [
              0.8888888888888888,
              "#fdca26"
             ],
             [
              1,
              "#f0f921"
             ]
            ],
            "type": "heatmapgl"
           }
          ],
          "histogram": [
           {
            "marker": {
             "pattern": {
              "fillmode": "overlay",
              "size": 10,
              "solidity": 0.2
             }
            },
            "type": "histogram"
           }
          ],
          "histogram2d": [
           {
            "colorbar": {
             "outlinewidth": 0,
             "ticks": ""
            },
            "colorscale": [
             [
              0,
              "#0d0887"
             ],
             [
              0.1111111111111111,
              "#46039f"
             ],
             [
              0.2222222222222222,
              "#7201a8"
             ],
             [
              0.3333333333333333,
              "#9c179e"
             ],
             [
              0.4444444444444444,
              "#bd3786"
             ],
             [
              0.5555555555555556,
              "#d8576b"
             ],
             [
              0.6666666666666666,
              "#ed7953"
             ],
             [
              0.7777777777777778,
              "#fb9f3a"
             ],
             [
              0.8888888888888888,
              "#fdca26"
             ],
             [
              1,
              "#f0f921"
             ]
            ],
            "type": "histogram2d"
           }
          ],
          "histogram2dcontour": [
           {
            "colorbar": {
             "outlinewidth": 0,
             "ticks": ""
            },
            "colorscale": [
             [
              0,
              "#0d0887"
             ],
             [
              0.1111111111111111,
              "#46039f"
             ],
             [
              0.2222222222222222,
              "#7201a8"
             ],
             [
              0.3333333333333333,
              "#9c179e"
             ],
             [
              0.4444444444444444,
              "#bd3786"
             ],
             [
              0.5555555555555556,
              "#d8576b"
             ],
             [
              0.6666666666666666,
              "#ed7953"
             ],
             [
              0.7777777777777778,
              "#fb9f3a"
             ],
             [
              0.8888888888888888,
              "#fdca26"
             ],
             [
              1,
              "#f0f921"
             ]
            ],
            "type": "histogram2dcontour"
           }
          ],
          "mesh3d": [
           {
            "colorbar": {
             "outlinewidth": 0,
             "ticks": ""
            },
            "type": "mesh3d"
           }
          ],
          "parcoords": [
           {
            "line": {
             "colorbar": {
              "outlinewidth": 0,
              "ticks": ""
             }
            },
            "type": "parcoords"
           }
          ],
          "pie": [
           {
            "automargin": true,
            "type": "pie"
           }
          ],
          "scatter": [
           {
            "fillpattern": {
             "fillmode": "overlay",
             "size": 10,
             "solidity": 0.2
            },
            "type": "scatter"
           }
          ],
          "scatter3d": [
           {
            "line": {
             "colorbar": {
              "outlinewidth": 0,
              "ticks": ""
             }
            },
            "marker": {
             "colorbar": {
              "outlinewidth": 0,
              "ticks": ""
             }
            },
            "type": "scatter3d"
           }
          ],
          "scattercarpet": [
           {
            "marker": {
             "colorbar": {
              "outlinewidth": 0,
              "ticks": ""
             }
            },
            "type": "scattercarpet"
           }
          ],
          "scattergeo": [
           {
            "marker": {
             "colorbar": {
              "outlinewidth": 0,
              "ticks": ""
             }
            },
            "type": "scattergeo"
           }
          ],
          "scattergl": [
           {
            "marker": {
             "colorbar": {
              "outlinewidth": 0,
              "ticks": ""
             }
            },
            "type": "scattergl"
           }
          ],
          "scattermapbox": [
           {
            "marker": {
             "colorbar": {
              "outlinewidth": 0,
              "ticks": ""
             }
            },
            "type": "scattermapbox"
           }
          ],
          "scatterpolar": [
           {
            "marker": {
             "colorbar": {
              "outlinewidth": 0,
              "ticks": ""
             }
            },
            "type": "scatterpolar"
           }
          ],
          "scatterpolargl": [
           {
            "marker": {
             "colorbar": {
              "outlinewidth": 0,
              "ticks": ""
             }
            },
            "type": "scatterpolargl"
           }
          ],
          "scatterternary": [
           {
            "marker": {
             "colorbar": {
              "outlinewidth": 0,
              "ticks": ""
             }
            },
            "type": "scatterternary"
           }
          ],
          "surface": [
           {
            "colorbar": {
             "outlinewidth": 0,
             "ticks": ""
            },
            "colorscale": [
             [
              0,
              "#0d0887"
             ],
             [
              0.1111111111111111,
              "#46039f"
             ],
             [
              0.2222222222222222,
              "#7201a8"
             ],
             [
              0.3333333333333333,
              "#9c179e"
             ],
             [
              0.4444444444444444,
              "#bd3786"
             ],
             [
              0.5555555555555556,
              "#d8576b"
             ],
             [
              0.6666666666666666,
              "#ed7953"
             ],
             [
              0.7777777777777778,
              "#fb9f3a"
             ],
             [
              0.8888888888888888,
              "#fdca26"
             ],
             [
              1,
              "#f0f921"
             ]
            ],
            "type": "surface"
           }
          ],
          "table": [
           {
            "cells": {
             "fill": {
              "color": "#EBF0F8"
             },
             "line": {
              "color": "white"
             }
            },
            "header": {
             "fill": {
              "color": "#C8D4E3"
             },
             "line": {
              "color": "white"
             }
            },
            "type": "table"
           }
          ]
         },
         "layout": {
          "annotationdefaults": {
           "arrowcolor": "#2a3f5f",
           "arrowhead": 0,
           "arrowwidth": 1
          },
          "autotypenumbers": "strict",
          "coloraxis": {
           "colorbar": {
            "outlinewidth": 0,
            "ticks": ""
           }
          },
          "colorscale": {
           "diverging": [
            [
             0,
             "#8e0152"
            ],
            [
             0.1,
             "#c51b7d"
            ],
            [
             0.2,
             "#de77ae"
            ],
            [
             0.3,
             "#f1b6da"
            ],
            [
             0.4,
             "#fde0ef"
            ],
            [
             0.5,
             "#f7f7f7"
            ],
            [
             0.6,
             "#e6f5d0"
            ],
            [
             0.7,
             "#b8e186"
            ],
            [
             0.8,
             "#7fbc41"
            ],
            [
             0.9,
             "#4d9221"
            ],
            [
             1,
             "#276419"
            ]
           ],
           "sequential": [
            [
             0,
             "#0d0887"
            ],
            [
             0.1111111111111111,
             "#46039f"
            ],
            [
             0.2222222222222222,
             "#7201a8"
            ],
            [
             0.3333333333333333,
             "#9c179e"
            ],
            [
             0.4444444444444444,
             "#bd3786"
            ],
            [
             0.5555555555555556,
             "#d8576b"
            ],
            [
             0.6666666666666666,
             "#ed7953"
            ],
            [
             0.7777777777777778,
             "#fb9f3a"
            ],
            [
             0.8888888888888888,
             "#fdca26"
            ],
            [
             1,
             "#f0f921"
            ]
           ],
           "sequentialminus": [
            [
             0,
             "#0d0887"
            ],
            [
             0.1111111111111111,
             "#46039f"
            ],
            [
             0.2222222222222222,
             "#7201a8"
            ],
            [
             0.3333333333333333,
             "#9c179e"
            ],
            [
             0.4444444444444444,
             "#bd3786"
            ],
            [
             0.5555555555555556,
             "#d8576b"
            ],
            [
             0.6666666666666666,
             "#ed7953"
            ],
            [
             0.7777777777777778,
             "#fb9f3a"
            ],
            [
             0.8888888888888888,
             "#fdca26"
            ],
            [
             1,
             "#f0f921"
            ]
           ]
          },
          "colorway": [
           "#636efa",
           "#EF553B",
           "#00cc96",
           "#ab63fa",
           "#FFA15A",
           "#19d3f3",
           "#FF6692",
           "#B6E880",
           "#FF97FF",
           "#FECB52"
          ],
          "font": {
           "color": "#2a3f5f"
          },
          "geo": {
           "bgcolor": "white",
           "lakecolor": "white",
           "landcolor": "#E5ECF6",
           "showlakes": true,
           "showland": true,
           "subunitcolor": "white"
          },
          "hoverlabel": {
           "align": "left"
          },
          "hovermode": "closest",
          "mapbox": {
           "style": "light"
          },
          "paper_bgcolor": "white",
          "plot_bgcolor": "#E5ECF6",
          "polar": {
           "angularaxis": {
            "gridcolor": "white",
            "linecolor": "white",
            "ticks": ""
           },
           "bgcolor": "#E5ECF6",
           "radialaxis": {
            "gridcolor": "white",
            "linecolor": "white",
            "ticks": ""
           }
          },
          "scene": {
           "xaxis": {
            "backgroundcolor": "#E5ECF6",
            "gridcolor": "white",
            "gridwidth": 2,
            "linecolor": "white",
            "showbackground": true,
            "ticks": "",
            "zerolinecolor": "white"
           },
           "yaxis": {
            "backgroundcolor": "#E5ECF6",
            "gridcolor": "white",
            "gridwidth": 2,
            "linecolor": "white",
            "showbackground": true,
            "ticks": "",
            "zerolinecolor": "white"
           },
           "zaxis": {
            "backgroundcolor": "#E5ECF6",
            "gridcolor": "white",
            "gridwidth": 2,
            "linecolor": "white",
            "showbackground": true,
            "ticks": "",
            "zerolinecolor": "white"
           }
          },
          "shapedefaults": {
           "line": {
            "color": "#2a3f5f"
           }
          },
          "ternary": {
           "aaxis": {
            "gridcolor": "white",
            "linecolor": "white",
            "ticks": ""
           },
           "baxis": {
            "gridcolor": "white",
            "linecolor": "white",
            "ticks": ""
           },
           "bgcolor": "#E5ECF6",
           "caxis": {
            "gridcolor": "white",
            "linecolor": "white",
            "ticks": ""
           }
          },
          "title": {
           "x": 0.05
          },
          "xaxis": {
           "automargin": true,
           "gridcolor": "white",
           "linecolor": "white",
           "ticks": "",
           "title": {
            "standoff": 15
           },
           "zerolinecolor": "white",
           "zerolinewidth": 2
          },
          "yaxis": {
           "automargin": true,
           "gridcolor": "white",
           "linecolor": "white",
           "ticks": "",
           "title": {
            "standoff": 15
           },
           "zerolinecolor": "white",
           "zerolinewidth": 2
          }
         }
        },
        "title": {
         "text": "AAPL Chart Data"
        },
        "xaxis": {
         "rangeselector": {
          "buttons": [
           {
            "count": 5,
            "label": "5m",
            "step": "minute",
            "stepmode": "backward"
           },
           {
            "count": 15,
            "label": "15m",
            "step": "minute",
            "stepmode": "backward"
           },
           {
            "count": 30,
            "label": "30m",
            "step": "minute",
            "stepmode": "backward"
           },
           {
            "count": 1,
            "label": "1h",
            "step": "hour",
            "stepmode": "todate"
           },
           {
            "count": 4,
            "label": "4h",
            "step": "hour",
            "stepmode": "todate"
           },
           {
            "step": "all"
           }
          ]
         },
         "rangeslider": {
          "visible": true
         }
        },
        "yaxis": {
         "range": [
          191.08999633789062,
          193.5
         ],
         "title": {
          "text": "Stock Price (USD)"
         }
        }
       }
      }
     },
     "metadata": {},
     "output_type": "display_data"
    },
    {
     "data": {
      "application/vnd.plotly.v1+json": {
       "config": {
        "plotlyServerURL": "https://plot.ly"
       },
       "data": [
        {
         "close": [
          90.41000366210938,
          90.13999938964844,
          90.12000274658203,
          90.06790161132812,
          90.1218032836914,
          90.15499877929688,
          90.1449966430664,
          90.15499877929688,
          90.19999694824219,
          90.20500183105469,
          90.23400115966797,
          90.22000122070312,
          90.20999908447266,
          90.13500213623047,
          90.17500305175781,
          90.20999908447266,
          90.20999908447266,
          90.23999786376953,
          90.2699966430664,
          90.21499633789062,
          90.16000366210938,
          90.14009857177734,
          90.20999908447266,
          90.19999694824219,
          90.23999786376953,
          90.36000061035156,
          90.46640014648438,
          90.45600128173828,
          90.43000030517578,
          90.41999816894531,
          90.4623031616211,
          90.43000030517578,
          90.48650360107422,
          90.45999908447266,
          90.51499938964844,
          90.35569763183594,
          90.29010009765625,
          90.26000213623047,
          90.2699966430664,
          90.26000213623047,
          90.30000305175781,
          90.33000183105469,
          90.36000061035156,
          90.37000274658203,
          90.41010284423828,
          90.37999725341797,
          90.26170349121094,
          90.30000305175781,
          90.37000274658203,
          90.30999755859375,
          90.34500122070312,
          90.37000274658203,
          90.37010192871094,
          90.37999725341797,
          90.30000305175781,
          90.2750015258789,
          90.2249984741211,
          90.19969940185547,
          90.13999938964844,
          90.22000122070312,
          90.23999786376953,
          90.27989959716797,
          90.29499816894531,
          90.34400177001953,
          90.30500030517578,
          90.31999969482422,
          90.36000061035156,
          90.44000244140625,
          90.375,
          90.4000015258789,
          90.3916015625,
          90.41500091552734,
          90.44999694824219,
          90.61499786376953,
          90.4000015258789,
          90.53990173339844,
          90.68000030517578,
          90.69000244140625
         ],
         "high": [
          90.41000366210938,
          90.16000366210938,
          90.125,
          90.12999725341797,
          90.19000244140625,
          90.18000030517578,
          90.1500015258789,
          90.20999908447266,
          90.26000213623047,
          90.24500274658203,
          90.25,
          90.25,
          90.22429656982422,
          90.18499755859375,
          90.21499633789062,
          90.21009826660156,
          90.23999786376953,
          90.30999755859375,
          90.31999969482422,
          90.24710083007812,
          90.18000030517578,
          90.20999908447266,
          90.23999786376953,
          90.24009704589844,
          90.37419891357422,
          90.4800033569336,
          90.47599792480469,
          90.5,
          90.44000244140625,
          90.5,
          90.4800033569336,
          90.51000213623047,
          90.53500366210938,
          90.52999877929688,
          90.5199966430664,
          90.37000274658203,
          90.30999755859375,
          90.34500122070312,
          90.2699966430664,
          90.30500030517578,
          90.33999633789062,
          90.38809967041016,
          90.38999938964844,
          90.43000030517578,
          90.44999694824219,
          90.4000015258789,
          90.30999755859375,
          90.38999938964844,
          90.3949966430664,
          90.3499984741211,
          90.375,
          90.38999938964844,
          90.41999816894531,
          90.4000015258789,
          90.31999969482422,
          90.31999969482422,
          90.25,
          90.23999786376953,
          90.22010040283203,
          90.23999786376953,
          90.27999877929688,
          90.30000305175781,
          90.41999816894531,
          90.38999938964844,
          90.3499984741211,
          90.44499969482422,
          90.44499969482422,
          90.44499969482422,
          90.44999694824219,
          90.5199966430664,
          90.48999786376953,
          90.5,
          90.62000274658203,
          90.63999938964844,
          90.55500030517578,
          90.69000244140625,
          90.79820251464844,
          90.93930053710938
         ],
         "low": [
          90.13999938964844,
          90.06999969482422,
          90.04000091552734,
          90.05000305175781,
          90.11009979248047,
          90.12000274658203,
          90.0999984741211,
          90.15499877929688,
          90.18000030517578,
          90.19999694824219,
          90.18499755859375,
          90.1812973022461,
          90.12999725341797,
          90.12999725341797,
          90.1500015258789,
          90.13500213623047,
          90.19999694824219,
          90.20999908447266,
          90.19499969482422,
          90.15499877929688,
          90.11499786376953,
          90.12000274658203,
          90.13500213623047,
          90.1500015258789,
          90.23999786376953,
          90.36000061035156,
          90.41999816894531,
          90.41999816894531,
          90.38500213623047,
          90.4000015258789,
          90.37999725341797,
          90.4260025024414,
          90.44999694824219,
          90.41000366210938,
          90.33180236816406,
          90.2750015258789,
          90.24500274658203,
          90.25499725341797,
          90.19000244140625,
          90.25,
          90.26000213623047,
          90.33000183105469,
          90.34500122070312,
          90.36000061035156,
          90.3499984741211,
          90.26000213623047,
          90.24500274658203,
          90.28500366210938,
          90.31500244140625,
          90.30999755859375,
          90.30999755859375,
          90.3478012084961,
          90.33999633789062,
          90.30000305175781,
          90.2300033569336,
          90.20999908447266,
          90.18049621582031,
          90.125,
          90.11000061035156,
          90.18099975585938,
          90.19999694824219,
          90.21499633789062,
          90.29499816894531,
          90.26000213623047,
          90.2249984741211,
          90.31999969482422,
          90.33999633789062,
          90.30500030517578,
          90.33499908447266,
          90.36499786376953,
          90.3499984741211,
          90.37000274658203,
          90.431396484375,
          90.41000366210938,
          90.2699966430664,
          90.46009826660156,
          90.55999755859375,
          90.44000244140625
         ],
         "name": "Stock Chart",
         "open": [
          90.1449966430664,
          90.11000061035156,
          90.06500244140625,
          90.125,
          90.16000366210938,
          90.1500015258789,
          90.1500015258789,
          90.19999694824219,
          90.19999694824219,
          90.2300033569336,
          90.21499633789062,
          90.21499633789062,
          90.12999725341797,
          90.17500305175781,
          90.20989990234375,
          90.20010375976562,
          90.2300033569336,
          90.26000213623047,
          90.22000122070312,
          90.16000366210938,
          90.1449966430664,
          90.20999908447266,
          90.19000244140625,
          90.24009704589844,
          90.37419891357422,
          90.45999908447266,
          90.45500183105469,
          90.44000244140625,
          90.41999816894531,
          90.46499633789062,
          90.4271011352539,
          90.48169708251953,
          90.45999908447266,
          90.51000213623047,
          90.3550033569336,
          90.30000305175781,
          90.26000213623047,
          90.2699966430664,
          90.2699966430664,
          90.30000305175781,
          90.33000183105469,
          90.3499984741211,
          90.37999725341797,
          90.42019653320312,
          90.37000274658203,
          90.26000213623047,
          90.28500366210938,
          90.36000061035156,
          90.3197021484375,
          90.3499984741211,
          90.36000061035156,
          90.375,
          90.38500213623047,
          90.30500030517578,
          90.27010345458984,
          90.2249984741211,
          90.19999694824219,
          90.13999938964844,
          90.20999908447266,
          90.23500061035156,
          90.2750015258789,
          90.27999877929688,
          90.34500122070312,
          90.30999755859375,
          90.31999969482422,
          90.3499984741211,
          90.44000244140625,
          90.37879943847656,
          90.4000015258789,
          90.4000015258789,
          90.41500091552734,
          90.44000244140625,
          90.62000274658203,
          90.41000366210938,
          90.54000091552734,
          90.66999816894531,
          90.70999908447266,
          90.91000366210938
         ],
         "type": "candlestick",
         "x": [
          "2023-12-27 15:55:00.000000",
          "2023-12-27 15:50:00.000000",
          "2023-12-27 15:45:00.000000",
          "2023-12-27 15:40:00.000000",
          "2023-12-27 15:35:00.000000",
          "2023-12-27 15:30:00.000000",
          "2023-12-27 15:25:00.000000",
          "2023-12-27 15:20:00.000000",
          "2023-12-27 15:15:00.000000",
          "2023-12-27 15:10:00.000000",
          "2023-12-27 15:05:00.000000",
          "2023-12-27 15:00:00.000000",
          "2023-12-27 14:55:00.000000",
          "2023-12-27 14:50:00.000000",
          "2023-12-27 14:45:00.000000",
          "2023-12-27 14:40:00.000000",
          "2023-12-27 14:35:00.000000",
          "2023-12-27 14:30:00.000000",
          "2023-12-27 14:25:00.000000",
          "2023-12-27 14:20:00.000000",
          "2023-12-27 14:15:00.000000",
          "2023-12-27 14:10:00.000000",
          "2023-12-27 14:05:00.000000",
          "2023-12-27 14:00:00.000000",
          "2023-12-27 13:55:00.000000",
          "2023-12-27 13:50:00.000000",
          "2023-12-27 13:45:00.000000",
          "2023-12-27 13:40:00.000000",
          "2023-12-27 13:35:00.000000",
          "2023-12-27 13:30:00.000000",
          "2023-12-27 13:25:00.000000",
          "2023-12-27 13:20:00.000000",
          "2023-12-27 13:15:00.000000",
          "2023-12-27 13:10:00.000000",
          "2023-12-27 13:05:00.000000",
          "2023-12-27 13:00:00.000000",
          "2023-12-27 12:55:00.000000",
          "2023-12-27 12:50:00.000000",
          "2023-12-27 12:45:00.000000",
          "2023-12-27 12:40:00.000000",
          "2023-12-27 12:35:00.000000",
          "2023-12-27 12:30:00.000000",
          "2023-12-27 12:25:00.000000",
          "2023-12-27 12:20:00.000000",
          "2023-12-27 12:15:00.000000",
          "2023-12-27 12:10:00.000000",
          "2023-12-27 12:05:00.000000",
          "2023-12-27 12:00:00.000000",
          "2023-12-27 11:55:00.000000",
          "2023-12-27 11:50:00.000000",
          "2023-12-27 11:45:00.000000",
          "2023-12-27 11:40:00.000000",
          "2023-12-27 11:35:00.000000",
          "2023-12-27 11:30:00.000000",
          "2023-12-27 11:25:00.000000",
          "2023-12-27 11:20:00.000000",
          "2023-12-27 11:15:00.000000",
          "2023-12-27 11:10:00.000000",
          "2023-12-27 11:05:00.000000",
          "2023-12-27 11:00:00.000000",
          "2023-12-27 10:55:00.000000",
          "2023-12-27 10:50:00.000000",
          "2023-12-27 10:45:00.000000",
          "2023-12-27 10:40:00.000000",
          "2023-12-27 10:35:00.000000",
          "2023-12-27 10:30:00.000000",
          "2023-12-27 10:25:00.000000",
          "2023-12-27 10:20:00.000000",
          "2023-12-27 10:15:00.000000",
          "2023-12-27 10:10:00.000000",
          "2023-12-27 10:05:00.000000",
          "2023-12-27 10:00:00.000000",
          "2023-12-27 09:55:00.000000",
          "2023-12-27 09:50:00.000000",
          "2023-12-27 09:45:00.000000",
          "2023-12-27 09:40:00.000000",
          "2023-12-27 09:35:00.000000",
          "2023-12-27 09:30:00.000000"
         ]
        }
       ],
       "layout": {
        "template": {
         "data": {
          "bar": [
           {
            "error_x": {
             "color": "#2a3f5f"
            },
            "error_y": {
             "color": "#2a3f5f"
            },
            "marker": {
             "line": {
              "color": "#E5ECF6",
              "width": 0.5
             },
             "pattern": {
              "fillmode": "overlay",
              "size": 10,
              "solidity": 0.2
             }
            },
            "type": "bar"
           }
          ],
          "barpolar": [
           {
            "marker": {
             "line": {
              "color": "#E5ECF6",
              "width": 0.5
             },
             "pattern": {
              "fillmode": "overlay",
              "size": 10,
              "solidity": 0.2
             }
            },
            "type": "barpolar"
           }
          ],
          "carpet": [
           {
            "aaxis": {
             "endlinecolor": "#2a3f5f",
             "gridcolor": "white",
             "linecolor": "white",
             "minorgridcolor": "white",
             "startlinecolor": "#2a3f5f"
            },
            "baxis": {
             "endlinecolor": "#2a3f5f",
             "gridcolor": "white",
             "linecolor": "white",
             "minorgridcolor": "white",
             "startlinecolor": "#2a3f5f"
            },
            "type": "carpet"
           }
          ],
          "choropleth": [
           {
            "colorbar": {
             "outlinewidth": 0,
             "ticks": ""
            },
            "type": "choropleth"
           }
          ],
          "contour": [
           {
            "colorbar": {
             "outlinewidth": 0,
             "ticks": ""
            },
            "colorscale": [
             [
              0,
              "#0d0887"
             ],
             [
              0.1111111111111111,
              "#46039f"
             ],
             [
              0.2222222222222222,
              "#7201a8"
             ],
             [
              0.3333333333333333,
              "#9c179e"
             ],
             [
              0.4444444444444444,
              "#bd3786"
             ],
             [
              0.5555555555555556,
              "#d8576b"
             ],
             [
              0.6666666666666666,
              "#ed7953"
             ],
             [
              0.7777777777777778,
              "#fb9f3a"
             ],
             [
              0.8888888888888888,
              "#fdca26"
             ],
             [
              1,
              "#f0f921"
             ]
            ],
            "type": "contour"
           }
          ],
          "contourcarpet": [
           {
            "colorbar": {
             "outlinewidth": 0,
             "ticks": ""
            },
            "type": "contourcarpet"
           }
          ],
          "heatmap": [
           {
            "colorbar": {
             "outlinewidth": 0,
             "ticks": ""
            },
            "colorscale": [
             [
              0,
              "#0d0887"
             ],
             [
              0.1111111111111111,
              "#46039f"
             ],
             [
              0.2222222222222222,
              "#7201a8"
             ],
             [
              0.3333333333333333,
              "#9c179e"
             ],
             [
              0.4444444444444444,
              "#bd3786"
             ],
             [
              0.5555555555555556,
              "#d8576b"
             ],
             [
              0.6666666666666666,
              "#ed7953"
             ],
             [
              0.7777777777777778,
              "#fb9f3a"
             ],
             [
              0.8888888888888888,
              "#fdca26"
             ],
             [
              1,
              "#f0f921"
             ]
            ],
            "type": "heatmap"
           }
          ],
          "heatmapgl": [
           {
            "colorbar": {
             "outlinewidth": 0,
             "ticks": ""
            },
            "colorscale": [
             [
              0,
              "#0d0887"
             ],
             [
              0.1111111111111111,
              "#46039f"
             ],
             [
              0.2222222222222222,
              "#7201a8"
             ],
             [
              0.3333333333333333,
              "#9c179e"
             ],
             [
              0.4444444444444444,
              "#bd3786"
             ],
             [
              0.5555555555555556,
              "#d8576b"
             ],
             [
              0.6666666666666666,
              "#ed7953"
             ],
             [
              0.7777777777777778,
              "#fb9f3a"
             ],
             [
              0.8888888888888888,
              "#fdca26"
             ],
             [
              1,
              "#f0f921"
             ]
            ],
            "type": "heatmapgl"
           }
          ],
          "histogram": [
           {
            "marker": {
             "pattern": {
              "fillmode": "overlay",
              "size": 10,
              "solidity": 0.2
             }
            },
            "type": "histogram"
           }
          ],
          "histogram2d": [
           {
            "colorbar": {
             "outlinewidth": 0,
             "ticks": ""
            },
            "colorscale": [
             [
              0,
              "#0d0887"
             ],
             [
              0.1111111111111111,
              "#46039f"
             ],
             [
              0.2222222222222222,
              "#7201a8"
             ],
             [
              0.3333333333333333,
              "#9c179e"
             ],
             [
              0.4444444444444444,
              "#bd3786"
             ],
             [
              0.5555555555555556,
              "#d8576b"
             ],
             [
              0.6666666666666666,
              "#ed7953"
             ],
             [
              0.7777777777777778,
              "#fb9f3a"
             ],
             [
              0.8888888888888888,
              "#fdca26"
             ],
             [
              1,
              "#f0f921"
             ]
            ],
            "type": "histogram2d"
           }
          ],
          "histogram2dcontour": [
           {
            "colorbar": {
             "outlinewidth": 0,
             "ticks": ""
            },
            "colorscale": [
             [
              0,
              "#0d0887"
             ],
             [
              0.1111111111111111,
              "#46039f"
             ],
             [
              0.2222222222222222,
              "#7201a8"
             ],
             [
              0.3333333333333333,
              "#9c179e"
             ],
             [
              0.4444444444444444,
              "#bd3786"
             ],
             [
              0.5555555555555556,
              "#d8576b"
             ],
             [
              0.6666666666666666,
              "#ed7953"
             ],
             [
              0.7777777777777778,
              "#fb9f3a"
             ],
             [
              0.8888888888888888,
              "#fdca26"
             ],
             [
              1,
              "#f0f921"
             ]
            ],
            "type": "histogram2dcontour"
           }
          ],
          "mesh3d": [
           {
            "colorbar": {
             "outlinewidth": 0,
             "ticks": ""
            },
            "type": "mesh3d"
           }
          ],
          "parcoords": [
           {
            "line": {
             "colorbar": {
              "outlinewidth": 0,
              "ticks": ""
             }
            },
            "type": "parcoords"
           }
          ],
          "pie": [
           {
            "automargin": true,
            "type": "pie"
           }
          ],
          "scatter": [
           {
            "fillpattern": {
             "fillmode": "overlay",
             "size": 10,
             "solidity": 0.2
            },
            "type": "scatter"
           }
          ],
          "scatter3d": [
           {
            "line": {
             "colorbar": {
              "outlinewidth": 0,
              "ticks": ""
             }
            },
            "marker": {
             "colorbar": {
              "outlinewidth": 0,
              "ticks": ""
             }
            },
            "type": "scatter3d"
           }
          ],
          "scattercarpet": [
           {
            "marker": {
             "colorbar": {
              "outlinewidth": 0,
              "ticks": ""
             }
            },
            "type": "scattercarpet"
           }
          ],
          "scattergeo": [
           {
            "marker": {
             "colorbar": {
              "outlinewidth": 0,
              "ticks": ""
             }
            },
            "type": "scattergeo"
           }
          ],
          "scattergl": [
           {
            "marker": {
             "colorbar": {
              "outlinewidth": 0,
              "ticks": ""
             }
            },
            "type": "scattergl"
           }
          ],
          "scattermapbox": [
           {
            "marker": {
             "colorbar": {
              "outlinewidth": 0,
              "ticks": ""
             }
            },
            "type": "scattermapbox"
           }
          ],
          "scatterpolar": [
           {
            "marker": {
             "colorbar": {
              "outlinewidth": 0,
              "ticks": ""
             }
            },
            "type": "scatterpolar"
           }
          ],
          "scatterpolargl": [
           {
            "marker": {
             "colorbar": {
              "outlinewidth": 0,
              "ticks": ""
             }
            },
            "type": "scatterpolargl"
           }
          ],
          "scatterternary": [
           {
            "marker": {
             "colorbar": {
              "outlinewidth": 0,
              "ticks": ""
             }
            },
            "type": "scatterternary"
           }
          ],
          "surface": [
           {
            "colorbar": {
             "outlinewidth": 0,
             "ticks": ""
            },
            "colorscale": [
             [
              0,
              "#0d0887"
             ],
             [
              0.1111111111111111,
              "#46039f"
             ],
             [
              0.2222222222222222,
              "#7201a8"
             ],
             [
              0.3333333333333333,
              "#9c179e"
             ],
             [
              0.4444444444444444,
              "#bd3786"
             ],
             [
              0.5555555555555556,
              "#d8576b"
             ],
             [
              0.6666666666666666,
              "#ed7953"
             ],
             [
              0.7777777777777778,
              "#fb9f3a"
             ],
             [
              0.8888888888888888,
              "#fdca26"
             ],
             [
              1,
              "#f0f921"
             ]
            ],
            "type": "surface"
           }
          ],
          "table": [
           {
            "cells": {
             "fill": {
              "color": "#EBF0F8"
             },
             "line": {
              "color": "white"
             }
            },
            "header": {
             "fill": {
              "color": "#C8D4E3"
             },
             "line": {
              "color": "white"
             }
            },
            "type": "table"
           }
          ]
         },
         "layout": {
          "annotationdefaults": {
           "arrowcolor": "#2a3f5f",
           "arrowhead": 0,
           "arrowwidth": 1
          },
          "autotypenumbers": "strict",
          "coloraxis": {
           "colorbar": {
            "outlinewidth": 0,
            "ticks": ""
           }
          },
          "colorscale": {
           "diverging": [
            [
             0,
             "#8e0152"
            ],
            [
             0.1,
             "#c51b7d"
            ],
            [
             0.2,
             "#de77ae"
            ],
            [
             0.3,
             "#f1b6da"
            ],
            [
             0.4,
             "#fde0ef"
            ],
            [
             0.5,
             "#f7f7f7"
            ],
            [
             0.6,
             "#e6f5d0"
            ],
            [
             0.7,
             "#b8e186"
            ],
            [
             0.8,
             "#7fbc41"
            ],
            [
             0.9,
             "#4d9221"
            ],
            [
             1,
             "#276419"
            ]
           ],
           "sequential": [
            [
             0,
             "#0d0887"
            ],
            [
             0.1111111111111111,
             "#46039f"
            ],
            [
             0.2222222222222222,
             "#7201a8"
            ],
            [
             0.3333333333333333,
             "#9c179e"
            ],
            [
             0.4444444444444444,
             "#bd3786"
            ],
            [
             0.5555555555555556,
             "#d8576b"
            ],
            [
             0.6666666666666666,
             "#ed7953"
            ],
            [
             0.7777777777777778,
             "#fb9f3a"
            ],
            [
             0.8888888888888888,
             "#fdca26"
            ],
            [
             1,
             "#f0f921"
            ]
           ],
           "sequentialminus": [
            [
             0,
             "#0d0887"
            ],
            [
             0.1111111111111111,
             "#46039f"
            ],
            [
             0.2222222222222222,
             "#7201a8"
            ],
            [
             0.3333333333333333,
             "#9c179e"
            ],
            [
             0.4444444444444444,
             "#bd3786"
            ],
            [
             0.5555555555555556,
             "#d8576b"
            ],
            [
             0.6666666666666666,
             "#ed7953"
            ],
            [
             0.7777777777777778,
             "#fb9f3a"
            ],
            [
             0.8888888888888888,
             "#fdca26"
            ],
            [
             1,
             "#f0f921"
            ]
           ]
          },
          "colorway": [
           "#636efa",
           "#EF553B",
           "#00cc96",
           "#ab63fa",
           "#FFA15A",
           "#19d3f3",
           "#FF6692",
           "#B6E880",
           "#FF97FF",
           "#FECB52"
          ],
          "font": {
           "color": "#2a3f5f"
          },
          "geo": {
           "bgcolor": "white",
           "lakecolor": "white",
           "landcolor": "#E5ECF6",
           "showlakes": true,
           "showland": true,
           "subunitcolor": "white"
          },
          "hoverlabel": {
           "align": "left"
          },
          "hovermode": "closest",
          "mapbox": {
           "style": "light"
          },
          "paper_bgcolor": "white",
          "plot_bgcolor": "#E5ECF6",
          "polar": {
           "angularaxis": {
            "gridcolor": "white",
            "linecolor": "white",
            "ticks": ""
           },
           "bgcolor": "#E5ECF6",
           "radialaxis": {
            "gridcolor": "white",
            "linecolor": "white",
            "ticks": ""
           }
          },
          "scene": {
           "xaxis": {
            "backgroundcolor": "#E5ECF6",
            "gridcolor": "white",
            "gridwidth": 2,
            "linecolor": "white",
            "showbackground": true,
            "ticks": "",
            "zerolinecolor": "white"
           },
           "yaxis": {
            "backgroundcolor": "#E5ECF6",
            "gridcolor": "white",
            "gridwidth": 2,
            "linecolor": "white",
            "showbackground": true,
            "ticks": "",
            "zerolinecolor": "white"
           },
           "zaxis": {
            "backgroundcolor": "#E5ECF6",
            "gridcolor": "white",
            "gridwidth": 2,
            "linecolor": "white",
            "showbackground": true,
            "ticks": "",
            "zerolinecolor": "white"
           }
          },
          "shapedefaults": {
           "line": {
            "color": "#2a3f5f"
           }
          },
          "ternary": {
           "aaxis": {
            "gridcolor": "white",
            "linecolor": "white",
            "ticks": ""
           },
           "baxis": {
            "gridcolor": "white",
            "linecolor": "white",
            "ticks": ""
           },
           "bgcolor": "#E5ECF6",
           "caxis": {
            "gridcolor": "white",
            "linecolor": "white",
            "ticks": ""
           }
          },
          "title": {
           "x": 0.05
          },
          "xaxis": {
           "automargin": true,
           "gridcolor": "white",
           "linecolor": "white",
           "ticks": "",
           "title": {
            "standoff": 15
           },
           "zerolinecolor": "white",
           "zerolinewidth": 2
          },
          "yaxis": {
           "automargin": true,
           "gridcolor": "white",
           "linecolor": "white",
           "ticks": "",
           "title": {
            "standoff": 15
           },
           "zerolinecolor": "white",
           "zerolinewidth": 2
          }
         }
        },
        "title": {
         "text": "DIS Chart Data"
        },
        "xaxis": {
         "rangeselector": {
          "buttons": [
           {
            "count": 5,
            "label": "5m",
            "step": "minute",
            "stepmode": "backward"
           },
           {
            "count": 15,
            "label": "15m",
            "step": "minute",
            "stepmode": "backward"
           },
           {
            "count": 30,
            "label": "30m",
            "step": "minute",
            "stepmode": "backward"
           },
           {
            "count": 1,
            "label": "1h",
            "step": "hour",
            "stepmode": "todate"
           },
           {
            "count": 4,
            "label": "4h",
            "step": "hour",
            "stepmode": "todate"
           },
           {
            "step": "all"
           }
          ]
         },
         "rangeslider": {
          "visible": true
         }
        },
        "yaxis": {
         "range": [
          90.04000091552734,
          90.93930053710938
         ],
         "title": {
          "text": "Stock Price (USD)"
         }
        }
       }
      }
     },
     "metadata": {},
     "output_type": "display_data"
    },
    {
     "data": {
      "application/vnd.plotly.v1+json": {
       "config": {
        "plotlyServerURL": "https://plot.ly"
       },
       "data": [
        {
         "close": [
          374.07000732421875,
          373.2449951171875,
          373.27288818359375,
          373.3699951171875,
          373.57000732421875,
          373.4700012207031,
          373.4599914550781,
          373.3900146484375,
          373.5799865722656,
          373.3999938964844,
          373.3599853515625,
          373.375,
          373.32000732421875,
          373.07000732421875,
          373.2200012207031,
          373.05999755859375,
          373.1700134277344,
          373.3800048828125,
          373.41448974609375,
          373.5199890136719,
          373.4200134277344,
          373.1716003417969,
          373.4849853515625,
          373.3299865722656,
          373.9700012207031,
          374.0199890136719,
          374.0799865722656,
          374.18609619140625,
          374.1300048828125,
          374.19000244140625,
          374.010009765625,
          374.0299987792969,
          374.1400146484375,
          374.0150146484375,
          374.2250061035156,
          373.6700134277344,
          373.42999267578125,
          373.4587097167969,
          373.6099853515625,
          373.6400146484375,
          373.7799987792969,
          373.92999267578125,
          373.8100891113281,
          373.8399963378906,
          373.80999755859375,
          373.87249755859375,
          373.80999755859375,
          373.9159851074219,
          373.9100036621094,
          373.9739074707031,
          374.0299987792969,
          374.0199890136719,
          373.79998779296875,
          373.75,
          373.5299072265625,
          373.3800048828125,
          373.3299865722656,
          373.3908996582031,
          373.44000244140625,
          373.69000244140625,
          373.57000732421875,
          373.17999267578125,
          373.07000732421875,
          373.0799865722656,
          373.1600036621094,
          373.0799865722656,
          373.239990234375,
          373.1400146484375,
          373.3399963378906,
          373,
          373.7460021972656,
          373.75,
          373.7799987792969,
          373.9200134277344,
          374.2099914550781,
          374.1050109863281,
          373.8800048828125,
          374.7300109863281
         ],
         "high": [
          374.20001220703125,
          373.57000732421875,
          373.4150085449219,
          373.6499938964844,
          373.7001037597656,
          373.57000732421875,
          373.489990234375,
          373.6499938964844,
          373.6199951171875,
          373.5899963378906,
          373.4800109863281,
          373.4800109863281,
          373.3900146484375,
          373.2799987792969,
          373.25,
          373.19000244140625,
          373.44000244140625,
          373.510009765625,
          373.69000244140625,
          373.75,
          373.45001220703125,
          373.5150146484375,
          373.6199951171875,
          373.9562072753906,
          374.1400146484375,
          374.17999267578125,
          374.2099914550781,
          374.2699890136719,
          374.2799987792969,
          374.2799987792969,
          374.1000061035156,
          374.2200012207031,
          374.3450012207031,
          374.57000732421875,
          374.32000732421875,
          373.7926025390625,
          373.5498962402344,
          373.6300048828125,
          373.80999755859375,
          373.8374938964844,
          374.0050048828125,
          373.9800109863281,
          373.8699951171875,
          373.9700012207031,
          373.9740905761719,
          374,
          373.94000244140625,
          374.0199890136719,
          374.0799865722656,
          374.1300048828125,
          374.11248779296875,
          374.0899963378906,
          373.8999938964844,
          373.7576904296875,
          373.5299987792969,
          373.4750061035156,
          373.4150085449219,
          373.5199890136719,
          373.7699890136719,
          373.7200012207031,
          373.6099853515625,
          373.239990234375,
          373.19000244140625,
          373.29998779296875,
          373.2499084472656,
          373.4800109863281,
          373.2950134277344,
          373.3479919433594,
          373.44000244140625,
          373.8999938964844,
          373.989990234375,
          374.2799987792969,
          374.1700134277344,
          374.2900085449219,
          374.4200134277344,
          374.3714904785156,
          374.8500061035156,
          375.05999755859375
         ],
         "low": [
          373.2300109863281,
          373.1400146484375,
          373.2200012207031,
          373.1199951171875,
          373.4700012207031,
          373.2901916503906,
          373.19000244140625,
          373.3699951171875,
          373.3900146484375,
          373.30999755859375,
          373.2099914550781,
          373.239990234375,
          373.0199890136719,
          373.0199890136719,
          373.0299987792969,
          372.9599914550781,
          373.1499938964844,
          373.25,
          373.2699890136719,
          373.3900146484375,
          373.0799865722656,
          373.090087890625,
          373.1700134277344,
          373.2099914550781,
          373.92999267578125,
          373.989990234375,
          374.04998779296875,
          374.1099853515625,
          374.0799865722656,
          374.0199890136719,
          373.8500061035156,
          373.9800109863281,
          374.0299987792969,
          373.9849853515625,
          373.6700134277344,
          373.3699951171875,
          373.3800048828125,
          373.4400939941406,
          373.5799865722656,
          373.5450134277344,
          373.739990234375,
          373.7699890136719,
          373.7300109863281,
          373.75,
          373.7699890136719,
          373.7950134277344,
          373.7203063964844,
          373.7699890136719,
          373.82000732421875,
          373.92999267578125,
          373.94000244140625,
          373.75,
          373.7300109863281,
          373.45001220703125,
          373.20001220703125,
          373.2699890136719,
          373.2644958496094,
          373.3699951171875,
          373.3800048828125,
          373.3699951171875,
          373.1499938964844,
          372.8952941894531,
          372.9909973144531,
          373,
          372.8116149902344,
          373.07000732421875,
          373.0199890136719,
          372.92999267578125,
          372.9800109863281,
          372.92999267578125,
          373.6600036621094,
          373.4800109863281,
          373.7799987792969,
          373.82000732421875,
          373.9849853515625,
          373.7699890136719,
          373.69000244140625,
          373.69000244140625
         ],
         "name": "Stock Chart",
         "open": [
          373.260009765625,
          373.2699890136719,
          373.3699951171875,
          373.5799865722656,
          373.4800109863281,
          373.45001220703125,
          373.3800048828125,
          373.5899963378906,
          373.3900146484375,
          373.3609924316406,
          373.375,
          373.32000732421875,
          373.05999755859375,
          373.2200012207031,
          373.1000061035156,
          373.17999267578125,
          373.3800048828125,
          373.4200134277344,
          373.5400085449219,
          373.42999267578125,
          373.19000244140625,
          373.489990234375,
          373.2799072265625,
          373.9562072753906,
          374.0299987792969,
          374.05999755859375,
          374.1600036621094,
          374.1700134277344,
          374.1835021972656,
          374.0400085449219,
          374,
          374.1400146484375,
          374.04998779296875,
          374.20001220703125,
          373.67999267578125,
          373.44000244140625,
          373.45001220703125,
          373.6148986816406,
          373.6300048828125,
          373.79998779296875,
          373.9200134277344,
          373.8197021484375,
          373.8599853515625,
          373.82000732421875,
          373.8800048828125,
          373.83380126953125,
          373.8999938964844,
          373.9169921875,
          373.9849853515625,
          374.0299987792969,
          374.0199890136719,
          373.82000732421875,
          373.7326965332031,
          373.5199890136719,
          373.3800048828125,
          373.3299865722656,
          373.3800048828125,
          373.4101867675781,
          373.67999267578125,
          373.5799865722656,
          373.1499938964844,
          373.05999755859375,
          373.05999755859375,
          373.17999267578125,
          373.0899963378906,
          373.2300109863281,
          373.1499938964844,
          373.3349914550781,
          373.0150146484375,
          373.7301025390625,
          373.7449951171875,
          373.81500244140625,
          373.9200134277344,
          374.239990234375,
          374.135009765625,
          373.8550109863281,
          374.7099914550781,
          373.69000244140625
         ],
         "type": "candlestick",
         "x": [
          "2023-12-27 15:55:00.000000",
          "2023-12-27 15:50:00.000000",
          "2023-12-27 15:45:00.000000",
          "2023-12-27 15:40:00.000000",
          "2023-12-27 15:35:00.000000",
          "2023-12-27 15:30:00.000000",
          "2023-12-27 15:25:00.000000",
          "2023-12-27 15:20:00.000000",
          "2023-12-27 15:15:00.000000",
          "2023-12-27 15:10:00.000000",
          "2023-12-27 15:05:00.000000",
          "2023-12-27 15:00:00.000000",
          "2023-12-27 14:55:00.000000",
          "2023-12-27 14:50:00.000000",
          "2023-12-27 14:45:00.000000",
          "2023-12-27 14:40:00.000000",
          "2023-12-27 14:35:00.000000",
          "2023-12-27 14:30:00.000000",
          "2023-12-27 14:25:00.000000",
          "2023-12-27 14:20:00.000000",
          "2023-12-27 14:15:00.000000",
          "2023-12-27 14:10:00.000000",
          "2023-12-27 14:05:00.000000",
          "2023-12-27 14:00:00.000000",
          "2023-12-27 13:55:00.000000",
          "2023-12-27 13:50:00.000000",
          "2023-12-27 13:45:00.000000",
          "2023-12-27 13:40:00.000000",
          "2023-12-27 13:35:00.000000",
          "2023-12-27 13:30:00.000000",
          "2023-12-27 13:25:00.000000",
          "2023-12-27 13:20:00.000000",
          "2023-12-27 13:15:00.000000",
          "2023-12-27 13:10:00.000000",
          "2023-12-27 13:05:00.000000",
          "2023-12-27 13:00:00.000000",
          "2023-12-27 12:55:00.000000",
          "2023-12-27 12:50:00.000000",
          "2023-12-27 12:45:00.000000",
          "2023-12-27 12:40:00.000000",
          "2023-12-27 12:35:00.000000",
          "2023-12-27 12:30:00.000000",
          "2023-12-27 12:25:00.000000",
          "2023-12-27 12:20:00.000000",
          "2023-12-27 12:15:00.000000",
          "2023-12-27 12:10:00.000000",
          "2023-12-27 12:05:00.000000",
          "2023-12-27 12:00:00.000000",
          "2023-12-27 11:55:00.000000",
          "2023-12-27 11:50:00.000000",
          "2023-12-27 11:45:00.000000",
          "2023-12-27 11:40:00.000000",
          "2023-12-27 11:35:00.000000",
          "2023-12-27 11:30:00.000000",
          "2023-12-27 11:25:00.000000",
          "2023-12-27 11:20:00.000000",
          "2023-12-27 11:15:00.000000",
          "2023-12-27 11:10:00.000000",
          "2023-12-27 11:05:00.000000",
          "2023-12-27 11:00:00.000000",
          "2023-12-27 10:55:00.000000",
          "2023-12-27 10:50:00.000000",
          "2023-12-27 10:45:00.000000",
          "2023-12-27 10:40:00.000000",
          "2023-12-27 10:35:00.000000",
          "2023-12-27 10:30:00.000000",
          "2023-12-27 10:25:00.000000",
          "2023-12-27 10:20:00.000000",
          "2023-12-27 10:15:00.000000",
          "2023-12-27 10:10:00.000000",
          "2023-12-27 10:05:00.000000",
          "2023-12-27 10:00:00.000000",
          "2023-12-27 09:55:00.000000",
          "2023-12-27 09:50:00.000000",
          "2023-12-27 09:45:00.000000",
          "2023-12-27 09:40:00.000000",
          "2023-12-27 09:35:00.000000",
          "2023-12-27 09:30:00.000000"
         ]
        }
       ],
       "layout": {
        "template": {
         "data": {
          "bar": [
           {
            "error_x": {
             "color": "#2a3f5f"
            },
            "error_y": {
             "color": "#2a3f5f"
            },
            "marker": {
             "line": {
              "color": "#E5ECF6",
              "width": 0.5
             },
             "pattern": {
              "fillmode": "overlay",
              "size": 10,
              "solidity": 0.2
             }
            },
            "type": "bar"
           }
          ],
          "barpolar": [
           {
            "marker": {
             "line": {
              "color": "#E5ECF6",
              "width": 0.5
             },
             "pattern": {
              "fillmode": "overlay",
              "size": 10,
              "solidity": 0.2
             }
            },
            "type": "barpolar"
           }
          ],
          "carpet": [
           {
            "aaxis": {
             "endlinecolor": "#2a3f5f",
             "gridcolor": "white",
             "linecolor": "white",
             "minorgridcolor": "white",
             "startlinecolor": "#2a3f5f"
            },
            "baxis": {
             "endlinecolor": "#2a3f5f",
             "gridcolor": "white",
             "linecolor": "white",
             "minorgridcolor": "white",
             "startlinecolor": "#2a3f5f"
            },
            "type": "carpet"
           }
          ],
          "choropleth": [
           {
            "colorbar": {
             "outlinewidth": 0,
             "ticks": ""
            },
            "type": "choropleth"
           }
          ],
          "contour": [
           {
            "colorbar": {
             "outlinewidth": 0,
             "ticks": ""
            },
            "colorscale": [
             [
              0,
              "#0d0887"
             ],
             [
              0.1111111111111111,
              "#46039f"
             ],
             [
              0.2222222222222222,
              "#7201a8"
             ],
             [
              0.3333333333333333,
              "#9c179e"
             ],
             [
              0.4444444444444444,
              "#bd3786"
             ],
             [
              0.5555555555555556,
              "#d8576b"
             ],
             [
              0.6666666666666666,
              "#ed7953"
             ],
             [
              0.7777777777777778,
              "#fb9f3a"
             ],
             [
              0.8888888888888888,
              "#fdca26"
             ],
             [
              1,
              "#f0f921"
             ]
            ],
            "type": "contour"
           }
          ],
          "contourcarpet": [
           {
            "colorbar": {
             "outlinewidth": 0,
             "ticks": ""
            },
            "type": "contourcarpet"
           }
          ],
          "heatmap": [
           {
            "colorbar": {
             "outlinewidth": 0,
             "ticks": ""
            },
            "colorscale": [
             [
              0,
              "#0d0887"
             ],
             [
              0.1111111111111111,
              "#46039f"
             ],
             [
              0.2222222222222222,
              "#7201a8"
             ],
             [
              0.3333333333333333,
              "#9c179e"
             ],
             [
              0.4444444444444444,
              "#bd3786"
             ],
             [
              0.5555555555555556,
              "#d8576b"
             ],
             [
              0.6666666666666666,
              "#ed7953"
             ],
             [
              0.7777777777777778,
              "#fb9f3a"
             ],
             [
              0.8888888888888888,
              "#fdca26"
             ],
             [
              1,
              "#f0f921"
             ]
            ],
            "type": "heatmap"
           }
          ],
          "heatmapgl": [
           {
            "colorbar": {
             "outlinewidth": 0,
             "ticks": ""
            },
            "colorscale": [
             [
              0,
              "#0d0887"
             ],
             [
              0.1111111111111111,
              "#46039f"
             ],
             [
              0.2222222222222222,
              "#7201a8"
             ],
             [
              0.3333333333333333,
              "#9c179e"
             ],
             [
              0.4444444444444444,
              "#bd3786"
             ],
             [
              0.5555555555555556,
              "#d8576b"
             ],
             [
              0.6666666666666666,
              "#ed7953"
             ],
             [
              0.7777777777777778,
              "#fb9f3a"
             ],
             [
              0.8888888888888888,
              "#fdca26"
             ],
             [
              1,
              "#f0f921"
             ]
            ],
            "type": "heatmapgl"
           }
          ],
          "histogram": [
           {
            "marker": {
             "pattern": {
              "fillmode": "overlay",
              "size": 10,
              "solidity": 0.2
             }
            },
            "type": "histogram"
           }
          ],
          "histogram2d": [
           {
            "colorbar": {
             "outlinewidth": 0,
             "ticks": ""
            },
            "colorscale": [
             [
              0,
              "#0d0887"
             ],
             [
              0.1111111111111111,
              "#46039f"
             ],
             [
              0.2222222222222222,
              "#7201a8"
             ],
             [
              0.3333333333333333,
              "#9c179e"
             ],
             [
              0.4444444444444444,
              "#bd3786"
             ],
             [
              0.5555555555555556,
              "#d8576b"
             ],
             [
              0.6666666666666666,
              "#ed7953"
             ],
             [
              0.7777777777777778,
              "#fb9f3a"
             ],
             [
              0.8888888888888888,
              "#fdca26"
             ],
             [
              1,
              "#f0f921"
             ]
            ],
            "type": "histogram2d"
           }
          ],
          "histogram2dcontour": [
           {
            "colorbar": {
             "outlinewidth": 0,
             "ticks": ""
            },
            "colorscale": [
             [
              0,
              "#0d0887"
             ],
             [
              0.1111111111111111,
              "#46039f"
             ],
             [
              0.2222222222222222,
              "#7201a8"
             ],
             [
              0.3333333333333333,
              "#9c179e"
             ],
             [
              0.4444444444444444,
              "#bd3786"
             ],
             [
              0.5555555555555556,
              "#d8576b"
             ],
             [
              0.6666666666666666,
              "#ed7953"
             ],
             [
              0.7777777777777778,
              "#fb9f3a"
             ],
             [
              0.8888888888888888,
              "#fdca26"
             ],
             [
              1,
              "#f0f921"
             ]
            ],
            "type": "histogram2dcontour"
           }
          ],
          "mesh3d": [
           {
            "colorbar": {
             "outlinewidth": 0,
             "ticks": ""
            },
            "type": "mesh3d"
           }
          ],
          "parcoords": [
           {
            "line": {
             "colorbar": {
              "outlinewidth": 0,
              "ticks": ""
             }
            },
            "type": "parcoords"
           }
          ],
          "pie": [
           {
            "automargin": true,
            "type": "pie"
           }
          ],
          "scatter": [
           {
            "fillpattern": {
             "fillmode": "overlay",
             "size": 10,
             "solidity": 0.2
            },
            "type": "scatter"
           }
          ],
          "scatter3d": [
           {
            "line": {
             "colorbar": {
              "outlinewidth": 0,
              "ticks": ""
             }
            },
            "marker": {
             "colorbar": {
              "outlinewidth": 0,
              "ticks": ""
             }
            },
            "type": "scatter3d"
           }
          ],
          "scattercarpet": [
           {
            "marker": {
             "colorbar": {
              "outlinewidth": 0,
              "ticks": ""
             }
            },
            "type": "scattercarpet"
           }
          ],
          "scattergeo": [
           {
            "marker": {
             "colorbar": {
              "outlinewidth": 0,
              "ticks": ""
             }
            },
            "type": "scattergeo"
           }
          ],
          "scattergl": [
           {
            "marker": {
             "colorbar": {
              "outlinewidth": 0,
              "ticks": ""
             }
            },
            "type": "scattergl"
           }
          ],
          "scattermapbox": [
           {
            "marker": {
             "colorbar": {
              "outlinewidth": 0,
              "ticks": ""
             }
            },
            "type": "scattermapbox"
           }
          ],
          "scatterpolar": [
           {
            "marker": {
             "colorbar": {
              "outlinewidth": 0,
              "ticks": ""
             }
            },
            "type": "scatterpolar"
           }
          ],
          "scatterpolargl": [
           {
            "marker": {
             "colorbar": {
              "outlinewidth": 0,
              "ticks": ""
             }
            },
            "type": "scatterpolargl"
           }
          ],
          "scatterternary": [
           {
            "marker": {
             "colorbar": {
              "outlinewidth": 0,
              "ticks": ""
             }
            },
            "type": "scatterternary"
           }
          ],
          "surface": [
           {
            "colorbar": {
             "outlinewidth": 0,
             "ticks": ""
            },
            "colorscale": [
             [
              0,
              "#0d0887"
             ],
             [
              0.1111111111111111,
              "#46039f"
             ],
             [
              0.2222222222222222,
              "#7201a8"
             ],
             [
              0.3333333333333333,
              "#9c179e"
             ],
             [
              0.4444444444444444,
              "#bd3786"
             ],
             [
              0.5555555555555556,
              "#d8576b"
             ],
             [
              0.6666666666666666,
              "#ed7953"
             ],
             [
              0.7777777777777778,
              "#fb9f3a"
             ],
             [
              0.8888888888888888,
              "#fdca26"
             ],
             [
              1,
              "#f0f921"
             ]
            ],
            "type": "surface"
           }
          ],
          "table": [
           {
            "cells": {
             "fill": {
              "color": "#EBF0F8"
             },
             "line": {
              "color": "white"
             }
            },
            "header": {
             "fill": {
              "color": "#C8D4E3"
             },
             "line": {
              "color": "white"
             }
            },
            "type": "table"
           }
          ]
         },
         "layout": {
          "annotationdefaults": {
           "arrowcolor": "#2a3f5f",
           "arrowhead": 0,
           "arrowwidth": 1
          },
          "autotypenumbers": "strict",
          "coloraxis": {
           "colorbar": {
            "outlinewidth": 0,
            "ticks": ""
           }
          },
          "colorscale": {
           "diverging": [
            [
             0,
             "#8e0152"
            ],
            [
             0.1,
             "#c51b7d"
            ],
            [
             0.2,
             "#de77ae"
            ],
            [
             0.3,
             "#f1b6da"
            ],
            [
             0.4,
             "#fde0ef"
            ],
            [
             0.5,
             "#f7f7f7"
            ],
            [
             0.6,
             "#e6f5d0"
            ],
            [
             0.7,
             "#b8e186"
            ],
            [
             0.8,
             "#7fbc41"
            ],
            [
             0.9,
             "#4d9221"
            ],
            [
             1,
             "#276419"
            ]
           ],
           "sequential": [
            [
             0,
             "#0d0887"
            ],
            [
             0.1111111111111111,
             "#46039f"
            ],
            [
             0.2222222222222222,
             "#7201a8"
            ],
            [
             0.3333333333333333,
             "#9c179e"
            ],
            [
             0.4444444444444444,
             "#bd3786"
            ],
            [
             0.5555555555555556,
             "#d8576b"
            ],
            [
             0.6666666666666666,
             "#ed7953"
            ],
            [
             0.7777777777777778,
             "#fb9f3a"
            ],
            [
             0.8888888888888888,
             "#fdca26"
            ],
            [
             1,
             "#f0f921"
            ]
           ],
           "sequentialminus": [
            [
             0,
             "#0d0887"
            ],
            [
             0.1111111111111111,
             "#46039f"
            ],
            [
             0.2222222222222222,
             "#7201a8"
            ],
            [
             0.3333333333333333,
             "#9c179e"
            ],
            [
             0.4444444444444444,
             "#bd3786"
            ],
            [
             0.5555555555555556,
             "#d8576b"
            ],
            [
             0.6666666666666666,
             "#ed7953"
            ],
            [
             0.7777777777777778,
             "#fb9f3a"
            ],
            [
             0.8888888888888888,
             "#fdca26"
            ],
            [
             1,
             "#f0f921"
            ]
           ]
          },
          "colorway": [
           "#636efa",
           "#EF553B",
           "#00cc96",
           "#ab63fa",
           "#FFA15A",
           "#19d3f3",
           "#FF6692",
           "#B6E880",
           "#FF97FF",
           "#FECB52"
          ],
          "font": {
           "color": "#2a3f5f"
          },
          "geo": {
           "bgcolor": "white",
           "lakecolor": "white",
           "landcolor": "#E5ECF6",
           "showlakes": true,
           "showland": true,
           "subunitcolor": "white"
          },
          "hoverlabel": {
           "align": "left"
          },
          "hovermode": "closest",
          "mapbox": {
           "style": "light"
          },
          "paper_bgcolor": "white",
          "plot_bgcolor": "#E5ECF6",
          "polar": {
           "angularaxis": {
            "gridcolor": "white",
            "linecolor": "white",
            "ticks": ""
           },
           "bgcolor": "#E5ECF6",
           "radialaxis": {
            "gridcolor": "white",
            "linecolor": "white",
            "ticks": ""
           }
          },
          "scene": {
           "xaxis": {
            "backgroundcolor": "#E5ECF6",
            "gridcolor": "white",
            "gridwidth": 2,
            "linecolor": "white",
            "showbackground": true,
            "ticks": "",
            "zerolinecolor": "white"
           },
           "yaxis": {
            "backgroundcolor": "#E5ECF6",
            "gridcolor": "white",
            "gridwidth": 2,
            "linecolor": "white",
            "showbackground": true,
            "ticks": "",
            "zerolinecolor": "white"
           },
           "zaxis": {
            "backgroundcolor": "#E5ECF6",
            "gridcolor": "white",
            "gridwidth": 2,
            "linecolor": "white",
            "showbackground": true,
            "ticks": "",
            "zerolinecolor": "white"
           }
          },
          "shapedefaults": {
           "line": {
            "color": "#2a3f5f"
           }
          },
          "ternary": {
           "aaxis": {
            "gridcolor": "white",
            "linecolor": "white",
            "ticks": ""
           },
           "baxis": {
            "gridcolor": "white",
            "linecolor": "white",
            "ticks": ""
           },
           "bgcolor": "#E5ECF6",
           "caxis": {
            "gridcolor": "white",
            "linecolor": "white",
            "ticks": ""
           }
          },
          "title": {
           "x": 0.05
          },
          "xaxis": {
           "automargin": true,
           "gridcolor": "white",
           "linecolor": "white",
           "ticks": "",
           "title": {
            "standoff": 15
           },
           "zerolinecolor": "white",
           "zerolinewidth": 2
          },
          "yaxis": {
           "automargin": true,
           "gridcolor": "white",
           "linecolor": "white",
           "ticks": "",
           "title": {
            "standoff": 15
           },
           "zerolinecolor": "white",
           "zerolinewidth": 2
          }
         }
        },
        "title": {
         "text": "MSFT Chart Data"
        },
        "xaxis": {
         "rangeselector": {
          "buttons": [
           {
            "count": 5,
            "label": "5m",
            "step": "minute",
            "stepmode": "backward"
           },
           {
            "count": 15,
            "label": "15m",
            "step": "minute",
            "stepmode": "backward"
           },
           {
            "count": 30,
            "label": "30m",
            "step": "minute",
            "stepmode": "backward"
           },
           {
            "count": 1,
            "label": "1h",
            "step": "hour",
            "stepmode": "todate"
           },
           {
            "count": 4,
            "label": "4h",
            "step": "hour",
            "stepmode": "todate"
           },
           {
            "step": "all"
           }
          ]
         },
         "rangeslider": {
          "visible": true
         }
        },
        "yaxis": {
         "range": [
          372.8116149902344,
          375.05999755859375
         ],
         "title": {
          "text": "Stock Price (USD)"
         }
        }
       }
      }
     },
     "metadata": {},
     "output_type": "display_data"
    },
    {
     "data": {
      "application/vnd.plotly.v1+json": {
       "config": {
        "plotlyServerURL": "https://plot.ly"
       },
       "data": [
        {
         "close": [
          140.41000366210938,
          140.12139892578125,
          140.13499450683594,
          140.1199951171875,
          140.24729919433594,
          140.22999572753906,
          140.1750030517578,
          140.12429809570312,
          140.1699981689453,
          140.05499267578125,
          140.1300048828125,
          140.0500030517578,
          140.00999450683594,
          139.91000366210938,
          140.0800018310547,
          140.08999633789062,
          140.11090087890625,
          140.19500732421875,
          140.2449951171875,
          140.19650268554688,
          140.13999938964844,
          140.0800018310547,
          140.1649932861328,
          140.1300048828125,
          140.33999633789062,
          140.44500732421875,
          140.45249938964844,
          140.49000549316406,
          140.45260620117188,
          140.48500061035156,
          140.50999450683594,
          140.52000427246094,
          140.4600067138672,
          140.2899932861328,
          140.30780029296875,
          140.08099365234375,
          140.05499267578125,
          140.039794921875,
          140.11500549316406,
          140.1300048828125,
          140.22500610351562,
          140.35499572753906,
          140.38070678710938,
          140.3800048828125,
          140.36000061035156,
          140.33999633789062,
          140.24000549316406,
          140.27999877929688,
          140.25779724121094,
          140.32000732421875,
          140.468994140625,
          140.44000244140625,
          140.35499572753906,
          140.35000610351562,
          140.25999450683594,
          140.08999633789062,
          140.24000549316406,
          140.16160583496094,
          140.3000030517578,
          140.27999877929688,
          140.43499755859375,
          140.2550048828125,
          140.16000366210938,
          140.22000122070312,
          140.27000427246094,
          140.03500366210938,
          140.33999633789062,
          140.2899932861328,
          140.4250030517578,
          140.16000366210938,
          140.5500030517578,
          140.6999969482422,
          140.9499969482422,
          140.9499969482422,
          141.00999450683594,
          141.32000732421875,
          141.30990600585938,
          141.61000061035156
         ],
         "high": [
          140.41000366210938,
          140.23500061035156,
          140.16000366210938,
          140.27000427246094,
          140.26319885253906,
          140.27000427246094,
          140.17999267578125,
          140.1999969482422,
          140.19000244140625,
          140.13999938964844,
          140.14849853515625,
          140.0850067138672,
          140.0670928955078,
          140.0800018310547,
          140.11000061035156,
          140.125,
          140.24000549316406,
          140.32000732421875,
          140.32000732421875,
          140.2449951171875,
          140.15499877929688,
          140.22999572753906,
          140.2050018310547,
          140.33999633789062,
          140.47999572753906,
          140.55999755859375,
          140.50999450683594,
          140.52999877929688,
          140.5561981201172,
          140.55999755859375,
          140.5749969482422,
          140.52999877929688,
          140.50999450683594,
          140.5399932861328,
          140.34500122070312,
          140.14500427246094,
          140.13999938964844,
          140.12759399414062,
          140.17999267578125,
          140.27000427246094,
          140.36000061035156,
          140.4499053955078,
          140.4250030517578,
          140.4499969482422,
          140.3699951171875,
          140.40020751953125,
          140.28500366210938,
          140.36000061035156,
          140.35000610351562,
          140.468994140625,
          140.48500061035156,
          140.44749450683594,
          140.42750549316406,
          140.3699951171875,
          140.27000427246094,
          140.27000427246094,
          140.27999877929688,
          140.2899932861328,
          140.33389282226562,
          140.47999572753906,
          140.49000549316406,
          140.30999755859375,
          140.37710571289062,
          140.28990173339844,
          140.3199005126953,
          140.3350067138672,
          140.4499969482422,
          140.4597930908203,
          140.47000122070312,
          140.6199951171875,
          140.72999572753906,
          140.97500610351562,
          141.1300048828125,
          141.10000610351562,
          141.34500122070312,
          141.6300048828125,
          141.75,
          142.0800018310547
         ],
         "low": [
          140.11000061035156,
          140.0399932861328,
          140.06500244140625,
          140.06500244140625,
          140.16000366210938,
          140.14500427246094,
          140.0749969482422,
          140.11000061035156,
          140.0500030517578,
          140.03500366210938,
          139.9600067138672,
          139.9550018310547,
          139.89999389648438,
          139.88600158691406,
          140.02499389648438,
          140.02999877929688,
          140.11000061035156,
          140.1199951171875,
          140.11000061035156,
          140.11000061035156,
          140.0500030517578,
          140.00999450683594,
          140.0399932861328,
          140.0399932861328,
          140.3300018310547,
          140.42080688476562,
          140.4304962158203,
          140.44000244140625,
          140.41000366210938,
          140.44000244140625,
          140.4600067138672,
          140.38999938964844,
          140.28309631347656,
          140.25999450683594,
          140.07000732421875,
          140.0399932861328,
          140.03500366210938,
          140.039794921875,
          140.11000061035156,
          140.10009765625,
          140.16000366210938,
          140.34500122070312,
          140.3000030517578,
          140.2949981689453,
          140.27099609375,
          140.22000122070312,
          140.2050018310547,
          140.2100067138672,
          140.21499633789062,
          140.28500366210938,
          140.3699951171875,
          140.30999755859375,
          140.3350067138672,
          140.2429962158203,
          140.0850067138672,
          140.05999755859375,
          140.15499877929688,
          140.1291961669922,
          140.22500610351562,
          140.25,
          140.22999572753906,
          139.97000122070312,
          140.154296875,
          140.13999938964844,
          140.00999450683594,
          140.03250122070312,
          140.22000122070312,
          140.24009704589844,
          140.14999389648438,
          140.13999938964844,
          140.4600067138672,
          140.5850067138672,
          140.82000732421875,
          140.89500427246094,
          140.97000122070312,
          141.22999572753906,
          141.22999572753906,
          141.55999755859375
         ],
         "name": "Stock Chart",
         "open": [
          140.1300048828125,
          140.1300048828125,
          140.1199951171875,
          140.2449951171875,
          140.22999572753906,
          140.1750030517578,
          140.1199951171875,
          140.1699981689453,
          140.05250549316406,
          140.1269989013672,
          140.0449981689453,
          140.01499938964844,
          139.906005859375,
          140.07000732421875,
          140.08999633789062,
          140.11000061035156,
          140.19500732421875,
          140.25,
          140.1999969482422,
          140.13999938964844,
          140.08999633789062,
          140.16000366210938,
          140.1300048828125,
          140.33999633789062,
          140.4499969482422,
          140.43499755859375,
          140.4949951171875,
          140.4600067138672,
          140.47999572753906,
          140.52000427246094,
          140.51739501953125,
          140.44500732421875,
          140.30999755859375,
          140.30499267578125,
          140.08009338378906,
          140.05149841308594,
          140.0399932861328,
          140.1199951171875,
          140.1300048828125,
          140.22500610351562,
          140.36000061035156,
          140.38499450683594,
          140.3800048828125,
          140.36000061035156,
          140.3300018310547,
          140.24000549316406,
          140.27999877929688,
          140.25999450683594,
          140.32000732421875,
          140.468994140625,
          140.44000244140625,
          140.35000610351562,
          140.35000610351562,
          140.2550048828125,
          140.08999633789062,
          140.22999572753906,
          140.1699981689453,
          140.2899932861328,
          140.27000427246094,
          140.42999267578125,
          140.25,
          140.1699981689453,
          140.22999572753906,
          140.27000427246094,
          140.0399932861328,
          140.3350067138672,
          140.28469848632812,
          140.4199981689453,
          140.1699981689453,
          140.54420471191406,
          140.69500732421875,
          140.9499969482422,
          140.9600067138672,
          140.9949951171875,
          141.3000030517578,
          141.30999755859375,
          141.6199951171875,
          141.58999633789062
         ],
         "type": "candlestick",
         "x": [
          "2023-12-27 15:55:00.000000",
          "2023-12-27 15:50:00.000000",
          "2023-12-27 15:45:00.000000",
          "2023-12-27 15:40:00.000000",
          "2023-12-27 15:35:00.000000",
          "2023-12-27 15:30:00.000000",
          "2023-12-27 15:25:00.000000",
          "2023-12-27 15:20:00.000000",
          "2023-12-27 15:15:00.000000",
          "2023-12-27 15:10:00.000000",
          "2023-12-27 15:05:00.000000",
          "2023-12-27 15:00:00.000000",
          "2023-12-27 14:55:00.000000",
          "2023-12-27 14:50:00.000000",
          "2023-12-27 14:45:00.000000",
          "2023-12-27 14:40:00.000000",
          "2023-12-27 14:35:00.000000",
          "2023-12-27 14:30:00.000000",
          "2023-12-27 14:25:00.000000",
          "2023-12-27 14:20:00.000000",
          "2023-12-27 14:15:00.000000",
          "2023-12-27 14:10:00.000000",
          "2023-12-27 14:05:00.000000",
          "2023-12-27 14:00:00.000000",
          "2023-12-27 13:55:00.000000",
          "2023-12-27 13:50:00.000000",
          "2023-12-27 13:45:00.000000",
          "2023-12-27 13:40:00.000000",
          "2023-12-27 13:35:00.000000",
          "2023-12-27 13:30:00.000000",
          "2023-12-27 13:25:00.000000",
          "2023-12-27 13:20:00.000000",
          "2023-12-27 13:15:00.000000",
          "2023-12-27 13:10:00.000000",
          "2023-12-27 13:05:00.000000",
          "2023-12-27 13:00:00.000000",
          "2023-12-27 12:55:00.000000",
          "2023-12-27 12:50:00.000000",
          "2023-12-27 12:45:00.000000",
          "2023-12-27 12:40:00.000000",
          "2023-12-27 12:35:00.000000",
          "2023-12-27 12:30:00.000000",
          "2023-12-27 12:25:00.000000",
          "2023-12-27 12:20:00.000000",
          "2023-12-27 12:15:00.000000",
          "2023-12-27 12:10:00.000000",
          "2023-12-27 12:05:00.000000",
          "2023-12-27 12:00:00.000000",
          "2023-12-27 11:55:00.000000",
          "2023-12-27 11:50:00.000000",
          "2023-12-27 11:45:00.000000",
          "2023-12-27 11:40:00.000000",
          "2023-12-27 11:35:00.000000",
          "2023-12-27 11:30:00.000000",
          "2023-12-27 11:25:00.000000",
          "2023-12-27 11:20:00.000000",
          "2023-12-27 11:15:00.000000",
          "2023-12-27 11:10:00.000000",
          "2023-12-27 11:05:00.000000",
          "2023-12-27 11:00:00.000000",
          "2023-12-27 10:55:00.000000",
          "2023-12-27 10:50:00.000000",
          "2023-12-27 10:45:00.000000",
          "2023-12-27 10:40:00.000000",
          "2023-12-27 10:35:00.000000",
          "2023-12-27 10:30:00.000000",
          "2023-12-27 10:25:00.000000",
          "2023-12-27 10:20:00.000000",
          "2023-12-27 10:15:00.000000",
          "2023-12-27 10:10:00.000000",
          "2023-12-27 10:05:00.000000",
          "2023-12-27 10:00:00.000000",
          "2023-12-27 09:55:00.000000",
          "2023-12-27 09:50:00.000000",
          "2023-12-27 09:45:00.000000",
          "2023-12-27 09:40:00.000000",
          "2023-12-27 09:35:00.000000",
          "2023-12-27 09:30:00.000000"
         ]
        }
       ],
       "layout": {
        "template": {
         "data": {
          "bar": [
           {
            "error_x": {
             "color": "#2a3f5f"
            },
            "error_y": {
             "color": "#2a3f5f"
            },
            "marker": {
             "line": {
              "color": "#E5ECF6",
              "width": 0.5
             },
             "pattern": {
              "fillmode": "overlay",
              "size": 10,
              "solidity": 0.2
             }
            },
            "type": "bar"
           }
          ],
          "barpolar": [
           {
            "marker": {
             "line": {
              "color": "#E5ECF6",
              "width": 0.5
             },
             "pattern": {
              "fillmode": "overlay",
              "size": 10,
              "solidity": 0.2
             }
            },
            "type": "barpolar"
           }
          ],
          "carpet": [
           {
            "aaxis": {
             "endlinecolor": "#2a3f5f",
             "gridcolor": "white",
             "linecolor": "white",
             "minorgridcolor": "white",
             "startlinecolor": "#2a3f5f"
            },
            "baxis": {
             "endlinecolor": "#2a3f5f",
             "gridcolor": "white",
             "linecolor": "white",
             "minorgridcolor": "white",
             "startlinecolor": "#2a3f5f"
            },
            "type": "carpet"
           }
          ],
          "choropleth": [
           {
            "colorbar": {
             "outlinewidth": 0,
             "ticks": ""
            },
            "type": "choropleth"
           }
          ],
          "contour": [
           {
            "colorbar": {
             "outlinewidth": 0,
             "ticks": ""
            },
            "colorscale": [
             [
              0,
              "#0d0887"
             ],
             [
              0.1111111111111111,
              "#46039f"
             ],
             [
              0.2222222222222222,
              "#7201a8"
             ],
             [
              0.3333333333333333,
              "#9c179e"
             ],
             [
              0.4444444444444444,
              "#bd3786"
             ],
             [
              0.5555555555555556,
              "#d8576b"
             ],
             [
              0.6666666666666666,
              "#ed7953"
             ],
             [
              0.7777777777777778,
              "#fb9f3a"
             ],
             [
              0.8888888888888888,
              "#fdca26"
             ],
             [
              1,
              "#f0f921"
             ]
            ],
            "type": "contour"
           }
          ],
          "contourcarpet": [
           {
            "colorbar": {
             "outlinewidth": 0,
             "ticks": ""
            },
            "type": "contourcarpet"
           }
          ],
          "heatmap": [
           {
            "colorbar": {
             "outlinewidth": 0,
             "ticks": ""
            },
            "colorscale": [
             [
              0,
              "#0d0887"
             ],
             [
              0.1111111111111111,
              "#46039f"
             ],
             [
              0.2222222222222222,
              "#7201a8"
             ],
             [
              0.3333333333333333,
              "#9c179e"
             ],
             [
              0.4444444444444444,
              "#bd3786"
             ],
             [
              0.5555555555555556,
              "#d8576b"
             ],
             [
              0.6666666666666666,
              "#ed7953"
             ],
             [
              0.7777777777777778,
              "#fb9f3a"
             ],
             [
              0.8888888888888888,
              "#fdca26"
             ],
             [
              1,
              "#f0f921"
             ]
            ],
            "type": "heatmap"
           }
          ],
          "heatmapgl": [
           {
            "colorbar": {
             "outlinewidth": 0,
             "ticks": ""
            },
            "colorscale": [
             [
              0,
              "#0d0887"
             ],
             [
              0.1111111111111111,
              "#46039f"
             ],
             [
              0.2222222222222222,
              "#7201a8"
             ],
             [
              0.3333333333333333,
              "#9c179e"
             ],
             [
              0.4444444444444444,
              "#bd3786"
             ],
             [
              0.5555555555555556,
              "#d8576b"
             ],
             [
              0.6666666666666666,
              "#ed7953"
             ],
             [
              0.7777777777777778,
              "#fb9f3a"
             ],
             [
              0.8888888888888888,
              "#fdca26"
             ],
             [
              1,
              "#f0f921"
             ]
            ],
            "type": "heatmapgl"
           }
          ],
          "histogram": [
           {
            "marker": {
             "pattern": {
              "fillmode": "overlay",
              "size": 10,
              "solidity": 0.2
             }
            },
            "type": "histogram"
           }
          ],
          "histogram2d": [
           {
            "colorbar": {
             "outlinewidth": 0,
             "ticks": ""
            },
            "colorscale": [
             [
              0,
              "#0d0887"
             ],
             [
              0.1111111111111111,
              "#46039f"
             ],
             [
              0.2222222222222222,
              "#7201a8"
             ],
             [
              0.3333333333333333,
              "#9c179e"
             ],
             [
              0.4444444444444444,
              "#bd3786"
             ],
             [
              0.5555555555555556,
              "#d8576b"
             ],
             [
              0.6666666666666666,
              "#ed7953"
             ],
             [
              0.7777777777777778,
              "#fb9f3a"
             ],
             [
              0.8888888888888888,
              "#fdca26"
             ],
             [
              1,
              "#f0f921"
             ]
            ],
            "type": "histogram2d"
           }
          ],
          "histogram2dcontour": [
           {
            "colorbar": {
             "outlinewidth": 0,
             "ticks": ""
            },
            "colorscale": [
             [
              0,
              "#0d0887"
             ],
             [
              0.1111111111111111,
              "#46039f"
             ],
             [
              0.2222222222222222,
              "#7201a8"
             ],
             [
              0.3333333333333333,
              "#9c179e"
             ],
             [
              0.4444444444444444,
              "#bd3786"
             ],
             [
              0.5555555555555556,
              "#d8576b"
             ],
             [
              0.6666666666666666,
              "#ed7953"
             ],
             [
              0.7777777777777778,
              "#fb9f3a"
             ],
             [
              0.8888888888888888,
              "#fdca26"
             ],
             [
              1,
              "#f0f921"
             ]
            ],
            "type": "histogram2dcontour"
           }
          ],
          "mesh3d": [
           {
            "colorbar": {
             "outlinewidth": 0,
             "ticks": ""
            },
            "type": "mesh3d"
           }
          ],
          "parcoords": [
           {
            "line": {
             "colorbar": {
              "outlinewidth": 0,
              "ticks": ""
             }
            },
            "type": "parcoords"
           }
          ],
          "pie": [
           {
            "automargin": true,
            "type": "pie"
           }
          ],
          "scatter": [
           {
            "fillpattern": {
             "fillmode": "overlay",
             "size": 10,
             "solidity": 0.2
            },
            "type": "scatter"
           }
          ],
          "scatter3d": [
           {
            "line": {
             "colorbar": {
              "outlinewidth": 0,
              "ticks": ""
             }
            },
            "marker": {
             "colorbar": {
              "outlinewidth": 0,
              "ticks": ""
             }
            },
            "type": "scatter3d"
           }
          ],
          "scattercarpet": [
           {
            "marker": {
             "colorbar": {
              "outlinewidth": 0,
              "ticks": ""
             }
            },
            "type": "scattercarpet"
           }
          ],
          "scattergeo": [
           {
            "marker": {
             "colorbar": {
              "outlinewidth": 0,
              "ticks": ""
             }
            },
            "type": "scattergeo"
           }
          ],
          "scattergl": [
           {
            "marker": {
             "colorbar": {
              "outlinewidth": 0,
              "ticks": ""
             }
            },
            "type": "scattergl"
           }
          ],
          "scattermapbox": [
           {
            "marker": {
             "colorbar": {
              "outlinewidth": 0,
              "ticks": ""
             }
            },
            "type": "scattermapbox"
           }
          ],
          "scatterpolar": [
           {
            "marker": {
             "colorbar": {
              "outlinewidth": 0,
              "ticks": ""
             }
            },
            "type": "scatterpolar"
           }
          ],
          "scatterpolargl": [
           {
            "marker": {
             "colorbar": {
              "outlinewidth": 0,
              "ticks": ""
             }
            },
            "type": "scatterpolargl"
           }
          ],
          "scatterternary": [
           {
            "marker": {
             "colorbar": {
              "outlinewidth": 0,
              "ticks": ""
             }
            },
            "type": "scatterternary"
           }
          ],
          "surface": [
           {
            "colorbar": {
             "outlinewidth": 0,
             "ticks": ""
            },
            "colorscale": [
             [
              0,
              "#0d0887"
             ],
             [
              0.1111111111111111,
              "#46039f"
             ],
             [
              0.2222222222222222,
              "#7201a8"
             ],
             [
              0.3333333333333333,
              "#9c179e"
             ],
             [
              0.4444444444444444,
              "#bd3786"
             ],
             [
              0.5555555555555556,
              "#d8576b"
             ],
             [
              0.6666666666666666,
              "#ed7953"
             ],
             [
              0.7777777777777778,
              "#fb9f3a"
             ],
             [
              0.8888888888888888,
              "#fdca26"
             ],
             [
              1,
              "#f0f921"
             ]
            ],
            "type": "surface"
           }
          ],
          "table": [
           {
            "cells": {
             "fill": {
              "color": "#EBF0F8"
             },
             "line": {
              "color": "white"
             }
            },
            "header": {
             "fill": {
              "color": "#C8D4E3"
             },
             "line": {
              "color": "white"
             }
            },
            "type": "table"
           }
          ]
         },
         "layout": {
          "annotationdefaults": {
           "arrowcolor": "#2a3f5f",
           "arrowhead": 0,
           "arrowwidth": 1
          },
          "autotypenumbers": "strict",
          "coloraxis": {
           "colorbar": {
            "outlinewidth": 0,
            "ticks": ""
           }
          },
          "colorscale": {
           "diverging": [
            [
             0,
             "#8e0152"
            ],
            [
             0.1,
             "#c51b7d"
            ],
            [
             0.2,
             "#de77ae"
            ],
            [
             0.3,
             "#f1b6da"
            ],
            [
             0.4,
             "#fde0ef"
            ],
            [
             0.5,
             "#f7f7f7"
            ],
            [
             0.6,
             "#e6f5d0"
            ],
            [
             0.7,
             "#b8e186"
            ],
            [
             0.8,
             "#7fbc41"
            ],
            [
             0.9,
             "#4d9221"
            ],
            [
             1,
             "#276419"
            ]
           ],
           "sequential": [
            [
             0,
             "#0d0887"
            ],
            [
             0.1111111111111111,
             "#46039f"
            ],
            [
             0.2222222222222222,
             "#7201a8"
            ],
            [
             0.3333333333333333,
             "#9c179e"
            ],
            [
             0.4444444444444444,
             "#bd3786"
            ],
            [
             0.5555555555555556,
             "#d8576b"
            ],
            [
             0.6666666666666666,
             "#ed7953"
            ],
            [
             0.7777777777777778,
             "#fb9f3a"
            ],
            [
             0.8888888888888888,
             "#fdca26"
            ],
            [
             1,
             "#f0f921"
            ]
           ],
           "sequentialminus": [
            [
             0,
             "#0d0887"
            ],
            [
             0.1111111111111111,
             "#46039f"
            ],
            [
             0.2222222222222222,
             "#7201a8"
            ],
            [
             0.3333333333333333,
             "#9c179e"
            ],
            [
             0.4444444444444444,
             "#bd3786"
            ],
            [
             0.5555555555555556,
             "#d8576b"
            ],
            [
             0.6666666666666666,
             "#ed7953"
            ],
            [
             0.7777777777777778,
             "#fb9f3a"
            ],
            [
             0.8888888888888888,
             "#fdca26"
            ],
            [
             1,
             "#f0f921"
            ]
           ]
          },
          "colorway": [
           "#636efa",
           "#EF553B",
           "#00cc96",
           "#ab63fa",
           "#FFA15A",
           "#19d3f3",
           "#FF6692",
           "#B6E880",
           "#FF97FF",
           "#FECB52"
          ],
          "font": {
           "color": "#2a3f5f"
          },
          "geo": {
           "bgcolor": "white",
           "lakecolor": "white",
           "landcolor": "#E5ECF6",
           "showlakes": true,
           "showland": true,
           "subunitcolor": "white"
          },
          "hoverlabel": {
           "align": "left"
          },
          "hovermode": "closest",
          "mapbox": {
           "style": "light"
          },
          "paper_bgcolor": "white",
          "plot_bgcolor": "#E5ECF6",
          "polar": {
           "angularaxis": {
            "gridcolor": "white",
            "linecolor": "white",
            "ticks": ""
           },
           "bgcolor": "#E5ECF6",
           "radialaxis": {
            "gridcolor": "white",
            "linecolor": "white",
            "ticks": ""
           }
          },
          "scene": {
           "xaxis": {
            "backgroundcolor": "#E5ECF6",
            "gridcolor": "white",
            "gridwidth": 2,
            "linecolor": "white",
            "showbackground": true,
            "ticks": "",
            "zerolinecolor": "white"
           },
           "yaxis": {
            "backgroundcolor": "#E5ECF6",
            "gridcolor": "white",
            "gridwidth": 2,
            "linecolor": "white",
            "showbackground": true,
            "ticks": "",
            "zerolinecolor": "white"
           },
           "zaxis": {
            "backgroundcolor": "#E5ECF6",
            "gridcolor": "white",
            "gridwidth": 2,
            "linecolor": "white",
            "showbackground": true,
            "ticks": "",
            "zerolinecolor": "white"
           }
          },
          "shapedefaults": {
           "line": {
            "color": "#2a3f5f"
           }
          },
          "ternary": {
           "aaxis": {
            "gridcolor": "white",
            "linecolor": "white",
            "ticks": ""
           },
           "baxis": {
            "gridcolor": "white",
            "linecolor": "white",
            "ticks": ""
           },
           "bgcolor": "#E5ECF6",
           "caxis": {
            "gridcolor": "white",
            "linecolor": "white",
            "ticks": ""
           }
          },
          "title": {
           "x": 0.05
          },
          "xaxis": {
           "automargin": true,
           "gridcolor": "white",
           "linecolor": "white",
           "ticks": "",
           "title": {
            "standoff": 15
           },
           "zerolinecolor": "white",
           "zerolinewidth": 2
          },
          "yaxis": {
           "automargin": true,
           "gridcolor": "white",
           "linecolor": "white",
           "ticks": "",
           "title": {
            "standoff": 15
           },
           "zerolinecolor": "white",
           "zerolinewidth": 2
          }
         }
        },
        "title": {
         "text": "GOOGL Chart Data"
        },
        "xaxis": {
         "rangeselector": {
          "buttons": [
           {
            "count": 5,
            "label": "5m",
            "step": "minute",
            "stepmode": "backward"
           },
           {
            "count": 15,
            "label": "15m",
            "step": "minute",
            "stepmode": "backward"
           },
           {
            "count": 30,
            "label": "30m",
            "step": "minute",
            "stepmode": "backward"
           },
           {
            "count": 1,
            "label": "1h",
            "step": "hour",
            "stepmode": "todate"
           },
           {
            "count": 4,
            "label": "4h",
            "step": "hour",
            "stepmode": "todate"
           },
           {
            "step": "all"
           }
          ]
         },
         "rangeslider": {
          "visible": true
         }
        },
        "yaxis": {
         "range": [
          139.88600158691406,
          142.0800018310547
         ],
         "title": {
          "text": "Stock Price (USD)"
         }
        }
       }
      }
     },
     "metadata": {},
     "output_type": "display_data"
    },
    {
     "data": {
      "application/vnd.plotly.v1+json": {
       "config": {
        "plotlyServerURL": "https://plot.ly"
       },
       "data": [
        {
         "close": [
          494.2099914550781,
          493.7300109863281,
          493.70001220703125,
          493.6600036621094,
          493.9100036621094,
          493.82501220703125,
          493.7388916015625,
          493.635009765625,
          493.92999267578125,
          493.7684020996094,
          493.8984069824219,
          493.9100036621094,
          493.92999267578125,
          493.4869079589844,
          493.614990234375,
          493.4316101074219,
          493.760009765625,
          493.8500061035156,
          494.1300964355469,
          494.05218505859375,
          493.7950134277344,
          493.3949890136719,
          493.5199890136719,
          493.2900085449219,
          494.6000061035156,
          494.8599853515625,
          494.8399963378906,
          494.54998779296875,
          494.6199951171875,
          494.41339111328125,
          494.260009765625,
          494.10101318359375,
          494.4549865722656,
          494.3699951171875,
          494.4800109863281,
          493.8299865722656,
          493.7398986816406,
          493.8800048828125,
          494.0450134277344,
          493.9761962890625,
          494.1400146484375,
          494.44549560546875,
          494.0299987792969,
          494.0661926269531,
          493.94000244140625,
          494.0700988769531,
          493.81500244140625,
          493.8077087402344,
          493.918701171875,
          493.9573974609375,
          494,
          494.39111328125,
          494.25,
          494.08331298828125,
          493.6227111816406,
          493.20001220703125,
          493.090087890625,
          492.6199951171875,
          492.3940124511719,
          492.6061096191406,
          492.44000244140625,
          491.8175964355469,
          491.8804931640625,
          491.8500061035156,
          492.1625061035156,
          491.6700134277344,
          491.9849853515625,
          491.69000244140625,
          491.8418884277344,
          491.1099853515625,
          492.69000244140625,
          493.37249755859375,
          493.69000244140625,
          493.57989501953125,
          493.8699951171875,
          494.3500061035156,
          494.19000244140625,
          494.82000732421875
         ],
         "high": [
          494.3500061035156,
          493.8699951171875,
          493.75,
          494.08990478515625,
          494.0199890136719,
          493.95001220703125,
          493.7677917480469,
          493.98089599609375,
          494,
          493.95001220703125,
          494,
          494.20001220703125,
          494.07000732421875,
          493.70001220703125,
          493.69000244140625,
          494.05218505859375,
          493.98260498046875,
          494.25,
          494.3699951171875,
          494.1600036621094,
          493.8334045410156,
          493.81988525390625,
          493.7099914550781,
          494.5799865722656,
          494.95001220703125,
          495.0799865722656,
          494.9800109863281,
          494.7699890136719,
          494.69000244140625,
          494.4800109863281,
          494.49481201171875,
          494.5799865722656,
          494.6000061035156,
          494.96710205078125,
          494.6000061035156,
          494.1000061035156,
          494.0400085449219,
          494.1000061035156,
          494.20001220703125,
          494.2820129394531,
          494.489990234375,
          494.5,
          494.1488037109375,
          494.20001220703125,
          494.1499938964844,
          494.2200012207031,
          493.8999938964844,
          494.04998779296875,
          494.4200134277344,
          494.17999267578125,
          494.42999267578125,
          494.6199951171875,
          494.2799987792969,
          494.1000061035156,
          493.6300048828125,
          493.42999267578125,
          493.2099914550781,
          492.8699951171875,
          492.79998779296875,
          492.8699035644531,
          492.75,
          492.239990234375,
          492.1499938964844,
          492.5199890136719,
          492.3699951171875,
          492.07000732421875,
          492.20001220703125,
          492.0696105957031,
          491.95001220703125,
          493.059814453125,
          493.489990234375,
          493.8800048828125,
          494.1199951171875,
          494.0867004394531,
          494.7872009277344,
          494.8399963378906,
          495.810791015625,
          496.79998779296875
         ],
         "low": [
          493.4508056640625,
          493.2300109863281,
          493.3800048828125,
          493.5400085449219,
          493.6400146484375,
          493.41009521484375,
          493.3299865722656,
          493.54998779296875,
          493.6600036621094,
          493.5801086425781,
          493.57000732421875,
          493.6200866699219,
          493.1499938964844,
          493.4200134277344,
          493.2900085449219,
          493,
          493.60009765625,
          493.610107421875,
          493.7799987792969,
          493.68011474609375,
          493.19000244140625,
          493.1199951171875,
          492.8275146484375,
          493.0320129394531,
          494.5799865722656,
          494.69000244140625,
          494.5,
          494.3800048828125,
          494.3299865722656,
          494.20001220703125,
          494.05010986328125,
          494.10101318359375,
          494.1700134277344,
          494.1000061035156,
          493.7200927734375,
          493.54998779296875,
          493.6400146484375,
          493.760009765625,
          493.9100036621094,
          493.75,
          494,
          494.03009033203125,
          493.8128967285156,
          493.739501953125,
          493.7900085449219,
          493.70001220703125,
          493.5060119628906,
          493.6000061035156,
          493.79998779296875,
          493.75,
          493.9400939941406,
          493.9100036621094,
          493.9800109863281,
          493.5299987792969,
          492.893310546875,
          492.9700012207031,
          492.6600036621094,
          492.1000061035156,
          492.2250061035156,
          492.03009033203125,
          491.6370849609375,
          491.54998779296875,
          491.16009521484375,
          491.8299865722656,
          491.4100036621094,
          491.42999267578125,
          491.45001220703125,
          491.25,
          490.8500061035156,
          490.9735107421875,
          492.6285095214844,
          492.7099914550781,
          493.0400085449219,
          493.25,
          493.17999267578125,
          493.45001220703125,
          493.69000244140625,
          493.6300048828125
         ],
         "name": "Stock Chart",
         "open": [
          493.7200012207031,
          493.6099853515625,
          493.5799865722656,
          493.9700012207031,
          493.6824951171875,
          493.7799072265625,
          493.6400146484375,
          493.9283142089844,
          493.7749938964844,
          493.8900146484375,
          493.92999267578125,
          493.95001220703125,
          493.58990478515625,
          493.614990234375,
          493.44000244140625,
          493.75,
          493.8550109863281,
          494.17999267578125,
          494.0899963378906,
          493.7900085449219,
          493.45001220703125,
          493.64349365234375,
          493.17999267578125,
          494.5799865722656,
          494.79998779296875,
          494.7900085449219,
          494.5,
          494.6000061035156,
          494.42999267578125,
          494.2699890136719,
          494.1000061035156,
          494.4549865722656,
          494.42138671875,
          494.3699951171875,
          493.8299865722656,
          493.69000244140625,
          493.8599853515625,
          494.0450134277344,
          493.9599914550781,
          494.0780944824219,
          494.4800109863281,
          494.0899963378906,
          494.0934143066406,
          493.9200134277344,
          494.1000061035156,
          493.82000732421875,
          493.8349914550781,
          493.9309997558594,
          493.9330139160156,
          493.98529052734375,
          494.3550109863281,
          494.2200012207031,
          494.1000061035156,
          493.6099853515625,
          493.185791015625,
          493.125,
          492.70001220703125,
          492.3550109863281,
          492.6199951171875,
          492.45001220703125,
          491.7799987792969,
          491.82000732421875,
          491.8500061035156,
          492.1658935546875,
          491.5950012207031,
          492.0199890136719,
          491.69000244140625,
          491.80999755859375,
          491.1600036621094,
          492.7099914550781,
          493.3550109863281,
          493.70001220703125,
          493.5199890136719,
          493.9700012207031,
          494.510009765625,
          494.1199951171875,
          494.7300109863281,
          495.1099853515625
         ],
         "type": "candlestick",
         "x": [
          "2023-12-27 15:55:00.000000",
          "2023-12-27 15:50:00.000000",
          "2023-12-27 15:45:00.000000",
          "2023-12-27 15:40:00.000000",
          "2023-12-27 15:35:00.000000",
          "2023-12-27 15:30:00.000000",
          "2023-12-27 15:25:00.000000",
          "2023-12-27 15:20:00.000000",
          "2023-12-27 15:15:00.000000",
          "2023-12-27 15:10:00.000000",
          "2023-12-27 15:05:00.000000",
          "2023-12-27 15:00:00.000000",
          "2023-12-27 14:55:00.000000",
          "2023-12-27 14:50:00.000000",
          "2023-12-27 14:45:00.000000",
          "2023-12-27 14:40:00.000000",
          "2023-12-27 14:35:00.000000",
          "2023-12-27 14:30:00.000000",
          "2023-12-27 14:25:00.000000",
          "2023-12-27 14:20:00.000000",
          "2023-12-27 14:15:00.000000",
          "2023-12-27 14:10:00.000000",
          "2023-12-27 14:05:00.000000",
          "2023-12-27 14:00:00.000000",
          "2023-12-27 13:55:00.000000",
          "2023-12-27 13:50:00.000000",
          "2023-12-27 13:45:00.000000",
          "2023-12-27 13:40:00.000000",
          "2023-12-27 13:35:00.000000",
          "2023-12-27 13:30:00.000000",
          "2023-12-27 13:25:00.000000",
          "2023-12-27 13:20:00.000000",
          "2023-12-27 13:15:00.000000",
          "2023-12-27 13:10:00.000000",
          "2023-12-27 13:05:00.000000",
          "2023-12-27 13:00:00.000000",
          "2023-12-27 12:55:00.000000",
          "2023-12-27 12:50:00.000000",
          "2023-12-27 12:45:00.000000",
          "2023-12-27 12:40:00.000000",
          "2023-12-27 12:35:00.000000",
          "2023-12-27 12:30:00.000000",
          "2023-12-27 12:25:00.000000",
          "2023-12-27 12:20:00.000000",
          "2023-12-27 12:15:00.000000",
          "2023-12-27 12:10:00.000000",
          "2023-12-27 12:05:00.000000",
          "2023-12-27 12:00:00.000000",
          "2023-12-27 11:55:00.000000",
          "2023-12-27 11:50:00.000000",
          "2023-12-27 11:45:00.000000",
          "2023-12-27 11:40:00.000000",
          "2023-12-27 11:35:00.000000",
          "2023-12-27 11:30:00.000000",
          "2023-12-27 11:25:00.000000",
          "2023-12-27 11:20:00.000000",
          "2023-12-27 11:15:00.000000",
          "2023-12-27 11:10:00.000000",
          "2023-12-27 11:05:00.000000",
          "2023-12-27 11:00:00.000000",
          "2023-12-27 10:55:00.000000",
          "2023-12-27 10:50:00.000000",
          "2023-12-27 10:45:00.000000",
          "2023-12-27 10:40:00.000000",
          "2023-12-27 10:35:00.000000",
          "2023-12-27 10:30:00.000000",
          "2023-12-27 10:25:00.000000",
          "2023-12-27 10:20:00.000000",
          "2023-12-27 10:15:00.000000",
          "2023-12-27 10:10:00.000000",
          "2023-12-27 10:05:00.000000",
          "2023-12-27 10:00:00.000000",
          "2023-12-27 09:55:00.000000",
          "2023-12-27 09:50:00.000000",
          "2023-12-27 09:45:00.000000",
          "2023-12-27 09:40:00.000000",
          "2023-12-27 09:35:00.000000",
          "2023-12-27 09:30:00.000000"
         ]
        }
       ],
       "layout": {
        "template": {
         "data": {
          "bar": [
           {
            "error_x": {
             "color": "#2a3f5f"
            },
            "error_y": {
             "color": "#2a3f5f"
            },
            "marker": {
             "line": {
              "color": "#E5ECF6",
              "width": 0.5
             },
             "pattern": {
              "fillmode": "overlay",
              "size": 10,
              "solidity": 0.2
             }
            },
            "type": "bar"
           }
          ],
          "barpolar": [
           {
            "marker": {
             "line": {
              "color": "#E5ECF6",
              "width": 0.5
             },
             "pattern": {
              "fillmode": "overlay",
              "size": 10,
              "solidity": 0.2
             }
            },
            "type": "barpolar"
           }
          ],
          "carpet": [
           {
            "aaxis": {
             "endlinecolor": "#2a3f5f",
             "gridcolor": "white",
             "linecolor": "white",
             "minorgridcolor": "white",
             "startlinecolor": "#2a3f5f"
            },
            "baxis": {
             "endlinecolor": "#2a3f5f",
             "gridcolor": "white",
             "linecolor": "white",
             "minorgridcolor": "white",
             "startlinecolor": "#2a3f5f"
            },
            "type": "carpet"
           }
          ],
          "choropleth": [
           {
            "colorbar": {
             "outlinewidth": 0,
             "ticks": ""
            },
            "type": "choropleth"
           }
          ],
          "contour": [
           {
            "colorbar": {
             "outlinewidth": 0,
             "ticks": ""
            },
            "colorscale": [
             [
              0,
              "#0d0887"
             ],
             [
              0.1111111111111111,
              "#46039f"
             ],
             [
              0.2222222222222222,
              "#7201a8"
             ],
             [
              0.3333333333333333,
              "#9c179e"
             ],
             [
              0.4444444444444444,
              "#bd3786"
             ],
             [
              0.5555555555555556,
              "#d8576b"
             ],
             [
              0.6666666666666666,
              "#ed7953"
             ],
             [
              0.7777777777777778,
              "#fb9f3a"
             ],
             [
              0.8888888888888888,
              "#fdca26"
             ],
             [
              1,
              "#f0f921"
             ]
            ],
            "type": "contour"
           }
          ],
          "contourcarpet": [
           {
            "colorbar": {
             "outlinewidth": 0,
             "ticks": ""
            },
            "type": "contourcarpet"
           }
          ],
          "heatmap": [
           {
            "colorbar": {
             "outlinewidth": 0,
             "ticks": ""
            },
            "colorscale": [
             [
              0,
              "#0d0887"
             ],
             [
              0.1111111111111111,
              "#46039f"
             ],
             [
              0.2222222222222222,
              "#7201a8"
             ],
             [
              0.3333333333333333,
              "#9c179e"
             ],
             [
              0.4444444444444444,
              "#bd3786"
             ],
             [
              0.5555555555555556,
              "#d8576b"
             ],
             [
              0.6666666666666666,
              "#ed7953"
             ],
             [
              0.7777777777777778,
              "#fb9f3a"
             ],
             [
              0.8888888888888888,
              "#fdca26"
             ],
             [
              1,
              "#f0f921"
             ]
            ],
            "type": "heatmap"
           }
          ],
          "heatmapgl": [
           {
            "colorbar": {
             "outlinewidth": 0,
             "ticks": ""
            },
            "colorscale": [
             [
              0,
              "#0d0887"
             ],
             [
              0.1111111111111111,
              "#46039f"
             ],
             [
              0.2222222222222222,
              "#7201a8"
             ],
             [
              0.3333333333333333,
              "#9c179e"
             ],
             [
              0.4444444444444444,
              "#bd3786"
             ],
             [
              0.5555555555555556,
              "#d8576b"
             ],
             [
              0.6666666666666666,
              "#ed7953"
             ],
             [
              0.7777777777777778,
              "#fb9f3a"
             ],
             [
              0.8888888888888888,
              "#fdca26"
             ],
             [
              1,
              "#f0f921"
             ]
            ],
            "type": "heatmapgl"
           }
          ],
          "histogram": [
           {
            "marker": {
             "pattern": {
              "fillmode": "overlay",
              "size": 10,
              "solidity": 0.2
             }
            },
            "type": "histogram"
           }
          ],
          "histogram2d": [
           {
            "colorbar": {
             "outlinewidth": 0,
             "ticks": ""
            },
            "colorscale": [
             [
              0,
              "#0d0887"
             ],
             [
              0.1111111111111111,
              "#46039f"
             ],
             [
              0.2222222222222222,
              "#7201a8"
             ],
             [
              0.3333333333333333,
              "#9c179e"
             ],
             [
              0.4444444444444444,
              "#bd3786"
             ],
             [
              0.5555555555555556,
              "#d8576b"
             ],
             [
              0.6666666666666666,
              "#ed7953"
             ],
             [
              0.7777777777777778,
              "#fb9f3a"
             ],
             [
              0.8888888888888888,
              "#fdca26"
             ],
             [
              1,
              "#f0f921"
             ]
            ],
            "type": "histogram2d"
           }
          ],
          "histogram2dcontour": [
           {
            "colorbar": {
             "outlinewidth": 0,
             "ticks": ""
            },
            "colorscale": [
             [
              0,
              "#0d0887"
             ],
             [
              0.1111111111111111,
              "#46039f"
             ],
             [
              0.2222222222222222,
              "#7201a8"
             ],
             [
              0.3333333333333333,
              "#9c179e"
             ],
             [
              0.4444444444444444,
              "#bd3786"
             ],
             [
              0.5555555555555556,
              "#d8576b"
             ],
             [
              0.6666666666666666,
              "#ed7953"
             ],
             [
              0.7777777777777778,
              "#fb9f3a"
             ],
             [
              0.8888888888888888,
              "#fdca26"
             ],
             [
              1,
              "#f0f921"
             ]
            ],
            "type": "histogram2dcontour"
           }
          ],
          "mesh3d": [
           {
            "colorbar": {
             "outlinewidth": 0,
             "ticks": ""
            },
            "type": "mesh3d"
           }
          ],
          "parcoords": [
           {
            "line": {
             "colorbar": {
              "outlinewidth": 0,
              "ticks": ""
             }
            },
            "type": "parcoords"
           }
          ],
          "pie": [
           {
            "automargin": true,
            "type": "pie"
           }
          ],
          "scatter": [
           {
            "fillpattern": {
             "fillmode": "overlay",
             "size": 10,
             "solidity": 0.2
            },
            "type": "scatter"
           }
          ],
          "scatter3d": [
           {
            "line": {
             "colorbar": {
              "outlinewidth": 0,
              "ticks": ""
             }
            },
            "marker": {
             "colorbar": {
              "outlinewidth": 0,
              "ticks": ""
             }
            },
            "type": "scatter3d"
           }
          ],
          "scattercarpet": [
           {
            "marker": {
             "colorbar": {
              "outlinewidth": 0,
              "ticks": ""
             }
            },
            "type": "scattercarpet"
           }
          ],
          "scattergeo": [
           {
            "marker": {
             "colorbar": {
              "outlinewidth": 0,
              "ticks": ""
             }
            },
            "type": "scattergeo"
           }
          ],
          "scattergl": [
           {
            "marker": {
             "colorbar": {
              "outlinewidth": 0,
              "ticks": ""
             }
            },
            "type": "scattergl"
           }
          ],
          "scattermapbox": [
           {
            "marker": {
             "colorbar": {
              "outlinewidth": 0,
              "ticks": ""
             }
            },
            "type": "scattermapbox"
           }
          ],
          "scatterpolar": [
           {
            "marker": {
             "colorbar": {
              "outlinewidth": 0,
              "ticks": ""
             }
            },
            "type": "scatterpolar"
           }
          ],
          "scatterpolargl": [
           {
            "marker": {
             "colorbar": {
              "outlinewidth": 0,
              "ticks": ""
             }
            },
            "type": "scatterpolargl"
           }
          ],
          "scatterternary": [
           {
            "marker": {
             "colorbar": {
              "outlinewidth": 0,
              "ticks": ""
             }
            },
            "type": "scatterternary"
           }
          ],
          "surface": [
           {
            "colorbar": {
             "outlinewidth": 0,
             "ticks": ""
            },
            "colorscale": [
             [
              0,
              "#0d0887"
             ],
             [
              0.1111111111111111,
              "#46039f"
             ],
             [
              0.2222222222222222,
              "#7201a8"
             ],
             [
              0.3333333333333333,
              "#9c179e"
             ],
             [
              0.4444444444444444,
              "#bd3786"
             ],
             [
              0.5555555555555556,
              "#d8576b"
             ],
             [
              0.6666666666666666,
              "#ed7953"
             ],
             [
              0.7777777777777778,
              "#fb9f3a"
             ],
             [
              0.8888888888888888,
              "#fdca26"
             ],
             [
              1,
              "#f0f921"
             ]
            ],
            "type": "surface"
           }
          ],
          "table": [
           {
            "cells": {
             "fill": {
              "color": "#EBF0F8"
             },
             "line": {
              "color": "white"
             }
            },
            "header": {
             "fill": {
              "color": "#C8D4E3"
             },
             "line": {
              "color": "white"
             }
            },
            "type": "table"
           }
          ]
         },
         "layout": {
          "annotationdefaults": {
           "arrowcolor": "#2a3f5f",
           "arrowhead": 0,
           "arrowwidth": 1
          },
          "autotypenumbers": "strict",
          "coloraxis": {
           "colorbar": {
            "outlinewidth": 0,
            "ticks": ""
           }
          },
          "colorscale": {
           "diverging": [
            [
             0,
             "#8e0152"
            ],
            [
             0.1,
             "#c51b7d"
            ],
            [
             0.2,
             "#de77ae"
            ],
            [
             0.3,
             "#f1b6da"
            ],
            [
             0.4,
             "#fde0ef"
            ],
            [
             0.5,
             "#f7f7f7"
            ],
            [
             0.6,
             "#e6f5d0"
            ],
            [
             0.7,
             "#b8e186"
            ],
            [
             0.8,
             "#7fbc41"
            ],
            [
             0.9,
             "#4d9221"
            ],
            [
             1,
             "#276419"
            ]
           ],
           "sequential": [
            [
             0,
             "#0d0887"
            ],
            [
             0.1111111111111111,
             "#46039f"
            ],
            [
             0.2222222222222222,
             "#7201a8"
            ],
            [
             0.3333333333333333,
             "#9c179e"
            ],
            [
             0.4444444444444444,
             "#bd3786"
            ],
            [
             0.5555555555555556,
             "#d8576b"
            ],
            [
             0.6666666666666666,
             "#ed7953"
            ],
            [
             0.7777777777777778,
             "#fb9f3a"
            ],
            [
             0.8888888888888888,
             "#fdca26"
            ],
            [
             1,
             "#f0f921"
            ]
           ],
           "sequentialminus": [
            [
             0,
             "#0d0887"
            ],
            [
             0.1111111111111111,
             "#46039f"
            ],
            [
             0.2222222222222222,
             "#7201a8"
            ],
            [
             0.3333333333333333,
             "#9c179e"
            ],
            [
             0.4444444444444444,
             "#bd3786"
            ],
            [
             0.5555555555555556,
             "#d8576b"
            ],
            [
             0.6666666666666666,
             "#ed7953"
            ],
            [
             0.7777777777777778,
             "#fb9f3a"
            ],
            [
             0.8888888888888888,
             "#fdca26"
            ],
            [
             1,
             "#f0f921"
            ]
           ]
          },
          "colorway": [
           "#636efa",
           "#EF553B",
           "#00cc96",
           "#ab63fa",
           "#FFA15A",
           "#19d3f3",
           "#FF6692",
           "#B6E880",
           "#FF97FF",
           "#FECB52"
          ],
          "font": {
           "color": "#2a3f5f"
          },
          "geo": {
           "bgcolor": "white",
           "lakecolor": "white",
           "landcolor": "#E5ECF6",
           "showlakes": true,
           "showland": true,
           "subunitcolor": "white"
          },
          "hoverlabel": {
           "align": "left"
          },
          "hovermode": "closest",
          "mapbox": {
           "style": "light"
          },
          "paper_bgcolor": "white",
          "plot_bgcolor": "#E5ECF6",
          "polar": {
           "angularaxis": {
            "gridcolor": "white",
            "linecolor": "white",
            "ticks": ""
           },
           "bgcolor": "#E5ECF6",
           "radialaxis": {
            "gridcolor": "white",
            "linecolor": "white",
            "ticks": ""
           }
          },
          "scene": {
           "xaxis": {
            "backgroundcolor": "#E5ECF6",
            "gridcolor": "white",
            "gridwidth": 2,
            "linecolor": "white",
            "showbackground": true,
            "ticks": "",
            "zerolinecolor": "white"
           },
           "yaxis": {
            "backgroundcolor": "#E5ECF6",
            "gridcolor": "white",
            "gridwidth": 2,
            "linecolor": "white",
            "showbackground": true,
            "ticks": "",
            "zerolinecolor": "white"
           },
           "zaxis": {
            "backgroundcolor": "#E5ECF6",
            "gridcolor": "white",
            "gridwidth": 2,
            "linecolor": "white",
            "showbackground": true,
            "ticks": "",
            "zerolinecolor": "white"
           }
          },
          "shapedefaults": {
           "line": {
            "color": "#2a3f5f"
           }
          },
          "ternary": {
           "aaxis": {
            "gridcolor": "white",
            "linecolor": "white",
            "ticks": ""
           },
           "baxis": {
            "gridcolor": "white",
            "linecolor": "white",
            "ticks": ""
           },
           "bgcolor": "#E5ECF6",
           "caxis": {
            "gridcolor": "white",
            "linecolor": "white",
            "ticks": ""
           }
          },
          "title": {
           "x": 0.05
          },
          "xaxis": {
           "automargin": true,
           "gridcolor": "white",
           "linecolor": "white",
           "ticks": "",
           "title": {
            "standoff": 15
           },
           "zerolinecolor": "white",
           "zerolinewidth": 2
          },
          "yaxis": {
           "automargin": true,
           "gridcolor": "white",
           "linecolor": "white",
           "ticks": "",
           "title": {
            "standoff": 15
           },
           "zerolinecolor": "white",
           "zerolinewidth": 2
          }
         }
        },
        "title": {
         "text": "NVDA Chart Data"
        },
        "xaxis": {
         "rangeselector": {
          "buttons": [
           {
            "count": 5,
            "label": "5m",
            "step": "minute",
            "stepmode": "backward"
           },
           {
            "count": 15,
            "label": "15m",
            "step": "minute",
            "stepmode": "backward"
           },
           {
            "count": 30,
            "label": "30m",
            "step": "minute",
            "stepmode": "backward"
           },
           {
            "count": 1,
            "label": "1h",
            "step": "hour",
            "stepmode": "todate"
           },
           {
            "count": 4,
            "label": "4h",
            "step": "hour",
            "stepmode": "todate"
           },
           {
            "step": "all"
           }
          ]
         },
         "rangeslider": {
          "visible": true
         }
        },
        "yaxis": {
         "range": [
          490.8500061035156,
          496.79998779296875
         ],
         "title": {
          "text": "Stock Price (USD)"
         }
        }
       }
      }
     },
     "metadata": {},
     "output_type": "display_data"
    },
    {
     "data": {
      "application/vnd.plotly.v1+json": {
       "config": {
        "plotlyServerURL": "https://plot.ly"
       },
       "data": [
        {
         "close": [
          232.86000061035156,
          232.6649932861328,
          232.72999572753906,
          232.64999389648438,
          232.8800048828125,
          232.77000427246094,
          232.47000122070312,
          232.44000244140625,
          232.72999572753906,
          232.52999877929688,
          232.47000122070312,
          232.5,
          232.5,
          232.27499389648438,
          232.22999572753906,
          232.19000244140625,
          232.19500732421875,
          232.11000061035156,
          232.3000030517578,
          232.33999633789062,
          232.17999267578125,
          231.97999572753906,
          231.9499969482422,
          231.8699951171875,
          232.19000244140625,
          232.38999938964844,
          232.50120544433594,
          232.485107421875,
          232.52000427246094,
          232.42999267578125,
          232.53500366210938,
          232.57859802246094,
          232.58999633789062,
          232.52999877929688,
          232.74000549316406,
          232.4199981689453,
          232.17999267578125,
          232.2100067138672,
          232.1999969482422,
          232.27999877929688,
          232.1999969482422,
          232.38499450683594,
          232.39500427246094,
          232.6300048828125,
          232.6699981689453,
          232.38499450683594,
          232.25,
          232.19000244140625,
          232.2449951171875,
          232.23500061035156,
          232.27000427246094,
          232.25,
          232.2471923828125,
          232.2899932861328,
          232.4550018310547,
          232.1750030517578,
          232.3000030517578,
          231.98500061035156,
          231.97000122070312,
          231.74000549316406,
          231.7100067138672,
          232.00999450683594,
          231.9250030517578,
          231.94000244140625,
          232.13999938964844,
          232.3699951171875,
          232.57000732421875,
          232.5800018310547,
          232.36000061035156,
          232.61000061035156,
          232.8350067138672,
          232.8699951171875,
          232.77499389648438,
          232.58999633789062,
          233.72999572753906,
          232.66000366210938,
          232.4550018310547,
          232.3000030517578
         ],
         "high": [
          232.9499969482422,
          232.8000030517578,
          232.9199981689453,
          232.9499969482422,
          232.9199981689453,
          232.8000030517578,
          232.47000122070312,
          232.8000030517578,
          232.79249572753906,
          232.57000732421875,
          232.50999450683594,
          232.5500030517578,
          232.5,
          232.3000030517578,
          232.30999755859375,
          232.31500244140625,
          232.25999450683594,
          232.3800048828125,
          232.49000549316406,
          232.41000366210938,
          232.17999267578125,
          232.05999755859375,
          232.13499450683594,
          232.18499755859375,
          232.4499969482422,
          232.5399932861328,
          232.54299926757812,
          232.5800018310547,
          232.60499572753906,
          232.52499389648438,
          232.5800018310547,
          232.7100067138672,
          232.67999267578125,
          232.77999877929688,
          232.82000732421875,
          232.4199981689453,
          232.30999755859375,
          232.30499267578125,
          232.35000610351562,
          232.27999877929688,
          232.42999267578125,
          232.50999450683594,
          232.64999389648438,
          232.89999389648438,
          232.6699981689453,
          232.49000549316406,
          232.31919860839844,
          232.33999633789062,
          232.35499572753906,
          232.25999450683594,
          232.33999633789062,
          232.27999877929688,
          232.42999267578125,
          232.42999267578125,
          232.4550018310547,
          232.33999633789062,
          232.3000030517578,
          232.0449981689453,
          232.02999877929688,
          231.77000427246094,
          232.01499938964844,
          232.0449981689453,
          232.02000427246094,
          232.14999389648438,
          232.36000061035156,
          232.6999969482422,
          232.92999267578125,
          232.6199951171875,
          232.64999389648438,
          232.9149932861328,
          232.85499572753906,
          232.94000244140625,
          232.96499633789062,
          233.61000061035156,
          233.72999572753906,
          232.66000366210938,
          232.97999572753906,
          232.80999755859375
         ],
         "low": [
          232.67999267578125,
          232.42999267578125,
          232.61199951171875,
          232.531005859375,
          232.67999267578125,
          232.4199981689453,
          232.27000427246094,
          232.44000244140625,
          232.51939392089844,
          232.3800048828125,
          232.2899932861328,
          232.4199981689453,
          232.22999572753906,
          232.22000122070312,
          232.16000366210938,
          232.0908966064453,
          232.08790588378906,
          232.07000732421875,
          232.25,
          232.13009643554688,
          232.0050048828125,
          231.85000610351562,
          231.875,
          231.8699951171875,
          232.19000244140625,
          232.36000061035156,
          232.39999389648438,
          232.42999267578125,
          232.41000366210938,
          232.35000610351562,
          232.42750549316406,
          232.4904022216797,
          232.4600067138672,
          232.52999877929688,
          232.50999450683594,
          232.14999389648438,
          232.1239013671875,
          232.19000244140625,
          232.17999267578125,
          232.0850067138672,
          232.1300048828125,
          232.36000061035156,
          232.39500427246094,
          232.56089782714844,
          232.3300018310547,
          232.30999755859375,
          232.17999267578125,
          232.01690673828125,
          232.22999572753906,
          232.1699981689453,
          232.25,
          232.0500030517578,
          232.24000549316406,
          232.27000427246094,
          232.17999267578125,
          232.0800018310547,
          232.00999450683594,
          231.8699951171875,
          231.7100067138672,
          231.6199951171875,
          231.67120361328125,
          231.7436981201172,
          231.8300018310547,
          231.55999755859375,
          232.1199951171875,
          232.33700561523438,
          232.5500030517578,
          232.32000732421875,
          232.11000061035156,
          232.61000061035156,
          232.63999938964844,
          232.4199981689453,
          232.5500030517578,
          232.58999633789062,
          232.49000549316406,
          232.22000122070312,
          232.01499938964844,
          231.32000732421875
         ],
         "name": "Stock Chart",
         "open": [
          232.67999267578125,
          232.6699981689453,
          232.63999938964844,
          232.89999389648438,
          232.77000427246094,
          232.47000122070312,
          232.4199981689453,
          232.73500061035156,
          232.51939392089844,
          232.4499969482422,
          232.47999572753906,
          232.5500030517578,
          232.22999572753906,
          232.27850341796875,
          232.16000366210938,
          232.1699981689453,
          232.10000610351562,
          232.36000061035156,
          232.3000030517578,
          232.13009643554688,
          232.00999450683594,
          232.0399932861328,
          231.875,
          232.17999267578125,
          232.39999389648438,
          232.5399932861328,
          232.52000427246094,
          232.50340270996094,
          232.4600067138672,
          232.47999572753906,
          232.57000732421875,
          232.5928955078125,
          232.4600067138672,
          232.75,
          232.50999450683594,
          232.24000549316406,
          232.27000427246094,
          232.2449951171875,
          232.27999877929688,
          232.25,
          232.38499450683594,
          232.38999938964844,
          232.64999389648438,
          232.63999938964844,
          232.38499450683594,
          232.30999755859375,
          232.19500732421875,
          232.2550048828125,
          232.25999450683594,
          232.24000549316406,
          232.31500244140625,
          232.22999572753906,
          232.32000732421875,
          232.3800048828125,
          232.17999267578125,
          232.24000549316406,
          232.00999450683594,
          232.0449981689453,
          231.7449951171875,
          231.7010040283203,
          232,
          231.8800048828125,
          231.99000549316406,
          232.14999389648438,
          232.36000061035156,
          232.6674041748047,
          232.59500122070312,
          232.3699951171875,
          232.64500427246094,
          232.80499267578125,
          232.8300018310547,
          232.8800048828125,
          232.7449951171875,
          233.55999755859375,
          232.49000549316406,
          232.40499877929688,
          232.2100067138672,
          231.5
         ],
         "type": "candlestick",
         "x": [
          "2023-12-27 15:55:00.000000",
          "2023-12-27 15:50:00.000000",
          "2023-12-27 15:45:00.000000",
          "2023-12-27 15:40:00.000000",
          "2023-12-27 15:35:00.000000",
          "2023-12-27 15:30:00.000000",
          "2023-12-27 15:25:00.000000",
          "2023-12-27 15:20:00.000000",
          "2023-12-27 15:15:00.000000",
          "2023-12-27 15:10:00.000000",
          "2023-12-27 15:05:00.000000",
          "2023-12-27 15:00:00.000000",
          "2023-12-27 14:55:00.000000",
          "2023-12-27 14:50:00.000000",
          "2023-12-27 14:45:00.000000",
          "2023-12-27 14:40:00.000000",
          "2023-12-27 14:35:00.000000",
          "2023-12-27 14:30:00.000000",
          "2023-12-27 14:25:00.000000",
          "2023-12-27 14:20:00.000000",
          "2023-12-27 14:15:00.000000",
          "2023-12-27 14:10:00.000000",
          "2023-12-27 14:05:00.000000",
          "2023-12-27 14:00:00.000000",
          "2023-12-27 13:55:00.000000",
          "2023-12-27 13:50:00.000000",
          "2023-12-27 13:45:00.000000",
          "2023-12-27 13:40:00.000000",
          "2023-12-27 13:35:00.000000",
          "2023-12-27 13:30:00.000000",
          "2023-12-27 13:25:00.000000",
          "2023-12-27 13:20:00.000000",
          "2023-12-27 13:15:00.000000",
          "2023-12-27 13:10:00.000000",
          "2023-12-27 13:05:00.000000",
          "2023-12-27 13:00:00.000000",
          "2023-12-27 12:55:00.000000",
          "2023-12-27 12:50:00.000000",
          "2023-12-27 12:45:00.000000",
          "2023-12-27 12:40:00.000000",
          "2023-12-27 12:35:00.000000",
          "2023-12-27 12:30:00.000000",
          "2023-12-27 12:25:00.000000",
          "2023-12-27 12:20:00.000000",
          "2023-12-27 12:15:00.000000",
          "2023-12-27 12:10:00.000000",
          "2023-12-27 12:05:00.000000",
          "2023-12-27 12:00:00.000000",
          "2023-12-27 11:55:00.000000",
          "2023-12-27 11:50:00.000000",
          "2023-12-27 11:45:00.000000",
          "2023-12-27 11:40:00.000000",
          "2023-12-27 11:35:00.000000",
          "2023-12-27 11:30:00.000000",
          "2023-12-27 11:25:00.000000",
          "2023-12-27 11:20:00.000000",
          "2023-12-27 11:15:00.000000",
          "2023-12-27 11:10:00.000000",
          "2023-12-27 11:05:00.000000",
          "2023-12-27 11:00:00.000000",
          "2023-12-27 10:55:00.000000",
          "2023-12-27 10:50:00.000000",
          "2023-12-27 10:45:00.000000",
          "2023-12-27 10:40:00.000000",
          "2023-12-27 10:35:00.000000",
          "2023-12-27 10:30:00.000000",
          "2023-12-27 10:25:00.000000",
          "2023-12-27 10:20:00.000000",
          "2023-12-27 10:15:00.000000",
          "2023-12-27 10:10:00.000000",
          "2023-12-27 10:05:00.000000",
          "2023-12-27 10:00:00.000000",
          "2023-12-27 09:55:00.000000",
          "2023-12-27 09:50:00.000000",
          "2023-12-27 09:45:00.000000",
          "2023-12-27 09:40:00.000000",
          "2023-12-27 09:35:00.000000",
          "2023-12-27 09:30:00.000000"
         ]
        }
       ],
       "layout": {
        "template": {
         "data": {
          "bar": [
           {
            "error_x": {
             "color": "#2a3f5f"
            },
            "error_y": {
             "color": "#2a3f5f"
            },
            "marker": {
             "line": {
              "color": "#E5ECF6",
              "width": 0.5
             },
             "pattern": {
              "fillmode": "overlay",
              "size": 10,
              "solidity": 0.2
             }
            },
            "type": "bar"
           }
          ],
          "barpolar": [
           {
            "marker": {
             "line": {
              "color": "#E5ECF6",
              "width": 0.5
             },
             "pattern": {
              "fillmode": "overlay",
              "size": 10,
              "solidity": 0.2
             }
            },
            "type": "barpolar"
           }
          ],
          "carpet": [
           {
            "aaxis": {
             "endlinecolor": "#2a3f5f",
             "gridcolor": "white",
             "linecolor": "white",
             "minorgridcolor": "white",
             "startlinecolor": "#2a3f5f"
            },
            "baxis": {
             "endlinecolor": "#2a3f5f",
             "gridcolor": "white",
             "linecolor": "white",
             "minorgridcolor": "white",
             "startlinecolor": "#2a3f5f"
            },
            "type": "carpet"
           }
          ],
          "choropleth": [
           {
            "colorbar": {
             "outlinewidth": 0,
             "ticks": ""
            },
            "type": "choropleth"
           }
          ],
          "contour": [
           {
            "colorbar": {
             "outlinewidth": 0,
             "ticks": ""
            },
            "colorscale": [
             [
              0,
              "#0d0887"
             ],
             [
              0.1111111111111111,
              "#46039f"
             ],
             [
              0.2222222222222222,
              "#7201a8"
             ],
             [
              0.3333333333333333,
              "#9c179e"
             ],
             [
              0.4444444444444444,
              "#bd3786"
             ],
             [
              0.5555555555555556,
              "#d8576b"
             ],
             [
              0.6666666666666666,
              "#ed7953"
             ],
             [
              0.7777777777777778,
              "#fb9f3a"
             ],
             [
              0.8888888888888888,
              "#fdca26"
             ],
             [
              1,
              "#f0f921"
             ]
            ],
            "type": "contour"
           }
          ],
          "contourcarpet": [
           {
            "colorbar": {
             "outlinewidth": 0,
             "ticks": ""
            },
            "type": "contourcarpet"
           }
          ],
          "heatmap": [
           {
            "colorbar": {
             "outlinewidth": 0,
             "ticks": ""
            },
            "colorscale": [
             [
              0,
              "#0d0887"
             ],
             [
              0.1111111111111111,
              "#46039f"
             ],
             [
              0.2222222222222222,
              "#7201a8"
             ],
             [
              0.3333333333333333,
              "#9c179e"
             ],
             [
              0.4444444444444444,
              "#bd3786"
             ],
             [
              0.5555555555555556,
              "#d8576b"
             ],
             [
              0.6666666666666666,
              "#ed7953"
             ],
             [
              0.7777777777777778,
              "#fb9f3a"
             ],
             [
              0.8888888888888888,
              "#fdca26"
             ],
             [
              1,
              "#f0f921"
             ]
            ],
            "type": "heatmap"
           }
          ],
          "heatmapgl": [
           {
            "colorbar": {
             "outlinewidth": 0,
             "ticks": ""
            },
            "colorscale": [
             [
              0,
              "#0d0887"
             ],
             [
              0.1111111111111111,
              "#46039f"
             ],
             [
              0.2222222222222222,
              "#7201a8"
             ],
             [
              0.3333333333333333,
              "#9c179e"
             ],
             [
              0.4444444444444444,
              "#bd3786"
             ],
             [
              0.5555555555555556,
              "#d8576b"
             ],
             [
              0.6666666666666666,
              "#ed7953"
             ],
             [
              0.7777777777777778,
              "#fb9f3a"
             ],
             [
              0.8888888888888888,
              "#fdca26"
             ],
             [
              1,
              "#f0f921"
             ]
            ],
            "type": "heatmapgl"
           }
          ],
          "histogram": [
           {
            "marker": {
             "pattern": {
              "fillmode": "overlay",
              "size": 10,
              "solidity": 0.2
             }
            },
            "type": "histogram"
           }
          ],
          "histogram2d": [
           {
            "colorbar": {
             "outlinewidth": 0,
             "ticks": ""
            },
            "colorscale": [
             [
              0,
              "#0d0887"
             ],
             [
              0.1111111111111111,
              "#46039f"
             ],
             [
              0.2222222222222222,
              "#7201a8"
             ],
             [
              0.3333333333333333,
              "#9c179e"
             ],
             [
              0.4444444444444444,
              "#bd3786"
             ],
             [
              0.5555555555555556,
              "#d8576b"
             ],
             [
              0.6666666666666666,
              "#ed7953"
             ],
             [
              0.7777777777777778,
              "#fb9f3a"
             ],
             [
              0.8888888888888888,
              "#fdca26"
             ],
             [
              1,
              "#f0f921"
             ]
            ],
            "type": "histogram2d"
           }
          ],
          "histogram2dcontour": [
           {
            "colorbar": {
             "outlinewidth": 0,
             "ticks": ""
            },
            "colorscale": [
             [
              0,
              "#0d0887"
             ],
             [
              0.1111111111111111,
              "#46039f"
             ],
             [
              0.2222222222222222,
              "#7201a8"
             ],
             [
              0.3333333333333333,
              "#9c179e"
             ],
             [
              0.4444444444444444,
              "#bd3786"
             ],
             [
              0.5555555555555556,
              "#d8576b"
             ],
             [
              0.6666666666666666,
              "#ed7953"
             ],
             [
              0.7777777777777778,
              "#fb9f3a"
             ],
             [
              0.8888888888888888,
              "#fdca26"
             ],
             [
              1,
              "#f0f921"
             ]
            ],
            "type": "histogram2dcontour"
           }
          ],
          "mesh3d": [
           {
            "colorbar": {
             "outlinewidth": 0,
             "ticks": ""
            },
            "type": "mesh3d"
           }
          ],
          "parcoords": [
           {
            "line": {
             "colorbar": {
              "outlinewidth": 0,
              "ticks": ""
             }
            },
            "type": "parcoords"
           }
          ],
          "pie": [
           {
            "automargin": true,
            "type": "pie"
           }
          ],
          "scatter": [
           {
            "fillpattern": {
             "fillmode": "overlay",
             "size": 10,
             "solidity": 0.2
            },
            "type": "scatter"
           }
          ],
          "scatter3d": [
           {
            "line": {
             "colorbar": {
              "outlinewidth": 0,
              "ticks": ""
             }
            },
            "marker": {
             "colorbar": {
              "outlinewidth": 0,
              "ticks": ""
             }
            },
            "type": "scatter3d"
           }
          ],
          "scattercarpet": [
           {
            "marker": {
             "colorbar": {
              "outlinewidth": 0,
              "ticks": ""
             }
            },
            "type": "scattercarpet"
           }
          ],
          "scattergeo": [
           {
            "marker": {
             "colorbar": {
              "outlinewidth": 0,
              "ticks": ""
             }
            },
            "type": "scattergeo"
           }
          ],
          "scattergl": [
           {
            "marker": {
             "colorbar": {
              "outlinewidth": 0,
              "ticks": ""
             }
            },
            "type": "scattergl"
           }
          ],
          "scattermapbox": [
           {
            "marker": {
             "colorbar": {
              "outlinewidth": 0,
              "ticks": ""
             }
            },
            "type": "scattermapbox"
           }
          ],
          "scatterpolar": [
           {
            "marker": {
             "colorbar": {
              "outlinewidth": 0,
              "ticks": ""
             }
            },
            "type": "scatterpolar"
           }
          ],
          "scatterpolargl": [
           {
            "marker": {
             "colorbar": {
              "outlinewidth": 0,
              "ticks": ""
             }
            },
            "type": "scatterpolargl"
           }
          ],
          "scatterternary": [
           {
            "marker": {
             "colorbar": {
              "outlinewidth": 0,
              "ticks": ""
             }
            },
            "type": "scatterternary"
           }
          ],
          "surface": [
           {
            "colorbar": {
             "outlinewidth": 0,
             "ticks": ""
            },
            "colorscale": [
             [
              0,
              "#0d0887"
             ],
             [
              0.1111111111111111,
              "#46039f"
             ],
             [
              0.2222222222222222,
              "#7201a8"
             ],
             [
              0.3333333333333333,
              "#9c179e"
             ],
             [
              0.4444444444444444,
              "#bd3786"
             ],
             [
              0.5555555555555556,
              "#d8576b"
             ],
             [
              0.6666666666666666,
              "#ed7953"
             ],
             [
              0.7777777777777778,
              "#fb9f3a"
             ],
             [
              0.8888888888888888,
              "#fdca26"
             ],
             [
              1,
              "#f0f921"
             ]
            ],
            "type": "surface"
           }
          ],
          "table": [
           {
            "cells": {
             "fill": {
              "color": "#EBF0F8"
             },
             "line": {
              "color": "white"
             }
            },
            "header": {
             "fill": {
              "color": "#C8D4E3"
             },
             "line": {
              "color": "white"
             }
            },
            "type": "table"
           }
          ]
         },
         "layout": {
          "annotationdefaults": {
           "arrowcolor": "#2a3f5f",
           "arrowhead": 0,
           "arrowwidth": 1
          },
          "autotypenumbers": "strict",
          "coloraxis": {
           "colorbar": {
            "outlinewidth": 0,
            "ticks": ""
           }
          },
          "colorscale": {
           "diverging": [
            [
             0,
             "#8e0152"
            ],
            [
             0.1,
             "#c51b7d"
            ],
            [
             0.2,
             "#de77ae"
            ],
            [
             0.3,
             "#f1b6da"
            ],
            [
             0.4,
             "#fde0ef"
            ],
            [
             0.5,
             "#f7f7f7"
            ],
            [
             0.6,
             "#e6f5d0"
            ],
            [
             0.7,
             "#b8e186"
            ],
            [
             0.8,
             "#7fbc41"
            ],
            [
             0.9,
             "#4d9221"
            ],
            [
             1,
             "#276419"
            ]
           ],
           "sequential": [
            [
             0,
             "#0d0887"
            ],
            [
             0.1111111111111111,
             "#46039f"
            ],
            [
             0.2222222222222222,
             "#7201a8"
            ],
            [
             0.3333333333333333,
             "#9c179e"
            ],
            [
             0.4444444444444444,
             "#bd3786"
            ],
            [
             0.5555555555555556,
             "#d8576b"
            ],
            [
             0.6666666666666666,
             "#ed7953"
            ],
            [
             0.7777777777777778,
             "#fb9f3a"
            ],
            [
             0.8888888888888888,
             "#fdca26"
            ],
            [
             1,
             "#f0f921"
            ]
           ],
           "sequentialminus": [
            [
             0,
             "#0d0887"
            ],
            [
             0.1111111111111111,
             "#46039f"
            ],
            [
             0.2222222222222222,
             "#7201a8"
            ],
            [
             0.3333333333333333,
             "#9c179e"
            ],
            [
             0.4444444444444444,
             "#bd3786"
            ],
            [
             0.5555555555555556,
             "#d8576b"
            ],
            [
             0.6666666666666666,
             "#ed7953"
            ],
            [
             0.7777777777777778,
             "#fb9f3a"
            ],
            [
             0.8888888888888888,
             "#fdca26"
            ],
            [
             1,
             "#f0f921"
            ]
           ]
          },
          "colorway": [
           "#636efa",
           "#EF553B",
           "#00cc96",
           "#ab63fa",
           "#FFA15A",
           "#19d3f3",
           "#FF6692",
           "#B6E880",
           "#FF97FF",
           "#FECB52"
          ],
          "font": {
           "color": "#2a3f5f"
          },
          "geo": {
           "bgcolor": "white",
           "lakecolor": "white",
           "landcolor": "#E5ECF6",
           "showlakes": true,
           "showland": true,
           "subunitcolor": "white"
          },
          "hoverlabel": {
           "align": "left"
          },
          "hovermode": "closest",
          "mapbox": {
           "style": "light"
          },
          "paper_bgcolor": "white",
          "plot_bgcolor": "#E5ECF6",
          "polar": {
           "angularaxis": {
            "gridcolor": "white",
            "linecolor": "white",
            "ticks": ""
           },
           "bgcolor": "#E5ECF6",
           "radialaxis": {
            "gridcolor": "white",
            "linecolor": "white",
            "ticks": ""
           }
          },
          "scene": {
           "xaxis": {
            "backgroundcolor": "#E5ECF6",
            "gridcolor": "white",
            "gridwidth": 2,
            "linecolor": "white",
            "showbackground": true,
            "ticks": "",
            "zerolinecolor": "white"
           },
           "yaxis": {
            "backgroundcolor": "#E5ECF6",
            "gridcolor": "white",
            "gridwidth": 2,
            "linecolor": "white",
            "showbackground": true,
            "ticks": "",
            "zerolinecolor": "white"
           },
           "zaxis": {
            "backgroundcolor": "#E5ECF6",
            "gridcolor": "white",
            "gridwidth": 2,
            "linecolor": "white",
            "showbackground": true,
            "ticks": "",
            "zerolinecolor": "white"
           }
          },
          "shapedefaults": {
           "line": {
            "color": "#2a3f5f"
           }
          },
          "ternary": {
           "aaxis": {
            "gridcolor": "white",
            "linecolor": "white",
            "ticks": ""
           },
           "baxis": {
            "gridcolor": "white",
            "linecolor": "white",
            "ticks": ""
           },
           "bgcolor": "#E5ECF6",
           "caxis": {
            "gridcolor": "white",
            "linecolor": "white",
            "ticks": ""
           }
          },
          "title": {
           "x": 0.05
          },
          "xaxis": {
           "automargin": true,
           "gridcolor": "white",
           "linecolor": "white",
           "ticks": "",
           "title": {
            "standoff": 15
           },
           "zerolinecolor": "white",
           "zerolinewidth": 2
          },
          "yaxis": {
           "automargin": true,
           "gridcolor": "white",
           "linecolor": "white",
           "ticks": "",
           "title": {
            "standoff": 15
           },
           "zerolinecolor": "white",
           "zerolinewidth": 2
          }
         }
        },
        "title": {
         "text": "DHR Chart Data"
        },
        "xaxis": {
         "rangeselector": {
          "buttons": [
           {
            "count": 5,
            "label": "5m",
            "step": "minute",
            "stepmode": "backward"
           },
           {
            "count": 15,
            "label": "15m",
            "step": "minute",
            "stepmode": "backward"
           },
           {
            "count": 30,
            "label": "30m",
            "step": "minute",
            "stepmode": "backward"
           },
           {
            "count": 1,
            "label": "1h",
            "step": "hour",
            "stepmode": "todate"
           },
           {
            "count": 4,
            "label": "4h",
            "step": "hour",
            "stepmode": "todate"
           },
           {
            "step": "all"
           }
          ]
         },
         "rangeslider": {
          "visible": true
         }
        },
        "yaxis": {
         "range": [
          231.32000732421875,
          233.72999572753906
         ],
         "title": {
          "text": "Stock Price (USD)"
         }
        }
       }
      }
     },
     "metadata": {},
     "output_type": "display_data"
    },
    {
     "data": {
      "application/vnd.plotly.v1+json": {
       "config": {
        "plotlyServerURL": "https://plot.ly"
       },
       "data": [
        {
         "close": [
          146.1300048828125,
          145.83999633789062,
          146.04029846191406,
          146.16000366210938,
          146.1365966796875,
          146.0500030517578,
          146.08999633789062,
          146.0749969482422,
          145.97999572753906,
          145.91000366210938,
          145.85000610351562,
          145.72999572753906,
          145.606201171875,
          145.8300018310547,
          145.875,
          145.65499877929688,
          145.77609252929688,
          145.74000549316406,
          145.77999877929688,
          145.67999267578125,
          145.44500732421875,
          145.32000732421875,
          145.3408966064453,
          145.09280395507812,
          145.4250030517578,
          145.5050048828125,
          145.47999572753906,
          145.59500122070312,
          145.55499267578125,
          145.4084014892578,
          145.3199005126953,
          145.1009979248047,
          145.13999938964844,
          145.125,
          145.1699981689453,
          144.97000122070312,
          144.88900756835938,
          144.86000061035156,
          144.80859375,
          144.80580139160156,
          144.84500122070312,
          144.97000122070312,
          144.93499755859375,
          144.84500122070312,
          144.83560180664062,
          144.8249969482422,
          144.72999572753906,
          144.7760009765625,
          144.8000030517578,
          144.5196990966797,
          144.58999633789062,
          144.8249969482422,
          144.8800048828125,
          144.69000244140625,
          144.64999389648438,
          144.38499450683594,
          144.35000610351562,
          144.40989685058594,
          144.42999267578125,
          144.25990295410156,
          143.94000244140625,
          143.82000732421875,
          144.17999267578125,
          144.09010314941406,
          144.06500244140625,
          143.9001007080078,
          144.02000427246094,
          143.86199951171875,
          143.9149932861328,
          143.27000427246094,
          144.33419799804688,
          144.26010131835938,
          144.32119750976562,
          143.7899932861328,
          144.09060668945312,
          144.44180297851562,
          143.9654998779297,
          144.31390380859375
         ],
         "high": [
          146.1999969482422,
          146.1750030517578,
          146.25,
          146.20989990234375,
          146.1750030517578,
          146.14010620117188,
          146.18089294433594,
          146.1699981689453,
          146.00999450683594,
          145.9199981689453,
          145.88999938964844,
          145.75,
          145.8782958984375,
          145.88999938964844,
          145.88499450683594,
          145.9199981689453,
          145.86000061035156,
          145.7949981689453,
          145.80999755859375,
          145.69000244140625,
          145.47000122070312,
          145.4499969482422,
          145.4149932861328,
          145.4199981689453,
          145.639892578125,
          145.64500427246094,
          145.69000244140625,
          145.67999267578125,
          145.5800018310547,
          145.4250030517578,
          145.35000610351562,
          145.14999389648438,
          145.2100067138672,
          145.44000244140625,
          145.22999572753906,
          144.9949951171875,
          144.97000122070312,
          144.88999938964844,
          144.89999389648438,
          144.88999938964844,
          144.97999572753906,
          145.02000427246094,
          144.97999572753906,
          144.9185028076172,
          144.86000061035156,
          144.85989379882812,
          144.80999755859375,
          144.91000366210938,
          144.83999633789062,
          144.6999969482422,
          144.82679748535156,
          144.9300994873047,
          144.88319396972656,
          144.7100067138672,
          144.6999969482422,
          144.39990234375,
          144.5449981689453,
          144.58999633789062,
          144.49000549316406,
          144.30259704589844,
          144.1300048828125,
          144.19000244140625,
          144.22000122070312,
          144.1999969482422,
          144.08999633789062,
          144.13999938964844,
          144.13999938964844,
          143.97000122070312,
          143.99000549316406,
          144.3699951171875,
          144.52999877929688,
          144.3498992919922,
          144.3800048828125,
          144.28500366210938,
          144.5,
          144.5500030517578,
          145.25,
          145.5399932861328
         ],
         "low": [
          145.85000610351562,
          145.82000732421875,
          145.9600067138672,
          146.0301055908203,
          145.9949951171875,
          146.02000427246094,
          145.92359924316406,
          145.88999938964844,
          145.85130310058594,
          145.77000427246094,
          145.6999969482422,
          145.5301055908203,
          145.5800018310547,
          145.74000549316406,
          145.64999389648438,
          145.60000610351562,
          145.67999267578125,
          145.61000061035156,
          145.5800018310547,
          145.4499969482422,
          145.25999450683594,
          145.13999938964844,
          144.91000366210938,
          144.94000244140625,
          145.41799926757812,
          145.39999389648438,
          145.39999389648438,
          145.5,
          145.39500427246094,
          145.30999755859375,
          145.07000732421875,
          145.02499389648438,
          145.0399932861328,
          145.11000061035156,
          144.85009765625,
          144.88209533691406,
          144.8300018310547,
          144.7449951171875,
          144.77000427246094,
          144.6739044189453,
          144.77000427246094,
          144.88999938964844,
          144.8000030517578,
          144.72000122070312,
          144.73500061035156,
          144.66000366210938,
          144.6199951171875,
          144.75,
          144.46090698242188,
          144.4499969482422,
          144.5,
          144.8000030517578,
          144.6199951171875,
          144.5500946044922,
          144.30999755859375,
          144.2100067138672,
          144.3114013671875,
          144.3300018310547,
          144.24000549316406,
          143.77999877929688,
          143.78269958496094,
          143.4199981689453,
          143.83999633789062,
          143.9600067138672,
          143.7899932861328,
          143.8699951171875,
          143.57000732421875,
          143.66000366210938,
          143.27000427246094,
          143.17999267578125,
          144.21499633789062,
          143.9199981689453,
          143.6199951171875,
          143.75,
          143.8800048828125,
          143.8300018310547,
          143.94000244140625,
          143.91000366210938
         ],
         "name": "Stock Chart",
         "open": [
          145.85000610351562,
          146.0399932861328,
          146.14999389648438,
          146.13499450683594,
          146.0449981689453,
          146.08140563964844,
          146.0749969482422,
          145.97000122070312,
          145.91000366210938,
          145.85989379882812,
          145.73500061035156,
          145.6199951171875,
          145.83999633789062,
          145.875,
          145.66000366210938,
          145.77999877929688,
          145.74000549316406,
          145.7899932861328,
          145.67999267578125,
          145.4499969482422,
          145.35000610351562,
          145.35000610351562,
          145.08999633789062,
          145.4199981689453,
          145.50999450683594,
          145.4949951171875,
          145.60000610351562,
          145.55999755859375,
          145.4199981689453,
          145.32000732421875,
          145.10000610351562,
          145.13999938964844,
          145.1121063232422,
          145.16000366210938,
          144.9499969482422,
          144.88209533691406,
          144.86000061035156,
          144.8000030517578,
          144.80499267578125,
          144.8699951171875,
          144.97149658203125,
          144.93020629882812,
          144.84500122070312,
          144.84500122070312,
          144.82699584960938,
          144.72999572753906,
          144.75999450683594,
          144.80499267578125,
          144.52000427246094,
          144.59019470214844,
          144.82679748535156,
          144.88499450683594,
          144.6999969482422,
          144.63999938964844,
          144.38999938964844,
          144.35000610351562,
          144.4199981689453,
          144.4398956298828,
          144.25010681152344,
          143.9600067138672,
          143.8105010986328,
          144.14999389648438,
          144.06080627441406,
          144.05999755859375,
          143.91110229492188,
          144.02000427246094,
          143.8699951171875,
          143.91000366210938,
          143.27999877929688,
          144.32020568847656,
          144.27000427246094,
          144.32000732421875,
          143.78900146484375,
          144.0800018310547,
          144.46690368652344,
          143.9499969482422,
          144.30999755859375,
          144.72000122070312
         ],
         "type": "candlestick",
         "x": [
          "2023-12-27 15:55:00.000000",
          "2023-12-27 15:50:00.000000",
          "2023-12-27 15:45:00.000000",
          "2023-12-27 15:40:00.000000",
          "2023-12-27 15:35:00.000000",
          "2023-12-27 15:30:00.000000",
          "2023-12-27 15:25:00.000000",
          "2023-12-27 15:20:00.000000",
          "2023-12-27 15:15:00.000000",
          "2023-12-27 15:10:00.000000",
          "2023-12-27 15:05:00.000000",
          "2023-12-27 15:00:00.000000",
          "2023-12-27 14:55:00.000000",
          "2023-12-27 14:50:00.000000",
          "2023-12-27 14:45:00.000000",
          "2023-12-27 14:40:00.000000",
          "2023-12-27 14:35:00.000000",
          "2023-12-27 14:30:00.000000",
          "2023-12-27 14:25:00.000000",
          "2023-12-27 14:20:00.000000",
          "2023-12-27 14:15:00.000000",
          "2023-12-27 14:10:00.000000",
          "2023-12-27 14:05:00.000000",
          "2023-12-27 14:00:00.000000",
          "2023-12-27 13:55:00.000000",
          "2023-12-27 13:50:00.000000",
          "2023-12-27 13:45:00.000000",
          "2023-12-27 13:40:00.000000",
          "2023-12-27 13:35:00.000000",
          "2023-12-27 13:30:00.000000",
          "2023-12-27 13:25:00.000000",
          "2023-12-27 13:20:00.000000",
          "2023-12-27 13:15:00.000000",
          "2023-12-27 13:10:00.000000",
          "2023-12-27 13:05:00.000000",
          "2023-12-27 13:00:00.000000",
          "2023-12-27 12:55:00.000000",
          "2023-12-27 12:50:00.000000",
          "2023-12-27 12:45:00.000000",
          "2023-12-27 12:40:00.000000",
          "2023-12-27 12:35:00.000000",
          "2023-12-27 12:30:00.000000",
          "2023-12-27 12:25:00.000000",
          "2023-12-27 12:20:00.000000",
          "2023-12-27 12:15:00.000000",
          "2023-12-27 12:10:00.000000",
          "2023-12-27 12:05:00.000000",
          "2023-12-27 12:00:00.000000",
          "2023-12-27 11:55:00.000000",
          "2023-12-27 11:50:00.000000",
          "2023-12-27 11:45:00.000000",
          "2023-12-27 11:40:00.000000",
          "2023-12-27 11:35:00.000000",
          "2023-12-27 11:30:00.000000",
          "2023-12-27 11:25:00.000000",
          "2023-12-27 11:20:00.000000",
          "2023-12-27 11:15:00.000000",
          "2023-12-27 11:10:00.000000",
          "2023-12-27 11:05:00.000000",
          "2023-12-27 11:00:00.000000",
          "2023-12-27 10:55:00.000000",
          "2023-12-27 10:50:00.000000",
          "2023-12-27 10:45:00.000000",
          "2023-12-27 10:40:00.000000",
          "2023-12-27 10:35:00.000000",
          "2023-12-27 10:30:00.000000",
          "2023-12-27 10:25:00.000000",
          "2023-12-27 10:20:00.000000",
          "2023-12-27 10:15:00.000000",
          "2023-12-27 10:10:00.000000",
          "2023-12-27 10:05:00.000000",
          "2023-12-27 10:00:00.000000",
          "2023-12-27 09:55:00.000000",
          "2023-12-27 09:50:00.000000",
          "2023-12-27 09:45:00.000000",
          "2023-12-27 09:40:00.000000",
          "2023-12-27 09:35:00.000000",
          "2023-12-27 09:30:00.000000"
         ]
        }
       ],
       "layout": {
        "template": {
         "data": {
          "bar": [
           {
            "error_x": {
             "color": "#2a3f5f"
            },
            "error_y": {
             "color": "#2a3f5f"
            },
            "marker": {
             "line": {
              "color": "#E5ECF6",
              "width": 0.5
             },
             "pattern": {
              "fillmode": "overlay",
              "size": 10,
              "solidity": 0.2
             }
            },
            "type": "bar"
           }
          ],
          "barpolar": [
           {
            "marker": {
             "line": {
              "color": "#E5ECF6",
              "width": 0.5
             },
             "pattern": {
              "fillmode": "overlay",
              "size": 10,
              "solidity": 0.2
             }
            },
            "type": "barpolar"
           }
          ],
          "carpet": [
           {
            "aaxis": {
             "endlinecolor": "#2a3f5f",
             "gridcolor": "white",
             "linecolor": "white",
             "minorgridcolor": "white",
             "startlinecolor": "#2a3f5f"
            },
            "baxis": {
             "endlinecolor": "#2a3f5f",
             "gridcolor": "white",
             "linecolor": "white",
             "minorgridcolor": "white",
             "startlinecolor": "#2a3f5f"
            },
            "type": "carpet"
           }
          ],
          "choropleth": [
           {
            "colorbar": {
             "outlinewidth": 0,
             "ticks": ""
            },
            "type": "choropleth"
           }
          ],
          "contour": [
           {
            "colorbar": {
             "outlinewidth": 0,
             "ticks": ""
            },
            "colorscale": [
             [
              0,
              "#0d0887"
             ],
             [
              0.1111111111111111,
              "#46039f"
             ],
             [
              0.2222222222222222,
              "#7201a8"
             ],
             [
              0.3333333333333333,
              "#9c179e"
             ],
             [
              0.4444444444444444,
              "#bd3786"
             ],
             [
              0.5555555555555556,
              "#d8576b"
             ],
             [
              0.6666666666666666,
              "#ed7953"
             ],
             [
              0.7777777777777778,
              "#fb9f3a"
             ],
             [
              0.8888888888888888,
              "#fdca26"
             ],
             [
              1,
              "#f0f921"
             ]
            ],
            "type": "contour"
           }
          ],
          "contourcarpet": [
           {
            "colorbar": {
             "outlinewidth": 0,
             "ticks": ""
            },
            "type": "contourcarpet"
           }
          ],
          "heatmap": [
           {
            "colorbar": {
             "outlinewidth": 0,
             "ticks": ""
            },
            "colorscale": [
             [
              0,
              "#0d0887"
             ],
             [
              0.1111111111111111,
              "#46039f"
             ],
             [
              0.2222222222222222,
              "#7201a8"
             ],
             [
              0.3333333333333333,
              "#9c179e"
             ],
             [
              0.4444444444444444,
              "#bd3786"
             ],
             [
              0.5555555555555556,
              "#d8576b"
             ],
             [
              0.6666666666666666,
              "#ed7953"
             ],
             [
              0.7777777777777778,
              "#fb9f3a"
             ],
             [
              0.8888888888888888,
              "#fdca26"
             ],
             [
              1,
              "#f0f921"
             ]
            ],
            "type": "heatmap"
           }
          ],
          "heatmapgl": [
           {
            "colorbar": {
             "outlinewidth": 0,
             "ticks": ""
            },
            "colorscale": [
             [
              0,
              "#0d0887"
             ],
             [
              0.1111111111111111,
              "#46039f"
             ],
             [
              0.2222222222222222,
              "#7201a8"
             ],
             [
              0.3333333333333333,
              "#9c179e"
             ],
             [
              0.4444444444444444,
              "#bd3786"
             ],
             [
              0.5555555555555556,
              "#d8576b"
             ],
             [
              0.6666666666666666,
              "#ed7953"
             ],
             [
              0.7777777777777778,
              "#fb9f3a"
             ],
             [
              0.8888888888888888,
              "#fdca26"
             ],
             [
              1,
              "#f0f921"
             ]
            ],
            "type": "heatmapgl"
           }
          ],
          "histogram": [
           {
            "marker": {
             "pattern": {
              "fillmode": "overlay",
              "size": 10,
              "solidity": 0.2
             }
            },
            "type": "histogram"
           }
          ],
          "histogram2d": [
           {
            "colorbar": {
             "outlinewidth": 0,
             "ticks": ""
            },
            "colorscale": [
             [
              0,
              "#0d0887"
             ],
             [
              0.1111111111111111,
              "#46039f"
             ],
             [
              0.2222222222222222,
              "#7201a8"
             ],
             [
              0.3333333333333333,
              "#9c179e"
             ],
             [
              0.4444444444444444,
              "#bd3786"
             ],
             [
              0.5555555555555556,
              "#d8576b"
             ],
             [
              0.6666666666666666,
              "#ed7953"
             ],
             [
              0.7777777777777778,
              "#fb9f3a"
             ],
             [
              0.8888888888888888,
              "#fdca26"
             ],
             [
              1,
              "#f0f921"
             ]
            ],
            "type": "histogram2d"
           }
          ],
          "histogram2dcontour": [
           {
            "colorbar": {
             "outlinewidth": 0,
             "ticks": ""
            },
            "colorscale": [
             [
              0,
              "#0d0887"
             ],
             [
              0.1111111111111111,
              "#46039f"
             ],
             [
              0.2222222222222222,
              "#7201a8"
             ],
             [
              0.3333333333333333,
              "#9c179e"
             ],
             [
              0.4444444444444444,
              "#bd3786"
             ],
             [
              0.5555555555555556,
              "#d8576b"
             ],
             [
              0.6666666666666666,
              "#ed7953"
             ],
             [
              0.7777777777777778,
              "#fb9f3a"
             ],
             [
              0.8888888888888888,
              "#fdca26"
             ],
             [
              1,
              "#f0f921"
             ]
            ],
            "type": "histogram2dcontour"
           }
          ],
          "mesh3d": [
           {
            "colorbar": {
             "outlinewidth": 0,
             "ticks": ""
            },
            "type": "mesh3d"
           }
          ],
          "parcoords": [
           {
            "line": {
             "colorbar": {
              "outlinewidth": 0,
              "ticks": ""
             }
            },
            "type": "parcoords"
           }
          ],
          "pie": [
           {
            "automargin": true,
            "type": "pie"
           }
          ],
          "scatter": [
           {
            "fillpattern": {
             "fillmode": "overlay",
             "size": 10,
             "solidity": 0.2
            },
            "type": "scatter"
           }
          ],
          "scatter3d": [
           {
            "line": {
             "colorbar": {
              "outlinewidth": 0,
              "ticks": ""
             }
            },
            "marker": {
             "colorbar": {
              "outlinewidth": 0,
              "ticks": ""
             }
            },
            "type": "scatter3d"
           }
          ],
          "scattercarpet": [
           {
            "marker": {
             "colorbar": {
              "outlinewidth": 0,
              "ticks": ""
             }
            },
            "type": "scattercarpet"
           }
          ],
          "scattergeo": [
           {
            "marker": {
             "colorbar": {
              "outlinewidth": 0,
              "ticks": ""
             }
            },
            "type": "scattergeo"
           }
          ],
          "scattergl": [
           {
            "marker": {
             "colorbar": {
              "outlinewidth": 0,
              "ticks": ""
             }
            },
            "type": "scattergl"
           }
          ],
          "scattermapbox": [
           {
            "marker": {
             "colorbar": {
              "outlinewidth": 0,
              "ticks": ""
             }
            },
            "type": "scattermapbox"
           }
          ],
          "scatterpolar": [
           {
            "marker": {
             "colorbar": {
              "outlinewidth": 0,
              "ticks": ""
             }
            },
            "type": "scatterpolar"
           }
          ],
          "scatterpolargl": [
           {
            "marker": {
             "colorbar": {
              "outlinewidth": 0,
              "ticks": ""
             }
            },
            "type": "scatterpolargl"
           }
          ],
          "scatterternary": [
           {
            "marker": {
             "colorbar": {
              "outlinewidth": 0,
              "ticks": ""
             }
            },
            "type": "scatterternary"
           }
          ],
          "surface": [
           {
            "colorbar": {
             "outlinewidth": 0,
             "ticks": ""
            },
            "colorscale": [
             [
              0,
              "#0d0887"
             ],
             [
              0.1111111111111111,
              "#46039f"
             ],
             [
              0.2222222222222222,
              "#7201a8"
             ],
             [
              0.3333333333333333,
              "#9c179e"
             ],
             [
              0.4444444444444444,
              "#bd3786"
             ],
             [
              0.5555555555555556,
              "#d8576b"
             ],
             [
              0.6666666666666666,
              "#ed7953"
             ],
             [
              0.7777777777777778,
              "#fb9f3a"
             ],
             [
              0.8888888888888888,
              "#fdca26"
             ],
             [
              1,
              "#f0f921"
             ]
            ],
            "type": "surface"
           }
          ],
          "table": [
           {
            "cells": {
             "fill": {
              "color": "#EBF0F8"
             },
             "line": {
              "color": "white"
             }
            },
            "header": {
             "fill": {
              "color": "#C8D4E3"
             },
             "line": {
              "color": "white"
             }
            },
            "type": "table"
           }
          ]
         },
         "layout": {
          "annotationdefaults": {
           "arrowcolor": "#2a3f5f",
           "arrowhead": 0,
           "arrowwidth": 1
          },
          "autotypenumbers": "strict",
          "coloraxis": {
           "colorbar": {
            "outlinewidth": 0,
            "ticks": ""
           }
          },
          "colorscale": {
           "diverging": [
            [
             0,
             "#8e0152"
            ],
            [
             0.1,
             "#c51b7d"
            ],
            [
             0.2,
             "#de77ae"
            ],
            [
             0.3,
             "#f1b6da"
            ],
            [
             0.4,
             "#fde0ef"
            ],
            [
             0.5,
             "#f7f7f7"
            ],
            [
             0.6,
             "#e6f5d0"
            ],
            [
             0.7,
             "#b8e186"
            ],
            [
             0.8,
             "#7fbc41"
            ],
            [
             0.9,
             "#4d9221"
            ],
            [
             1,
             "#276419"
            ]
           ],
           "sequential": [
            [
             0,
             "#0d0887"
            ],
            [
             0.1111111111111111,
             "#46039f"
            ],
            [
             0.2222222222222222,
             "#7201a8"
            ],
            [
             0.3333333333333333,
             "#9c179e"
            ],
            [
             0.4444444444444444,
             "#bd3786"
            ],
            [
             0.5555555555555556,
             "#d8576b"
            ],
            [
             0.6666666666666666,
             "#ed7953"
            ],
            [
             0.7777777777777778,
             "#fb9f3a"
            ],
            [
             0.8888888888888888,
             "#fdca26"
            ],
            [
             1,
             "#f0f921"
            ]
           ],
           "sequentialminus": [
            [
             0,
             "#0d0887"
            ],
            [
             0.1111111111111111,
             "#46039f"
            ],
            [
             0.2222222222222222,
             "#7201a8"
            ],
            [
             0.3333333333333333,
             "#9c179e"
            ],
            [
             0.4444444444444444,
             "#bd3786"
            ],
            [
             0.5555555555555556,
             "#d8576b"
            ],
            [
             0.6666666666666666,
             "#ed7953"
            ],
            [
             0.7777777777777778,
             "#fb9f3a"
            ],
            [
             0.8888888888888888,
             "#fdca26"
            ],
            [
             1,
             "#f0f921"
            ]
           ]
          },
          "colorway": [
           "#636efa",
           "#EF553B",
           "#00cc96",
           "#ab63fa",
           "#FFA15A",
           "#19d3f3",
           "#FF6692",
           "#B6E880",
           "#FF97FF",
           "#FECB52"
          ],
          "font": {
           "color": "#2a3f5f"
          },
          "geo": {
           "bgcolor": "white",
           "lakecolor": "white",
           "landcolor": "#E5ECF6",
           "showlakes": true,
           "showland": true,
           "subunitcolor": "white"
          },
          "hoverlabel": {
           "align": "left"
          },
          "hovermode": "closest",
          "mapbox": {
           "style": "light"
          },
          "paper_bgcolor": "white",
          "plot_bgcolor": "#E5ECF6",
          "polar": {
           "angularaxis": {
            "gridcolor": "white",
            "linecolor": "white",
            "ticks": ""
           },
           "bgcolor": "#E5ECF6",
           "radialaxis": {
            "gridcolor": "white",
            "linecolor": "white",
            "ticks": ""
           }
          },
          "scene": {
           "xaxis": {
            "backgroundcolor": "#E5ECF6",
            "gridcolor": "white",
            "gridwidth": 2,
            "linecolor": "white",
            "showbackground": true,
            "ticks": "",
            "zerolinecolor": "white"
           },
           "yaxis": {
            "backgroundcolor": "#E5ECF6",
            "gridcolor": "white",
            "gridwidth": 2,
            "linecolor": "white",
            "showbackground": true,
            "ticks": "",
            "zerolinecolor": "white"
           },
           "zaxis": {
            "backgroundcolor": "#E5ECF6",
            "gridcolor": "white",
            "gridwidth": 2,
            "linecolor": "white",
            "showbackground": true,
            "ticks": "",
            "zerolinecolor": "white"
           }
          },
          "shapedefaults": {
           "line": {
            "color": "#2a3f5f"
           }
          },
          "ternary": {
           "aaxis": {
            "gridcolor": "white",
            "linecolor": "white",
            "ticks": ""
           },
           "baxis": {
            "gridcolor": "white",
            "linecolor": "white",
            "ticks": ""
           },
           "bgcolor": "#E5ECF6",
           "caxis": {
            "gridcolor": "white",
            "linecolor": "white",
            "ticks": ""
           }
          },
          "title": {
           "x": 0.05
          },
          "xaxis": {
           "automargin": true,
           "gridcolor": "white",
           "linecolor": "white",
           "ticks": "",
           "title": {
            "standoff": 15
           },
           "zerolinecolor": "white",
           "zerolinewidth": 2
          },
          "yaxis": {
           "automargin": true,
           "gridcolor": "white",
           "linecolor": "white",
           "ticks": "",
           "title": {
            "standoff": 15
           },
           "zerolinecolor": "white",
           "zerolinewidth": 2
          }
         }
        },
        "title": {
         "text": "AMD Chart Data"
        },
        "xaxis": {
         "rangeselector": {
          "buttons": [
           {
            "count": 5,
            "label": "5m",
            "step": "minute",
            "stepmode": "backward"
           },
           {
            "count": 15,
            "label": "15m",
            "step": "minute",
            "stepmode": "backward"
           },
           {
            "count": 30,
            "label": "30m",
            "step": "minute",
            "stepmode": "backward"
           },
           {
            "count": 1,
            "label": "1h",
            "step": "hour",
            "stepmode": "todate"
           },
           {
            "count": 4,
            "label": "4h",
            "step": "hour",
            "stepmode": "todate"
           },
           {
            "step": "all"
           }
          ]
         },
         "rangeslider": {
          "visible": true
         }
        },
        "yaxis": {
         "range": [
          143.17999267578125,
          146.25
         ],
         "title": {
          "text": "Stock Price (USD)"
         }
        }
       }
      }
     },
     "metadata": {},
     "output_type": "display_data"
    },
    {
     "data": {
      "application/vnd.plotly.v1+json": {
       "config": {
        "plotlyServerURL": "https://plot.ly"
       },
       "data": [
        {
         "close": [
          476.510009765625,
          475.5299987792969,
          475.39990234375,
          475.39129638671875,
          475.8999938964844,
          475.82000732421875,
          475.6449890136719,
          475.6099853515625,
          475.82000732421875,
          475.69000244140625,
          475.7200012207031,
          475.6600036621094,
          475.510009765625,
          475.2300109863281,
          475.4400939941406,
          475.32000732421875,
          475.4700012207031,
          475.55999755859375,
          475.80621337890625,
          475.659912109375,
          475.4197082519531,
          475.1099853515625,
          475.340087890625,
          475.1108093261719,
          476.0199890136719,
          476.29998779296875,
          476.3909912109375,
          476.44000244140625,
          476.3099060058594,
          476.2250061035156,
          476.2398986816406,
          476.2300109863281,
          476.3399963378906,
          476.239990234375,
          476.42999267578125,
          475.8999938964844,
          475.54998779296875,
          475.5,
          475.5714111328125,
          475.42041015625,
          475.69000244140625,
          475.9150085449219,
          475.8399963378906,
          475.9100036621094,
          475.8796081542969,
          475.875,
          475.739990234375,
          475.70989990234375,
          475.7749938964844,
          475.80999755859375,
          475.7900085449219,
          475.875,
          475.7300109863281,
          475.6000061035156,
          475.4700012207031,
          475.3500061035156,
          475.44500732421875,
          475.3699951171875,
          475.29010009765625,
          475.2695007324219,
          475.4100036621094,
          475.33990478515625,
          475.26690673828125,
          475.3599853515625,
          475.55999755859375,
          475.54998779296875,
          475.739990234375,
          475.6400146484375,
          475.4800109863281,
          475.3900146484375,
          475.918212890625,
          476.0140075683594,
          476.010009765625,
          476.0899963378906,
          475.93499755859375,
          475.9599914550781,
          475.8599853515625,
          475.82958984375
         ],
         "high": [
          476.57000732421875,
          475.6199951171875,
          475.4800109863281,
          475.9599914550781,
          476.0199890136719,
          475.8599853515625,
          475.6499938964844,
          475.8900146484375,
          475.93499755859375,
          475.8799133300781,
          475.739990234375,
          475.7300109863281,
          475.57000732421875,
          475.47900390625,
          475.4599914550781,
          475.510009765625,
          475.6499938964844,
          475.8299865722656,
          476.0199890136719,
          475.67999267578125,
          475.4399108886719,
          475.3900146484375,
          475.44000244140625,
          476.0202941894531,
          476.3900146484375,
          476.4798889160156,
          476.489990234375,
          476.4599914550781,
          476.340087890625,
          476.4200134277344,
          476.3599853515625,
          476.3949890136719,
          476.5199890136719,
          476.6600036621094,
          476.55999755859375,
          475.9599914550781,
          475.6199951171875,
          475.6000061035156,
          475.6000061035156,
          475.70849609375,
          475.9200134277344,
          475.9700012207031,
          475.9200134277344,
          476.07000732421875,
          475.92999267578125,
          475.92999267578125,
          475.75,
          475.8800048828125,
          475.8999938964844,
          475.8800048828125,
          475.8900146484375,
          475.92999267578125,
          475.7900085449219,
          475.6400146484375,
          475.4700012207031,
          475.4750061035156,
          475.4849853515625,
          475.409912109375,
          475.42999267578125,
          475.42999267578125,
          475.489990234375,
          475.3500061035156,
          475.45599365234375,
          475.5899963378906,
          475.5849914550781,
          475.7900085449219,
          475.8500061035156,
          475.67999267578125,
          475.6600036621094,
          476.0050048828125,
          476.0199890136719,
          476.1400146484375,
          476.1400146484375,
          476.1199951171875,
          476.0350036621094,
          476,
          475.95001220703125,
          475.9200134277344
         ],
         "low": [
          475.5249938964844,
          475.1600036621094,
          475.2699890136719,
          475.3500061035156,
          475.80999755859375,
          475.4949951171875,
          475.3599853515625,
          475.6050109863281,
          475.6549987792969,
          475.625,
          475.3887939453125,
          475.4100036621094,
          475.19000244140625,
          475.2200012207031,
          475.2749938964844,
          475.19000244140625,
          475.4700012207031,
          475.4200134277344,
          475.4800109863281,
          475.4200134277344,
          474.9700012207031,
          474.92999267578125,
          474.8900146484375,
          474.9100036621094,
          476.010009765625,
          476.2200012207031,
          476.30499267578125,
          476.30499267578125,
          476.20001220703125,
          476.1400146484375,
          476.1099853515625,
          476.2099914550781,
          476.1499938964844,
          476.20001220703125,
          475.8800048828125,
          475.5400085449219,
          475.489990234375,
          475.4840087890625,
          475.3699951171875,
          475.2900085449219,
          475.6099853515625,
          475.8299865722656,
          475.80499267578125,
          475.7799987792969,
          475.8299865722656,
          475.7345886230469,
          475.6499938964844,
          475.57000732421875,
          475.75,
          475.7099914550781,
          475.7200927734375,
          475.6700134277344,
          475.5950012207031,
          475.4100036621094,
          475.20001220703125,
          475.3424987792969,
          475.3699951171875,
          475.19000244140625,
          475.18499755859375,
          475.2099914550781,
          475.30499267578125,
          475.0799865722656,
          475.2099914550781,
          475.260009765625,
          475.2900085449219,
          475.5400085449219,
          475.6000061035156,
          475.1600036621094,
          475.3299865722656,
          475.2200012207031,
          475.80999755859375,
          475.9100036621094,
          475.7200012207031,
          475.9200134277344,
          475.80999755859375,
          475.8096008300781,
          475.70001220703125,
          475.2699890136719
         ],
         "name": "Stock Chart",
         "open": [
          475.5299987792969,
          475.3999938964844,
          475.3999938964844,
          475.8949890136719,
          475.82000732421875,
          475.6300048828125,
          475.6000061035156,
          475.81500244140625,
          475.6650085449219,
          475.7200012207031,
          475.6449890136719,
          475.510009765625,
          475.2300109863281,
          475.44000244140625,
          475.32000732421875,
          475.4762878417969,
          475.57000732421875,
          475.79998779296875,
          475.6700134277344,
          475.4200134277344,
          475.1199951171875,
          475.3500061035156,
          475.1099853515625,
          476.0199890136719,
          476.30999755859375,
          476.3900146484375,
          476.44000244140625,
          476.30499267578125,
          476.22021484375,
          476.25,
          476.2139892578125,
          476.3399963378906,
          476.25,
          476.42999267578125,
          475.8999938964844,
          475.5400085449219,
          475.510009765625,
          475.5703125,
          475.4200134277344,
          475.70001220703125,
          475.9200134277344,
          475.8399963378906,
          475.9150085449219,
          475.8800048828125,
          475.8800048828125,
          475.739990234375,
          475.7049865722656,
          475.7699890136719,
          475.82000732421875,
          475.7900085449219,
          475.875,
          475.7250061035156,
          475.5950012207031,
          475.4700012207031,
          475.35870361328125,
          475.45001220703125,
          475.3699951171875,
          475.2950134277344,
          475.260009765625,
          475.4100036621094,
          475.3299865722656,
          475.260009765625,
          475.3599853515625,
          475.55999755859375,
          475.54998779296875,
          475.739990234375,
          475.6400146484375,
          475.4800109863281,
          475.3999938964844,
          475.9150085449219,
          476.0199890136719,
          476.010009765625,
          476.0799865722656,
          475.94000244140625,
          475.9700012207031,
          475.8800048828125,
          475.8299865722656,
          475.44000244140625
         ],
         "type": "candlestick",
         "x": [
          "2023-12-27 15:55:00.000000",
          "2023-12-27 15:50:00.000000",
          "2023-12-27 15:45:00.000000",
          "2023-12-27 15:40:00.000000",
          "2023-12-27 15:35:00.000000",
          "2023-12-27 15:30:00.000000",
          "2023-12-27 15:25:00.000000",
          "2023-12-27 15:20:00.000000",
          "2023-12-27 15:15:00.000000",
          "2023-12-27 15:10:00.000000",
          "2023-12-27 15:05:00.000000",
          "2023-12-27 15:00:00.000000",
          "2023-12-27 14:55:00.000000",
          "2023-12-27 14:50:00.000000",
          "2023-12-27 14:45:00.000000",
          "2023-12-27 14:40:00.000000",
          "2023-12-27 14:35:00.000000",
          "2023-12-27 14:30:00.000000",
          "2023-12-27 14:25:00.000000",
          "2023-12-27 14:20:00.000000",
          "2023-12-27 14:15:00.000000",
          "2023-12-27 14:10:00.000000",
          "2023-12-27 14:05:00.000000",
          "2023-12-27 14:00:00.000000",
          "2023-12-27 13:55:00.000000",
          "2023-12-27 13:50:00.000000",
          "2023-12-27 13:45:00.000000",
          "2023-12-27 13:40:00.000000",
          "2023-12-27 13:35:00.000000",
          "2023-12-27 13:30:00.000000",
          "2023-12-27 13:25:00.000000",
          "2023-12-27 13:20:00.000000",
          "2023-12-27 13:15:00.000000",
          "2023-12-27 13:10:00.000000",
          "2023-12-27 13:05:00.000000",
          "2023-12-27 13:00:00.000000",
          "2023-12-27 12:55:00.000000",
          "2023-12-27 12:50:00.000000",
          "2023-12-27 12:45:00.000000",
          "2023-12-27 12:40:00.000000",
          "2023-12-27 12:35:00.000000",
          "2023-12-27 12:30:00.000000",
          "2023-12-27 12:25:00.000000",
          "2023-12-27 12:20:00.000000",
          "2023-12-27 12:15:00.000000",
          "2023-12-27 12:10:00.000000",
          "2023-12-27 12:05:00.000000",
          "2023-12-27 12:00:00.000000",
          "2023-12-27 11:55:00.000000",
          "2023-12-27 11:50:00.000000",
          "2023-12-27 11:45:00.000000",
          "2023-12-27 11:40:00.000000",
          "2023-12-27 11:35:00.000000",
          "2023-12-27 11:30:00.000000",
          "2023-12-27 11:25:00.000000",
          "2023-12-27 11:20:00.000000",
          "2023-12-27 11:15:00.000000",
          "2023-12-27 11:10:00.000000",
          "2023-12-27 11:05:00.000000",
          "2023-12-27 11:00:00.000000",
          "2023-12-27 10:55:00.000000",
          "2023-12-27 10:50:00.000000",
          "2023-12-27 10:45:00.000000",
          "2023-12-27 10:40:00.000000",
          "2023-12-27 10:35:00.000000",
          "2023-12-27 10:30:00.000000",
          "2023-12-27 10:25:00.000000",
          "2023-12-27 10:20:00.000000",
          "2023-12-27 10:15:00.000000",
          "2023-12-27 10:10:00.000000",
          "2023-12-27 10:05:00.000000",
          "2023-12-27 10:00:00.000000",
          "2023-12-27 09:55:00.000000",
          "2023-12-27 09:50:00.000000",
          "2023-12-27 09:45:00.000000",
          "2023-12-27 09:40:00.000000",
          "2023-12-27 09:35:00.000000",
          "2023-12-27 09:30:00.000000"
         ]
        }
       ],
       "layout": {
        "template": {
         "data": {
          "bar": [
           {
            "error_x": {
             "color": "#2a3f5f"
            },
            "error_y": {
             "color": "#2a3f5f"
            },
            "marker": {
             "line": {
              "color": "#E5ECF6",
              "width": 0.5
             },
             "pattern": {
              "fillmode": "overlay",
              "size": 10,
              "solidity": 0.2
             }
            },
            "type": "bar"
           }
          ],
          "barpolar": [
           {
            "marker": {
             "line": {
              "color": "#E5ECF6",
              "width": 0.5
             },
             "pattern": {
              "fillmode": "overlay",
              "size": 10,
              "solidity": 0.2
             }
            },
            "type": "barpolar"
           }
          ],
          "carpet": [
           {
            "aaxis": {
             "endlinecolor": "#2a3f5f",
             "gridcolor": "white",
             "linecolor": "white",
             "minorgridcolor": "white",
             "startlinecolor": "#2a3f5f"
            },
            "baxis": {
             "endlinecolor": "#2a3f5f",
             "gridcolor": "white",
             "linecolor": "white",
             "minorgridcolor": "white",
             "startlinecolor": "#2a3f5f"
            },
            "type": "carpet"
           }
          ],
          "choropleth": [
           {
            "colorbar": {
             "outlinewidth": 0,
             "ticks": ""
            },
            "type": "choropleth"
           }
          ],
          "contour": [
           {
            "colorbar": {
             "outlinewidth": 0,
             "ticks": ""
            },
            "colorscale": [
             [
              0,
              "#0d0887"
             ],
             [
              0.1111111111111111,
              "#46039f"
             ],
             [
              0.2222222222222222,
              "#7201a8"
             ],
             [
              0.3333333333333333,
              "#9c179e"
             ],
             [
              0.4444444444444444,
              "#bd3786"
             ],
             [
              0.5555555555555556,
              "#d8576b"
             ],
             [
              0.6666666666666666,
              "#ed7953"
             ],
             [
              0.7777777777777778,
              "#fb9f3a"
             ],
             [
              0.8888888888888888,
              "#fdca26"
             ],
             [
              1,
              "#f0f921"
             ]
            ],
            "type": "contour"
           }
          ],
          "contourcarpet": [
           {
            "colorbar": {
             "outlinewidth": 0,
             "ticks": ""
            },
            "type": "contourcarpet"
           }
          ],
          "heatmap": [
           {
            "colorbar": {
             "outlinewidth": 0,
             "ticks": ""
            },
            "colorscale": [
             [
              0,
              "#0d0887"
             ],
             [
              0.1111111111111111,
              "#46039f"
             ],
             [
              0.2222222222222222,
              "#7201a8"
             ],
             [
              0.3333333333333333,
              "#9c179e"
             ],
             [
              0.4444444444444444,
              "#bd3786"
             ],
             [
              0.5555555555555556,
              "#d8576b"
             ],
             [
              0.6666666666666666,
              "#ed7953"
             ],
             [
              0.7777777777777778,
              "#fb9f3a"
             ],
             [
              0.8888888888888888,
              "#fdca26"
             ],
             [
              1,
              "#f0f921"
             ]
            ],
            "type": "heatmap"
           }
          ],
          "heatmapgl": [
           {
            "colorbar": {
             "outlinewidth": 0,
             "ticks": ""
            },
            "colorscale": [
             [
              0,
              "#0d0887"
             ],
             [
              0.1111111111111111,
              "#46039f"
             ],
             [
              0.2222222222222222,
              "#7201a8"
             ],
             [
              0.3333333333333333,
              "#9c179e"
             ],
             [
              0.4444444444444444,
              "#bd3786"
             ],
             [
              0.5555555555555556,
              "#d8576b"
             ],
             [
              0.6666666666666666,
              "#ed7953"
             ],
             [
              0.7777777777777778,
              "#fb9f3a"
             ],
             [
              0.8888888888888888,
              "#fdca26"
             ],
             [
              1,
              "#f0f921"
             ]
            ],
            "type": "heatmapgl"
           }
          ],
          "histogram": [
           {
            "marker": {
             "pattern": {
              "fillmode": "overlay",
              "size": 10,
              "solidity": 0.2
             }
            },
            "type": "histogram"
           }
          ],
          "histogram2d": [
           {
            "colorbar": {
             "outlinewidth": 0,
             "ticks": ""
            },
            "colorscale": [
             [
              0,
              "#0d0887"
             ],
             [
              0.1111111111111111,
              "#46039f"
             ],
             [
              0.2222222222222222,
              "#7201a8"
             ],
             [
              0.3333333333333333,
              "#9c179e"
             ],
             [
              0.4444444444444444,
              "#bd3786"
             ],
             [
              0.5555555555555556,
              "#d8576b"
             ],
             [
              0.6666666666666666,
              "#ed7953"
             ],
             [
              0.7777777777777778,
              "#fb9f3a"
             ],
             [
              0.8888888888888888,
              "#fdca26"
             ],
             [
              1,
              "#f0f921"
             ]
            ],
            "type": "histogram2d"
           }
          ],
          "histogram2dcontour": [
           {
            "colorbar": {
             "outlinewidth": 0,
             "ticks": ""
            },
            "colorscale": [
             [
              0,
              "#0d0887"
             ],
             [
              0.1111111111111111,
              "#46039f"
             ],
             [
              0.2222222222222222,
              "#7201a8"
             ],
             [
              0.3333333333333333,
              "#9c179e"
             ],
             [
              0.4444444444444444,
              "#bd3786"
             ],
             [
              0.5555555555555556,
              "#d8576b"
             ],
             [
              0.6666666666666666,
              "#ed7953"
             ],
             [
              0.7777777777777778,
              "#fb9f3a"
             ],
             [
              0.8888888888888888,
              "#fdca26"
             ],
             [
              1,
              "#f0f921"
             ]
            ],
            "type": "histogram2dcontour"
           }
          ],
          "mesh3d": [
           {
            "colorbar": {
             "outlinewidth": 0,
             "ticks": ""
            },
            "type": "mesh3d"
           }
          ],
          "parcoords": [
           {
            "line": {
             "colorbar": {
              "outlinewidth": 0,
              "ticks": ""
             }
            },
            "type": "parcoords"
           }
          ],
          "pie": [
           {
            "automargin": true,
            "type": "pie"
           }
          ],
          "scatter": [
           {
            "fillpattern": {
             "fillmode": "overlay",
             "size": 10,
             "solidity": 0.2
            },
            "type": "scatter"
           }
          ],
          "scatter3d": [
           {
            "line": {
             "colorbar": {
              "outlinewidth": 0,
              "ticks": ""
             }
            },
            "marker": {
             "colorbar": {
              "outlinewidth": 0,
              "ticks": ""
             }
            },
            "type": "scatter3d"
           }
          ],
          "scattercarpet": [
           {
            "marker": {
             "colorbar": {
              "outlinewidth": 0,
              "ticks": ""
             }
            },
            "type": "scattercarpet"
           }
          ],
          "scattergeo": [
           {
            "marker": {
             "colorbar": {
              "outlinewidth": 0,
              "ticks": ""
             }
            },
            "type": "scattergeo"
           }
          ],
          "scattergl": [
           {
            "marker": {
             "colorbar": {
              "outlinewidth": 0,
              "ticks": ""
             }
            },
            "type": "scattergl"
           }
          ],
          "scattermapbox": [
           {
            "marker": {
             "colorbar": {
              "outlinewidth": 0,
              "ticks": ""
             }
            },
            "type": "scattermapbox"
           }
          ],
          "scatterpolar": [
           {
            "marker": {
             "colorbar": {
              "outlinewidth": 0,
              "ticks": ""
             }
            },
            "type": "scatterpolar"
           }
          ],
          "scatterpolargl": [
           {
            "marker": {
             "colorbar": {
              "outlinewidth": 0,
              "ticks": ""
             }
            },
            "type": "scatterpolargl"
           }
          ],
          "scatterternary": [
           {
            "marker": {
             "colorbar": {
              "outlinewidth": 0,
              "ticks": ""
             }
            },
            "type": "scatterternary"
           }
          ],
          "surface": [
           {
            "colorbar": {
             "outlinewidth": 0,
             "ticks": ""
            },
            "colorscale": [
             [
              0,
              "#0d0887"
             ],
             [
              0.1111111111111111,
              "#46039f"
             ],
             [
              0.2222222222222222,
              "#7201a8"
             ],
             [
              0.3333333333333333,
              "#9c179e"
             ],
             [
              0.4444444444444444,
              "#bd3786"
             ],
             [
              0.5555555555555556,
              "#d8576b"
             ],
             [
              0.6666666666666666,
              "#ed7953"
             ],
             [
              0.7777777777777778,
              "#fb9f3a"
             ],
             [
              0.8888888888888888,
              "#fdca26"
             ],
             [
              1,
              "#f0f921"
             ]
            ],
            "type": "surface"
           }
          ],
          "table": [
           {
            "cells": {
             "fill": {
              "color": "#EBF0F8"
             },
             "line": {
              "color": "white"
             }
            },
            "header": {
             "fill": {
              "color": "#C8D4E3"
             },
             "line": {
              "color": "white"
             }
            },
            "type": "table"
           }
          ]
         },
         "layout": {
          "annotationdefaults": {
           "arrowcolor": "#2a3f5f",
           "arrowhead": 0,
           "arrowwidth": 1
          },
          "autotypenumbers": "strict",
          "coloraxis": {
           "colorbar": {
            "outlinewidth": 0,
            "ticks": ""
           }
          },
          "colorscale": {
           "diverging": [
            [
             0,
             "#8e0152"
            ],
            [
             0.1,
             "#c51b7d"
            ],
            [
             0.2,
             "#de77ae"
            ],
            [
             0.3,
             "#f1b6da"
            ],
            [
             0.4,
             "#fde0ef"
            ],
            [
             0.5,
             "#f7f7f7"
            ],
            [
             0.6,
             "#e6f5d0"
            ],
            [
             0.7,
             "#b8e186"
            ],
            [
             0.8,
             "#7fbc41"
            ],
            [
             0.9,
             "#4d9221"
            ],
            [
             1,
             "#276419"
            ]
           ],
           "sequential": [
            [
             0,
             "#0d0887"
            ],
            [
             0.1111111111111111,
             "#46039f"
            ],
            [
             0.2222222222222222,
             "#7201a8"
            ],
            [
             0.3333333333333333,
             "#9c179e"
            ],
            [
             0.4444444444444444,
             "#bd3786"
            ],
            [
             0.5555555555555556,
             "#d8576b"
            ],
            [
             0.6666666666666666,
             "#ed7953"
            ],
            [
             0.7777777777777778,
             "#fb9f3a"
            ],
            [
             0.8888888888888888,
             "#fdca26"
            ],
            [
             1,
             "#f0f921"
            ]
           ],
           "sequentialminus": [
            [
             0,
             "#0d0887"
            ],
            [
             0.1111111111111111,
             "#46039f"
            ],
            [
             0.2222222222222222,
             "#7201a8"
            ],
            [
             0.3333333333333333,
             "#9c179e"
            ],
            [
             0.4444444444444444,
             "#bd3786"
            ],
            [
             0.5555555555555556,
             "#d8576b"
            ],
            [
             0.6666666666666666,
             "#ed7953"
            ],
            [
             0.7777777777777778,
             "#fb9f3a"
            ],
            [
             0.8888888888888888,
             "#fdca26"
            ],
            [
             1,
             "#f0f921"
            ]
           ]
          },
          "colorway": [
           "#636efa",
           "#EF553B",
           "#00cc96",
           "#ab63fa",
           "#FFA15A",
           "#19d3f3",
           "#FF6692",
           "#B6E880",
           "#FF97FF",
           "#FECB52"
          ],
          "font": {
           "color": "#2a3f5f"
          },
          "geo": {
           "bgcolor": "white",
           "lakecolor": "white",
           "landcolor": "#E5ECF6",
           "showlakes": true,
           "showland": true,
           "subunitcolor": "white"
          },
          "hoverlabel": {
           "align": "left"
          },
          "hovermode": "closest",
          "mapbox": {
           "style": "light"
          },
          "paper_bgcolor": "white",
          "plot_bgcolor": "#E5ECF6",
          "polar": {
           "angularaxis": {
            "gridcolor": "white",
            "linecolor": "white",
            "ticks": ""
           },
           "bgcolor": "#E5ECF6",
           "radialaxis": {
            "gridcolor": "white",
            "linecolor": "white",
            "ticks": ""
           }
          },
          "scene": {
           "xaxis": {
            "backgroundcolor": "#E5ECF6",
            "gridcolor": "white",
            "gridwidth": 2,
            "linecolor": "white",
            "showbackground": true,
            "ticks": "",
            "zerolinecolor": "white"
           },
           "yaxis": {
            "backgroundcolor": "#E5ECF6",
            "gridcolor": "white",
            "gridwidth": 2,
            "linecolor": "white",
            "showbackground": true,
            "ticks": "",
            "zerolinecolor": "white"
           },
           "zaxis": {
            "backgroundcolor": "#E5ECF6",
            "gridcolor": "white",
            "gridwidth": 2,
            "linecolor": "white",
            "showbackground": true,
            "ticks": "",
            "zerolinecolor": "white"
           }
          },
          "shapedefaults": {
           "line": {
            "color": "#2a3f5f"
           }
          },
          "ternary": {
           "aaxis": {
            "gridcolor": "white",
            "linecolor": "white",
            "ticks": ""
           },
           "baxis": {
            "gridcolor": "white",
            "linecolor": "white",
            "ticks": ""
           },
           "bgcolor": "#E5ECF6",
           "caxis": {
            "gridcolor": "white",
            "linecolor": "white",
            "ticks": ""
           }
          },
          "title": {
           "x": 0.05
          },
          "xaxis": {
           "automargin": true,
           "gridcolor": "white",
           "linecolor": "white",
           "ticks": "",
           "title": {
            "standoff": 15
           },
           "zerolinecolor": "white",
           "zerolinewidth": 2
          },
          "yaxis": {
           "automargin": true,
           "gridcolor": "white",
           "linecolor": "white",
           "ticks": "",
           "title": {
            "standoff": 15
           },
           "zerolinecolor": "white",
           "zerolinewidth": 2
          }
         }
        },
        "title": {
         "text": "SPY Chart Data"
        },
        "xaxis": {
         "rangeselector": {
          "buttons": [
           {
            "count": 5,
            "label": "5m",
            "step": "minute",
            "stepmode": "backward"
           },
           {
            "count": 15,
            "label": "15m",
            "step": "minute",
            "stepmode": "backward"
           },
           {
            "count": 30,
            "label": "30m",
            "step": "minute",
            "stepmode": "backward"
           },
           {
            "count": 1,
            "label": "1h",
            "step": "hour",
            "stepmode": "todate"
           },
           {
            "count": 4,
            "label": "4h",
            "step": "hour",
            "stepmode": "todate"
           },
           {
            "step": "all"
           }
          ]
         },
         "rangeslider": {
          "visible": true
         }
        },
        "yaxis": {
         "range": [
          474.8900146484375,
          476.6600036621094
         ],
         "title": {
          "text": "Stock Price (USD)"
         }
        }
       }
      }
     },
     "metadata": {},
     "output_type": "display_data"
    }
   ],
   "source": [
    "for stock in portfolio:\n",
    "    stock_data = pd.read_sql_query(\"SELECT * FROM \"+stock+\" WHERE DATE BETWEEN DATE('now', '-1 days') AND DATE('now')\",engine)\n",
    "    stock_data.index = stock_data[\"Date\"]\n",
    "    plotChart(stock_data, stock)\n",
    "    # print(stock_data)\n",
    "    "
   ]
  },
  {
   "cell_type": "code",
   "execution_count": 264,
   "metadata": {},
   "outputs": [],
   "source": [
    "# create method to use the existing database engine    \n",
    "def analyse_data():\n",
    "    engine = initialize_DB()\n",
    "    overbought_days = pd.DataFrame()\n",
    "\n",
    "    for stock in portfolio:\n",
    "        # Example 1: Find all days with RSI above 70 (overbought)\n",
    "        overbought_days = pd.concat([overbought_days, pd.read_sql_query(\n",
    "        \"SELECT DATE, SYMBOL, CLOSE, RSI FROM \"+stock+\" WHERE RSI > 70 AND DATE BETWEEN DATE('now', '-5 days') AND DATE('now')\", engine)], ignore_index=True)\n",
    "\n",
    "    # # Example 2: Calculate average volume for days with MA20 above Close\n",
    "    # avg_vol_above_ma20 = pd.read_sql_query(\n",
    "    #     \"SELECT * FROM AAPL WHERE MA21 > Close\", engine)\n",
    "    \n",
    "    overbought_days.to_sql(\"Overbought_stocks\", engine, index=False, if_exists=\"replace\")\n",
    "    print(overbought_days)\n"
   ]
  },
  {
   "cell_type": "code",
   "execution_count": 265,
   "metadata": {},
   "outputs": [
    {
     "name": "stdout",
     "output_type": "stream",
     "text": [
      "                           Date Symbol       Close        RSI\n",
      "0    2023-12-27 13:55:00.000000   AAPL  193.381805  79.663264\n",
      "1    2023-12-27 13:50:00.000000   AAPL  193.429993  85.697857\n",
      "2    2023-12-27 13:45:00.000000   AAPL  193.400101  79.339310\n",
      "3    2023-12-27 13:40:00.000000   AAPL  193.274994  72.912301\n",
      "4    2023-12-27 13:35:00.000000   AAPL  193.110001  74.220382\n",
      "..                          ...    ...         ...        ...\n",
      "190  2023-12-26 10:30:00.000000    SPY  475.040009  86.180034\n",
      "191  2023-12-26 10:25:00.000000    SPY  474.864990  87.911144\n",
      "192  2023-12-26 10:20:00.000000    SPY  474.899994  80.807882\n",
      "193  2023-12-26 10:15:00.000000    SPY  474.850006  81.113187\n",
      "194  2023-12-26 10:10:00.000000    SPY  474.885010  74.182129\n",
      "\n",
      "[195 rows x 4 columns]\n"
     ]
    }
   ],
   "source": [
    "analyse_data()"
   ]
  },
  {
   "cell_type": "code",
   "execution_count": null,
   "metadata": {},
   "outputs": [],
   "source": [
    "\n",
    "\n"
   ]
  },
  {
   "cell_type": "code",
   "execution_count": null,
   "metadata": {},
   "outputs": [],
   "source": []
  },
  {
   "cell_type": "code",
   "execution_count": 266,
   "metadata": {},
   "outputs": [],
   "source": [
    "#to kill or dispose the database\n",
    "# engine.dispose()"
   ]
  },
  {
   "cell_type": "code",
   "execution_count": 267,
   "metadata": {},
   "outputs": [],
   "source": [
    "#delete table from DB\n",
    "# pd.read_sql_query(\"DROP TABLE overbought_days\", engine)"
   ]
  },
  {
   "cell_type": "code",
   "execution_count": null,
   "metadata": {},
   "outputs": [],
   "source": []
  }
 ],
 "metadata": {
  "kernelspec": {
   "display_name": "Python 3",
   "language": "python",
   "name": "python3"
  },
  "language_info": {
   "codemirror_mode": {
    "name": "ipython",
    "version": 3
   },
   "file_extension": ".py",
   "mimetype": "text/x-python",
   "name": "python",
   "nbconvert_exporter": "python",
   "pygments_lexer": "ipython3",
   "version": "3.11.7"
  }
 },
 "nbformat": 4,
 "nbformat_minor": 2
}
